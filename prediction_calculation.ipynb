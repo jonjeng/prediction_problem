{
 "cells": [
  {
   "cell_type": "markdown",
   "metadata": {},
   "source": [
    "## The following is an attempt to predict future cancels in the month of January 2017."
   ]
  },
  {
   "cell_type": "code",
   "execution_count": 1,
   "metadata": {
    "collapsed": true
   },
   "outputs": [],
   "source": [
    "import pandas as pd\n",
    "import numpy as np\n",
    "import sys\n",
    "\n",
    "from datetime import datetime, timedelta\n",
    "from matplotlib import pyplot as plt\n",
    "import tensorflow as tf\n",
    "from sklearn.model_selection import train_test_split\n",
    "from sklearn.metrics import classification_report,confusion_matrix\n",
    "import seaborn as sns\n",
    "%matplotlib inline"
   ]
  },
  {
   "cell_type": "code",
   "execution_count": 2,
   "metadata": {
    "collapsed": true
   },
   "outputs": [],
   "source": [
    "claimDF = pd.read_csv('ClaimLevel.csv')\n",
    "policyDF = pd.read_csv('PolicyLevel.csv')"
   ]
  },
  {
   "cell_type": "code",
   "execution_count": 3,
   "metadata": {},
   "outputs": [
    {
     "data": {
      "text/html": [
       "<div>\n",
       "<style>\n",
       "    .dataframe thead tr:only-child th {\n",
       "        text-align: right;\n",
       "    }\n",
       "\n",
       "    .dataframe thead th {\n",
       "        text-align: left;\n",
       "    }\n",
       "\n",
       "    .dataframe tbody tr th {\n",
       "        vertical-align: top;\n",
       "    }\n",
       "</style>\n",
       "<table border=\"1\" class=\"dataframe\">\n",
       "  <thead>\n",
       "    <tr style=\"text-align: right;\">\n",
       "      <th></th>\n",
       "      <th>PolicyId</th>\n",
       "      <th>ClaimDate</th>\n",
       "      <th>ClaimedAmount</th>\n",
       "      <th>PaidAmount</th>\n",
       "    </tr>\n",
       "  </thead>\n",
       "  <tbody>\n",
       "    <tr>\n",
       "      <th>0</th>\n",
       "      <td>148971</td>\n",
       "      <td>2016-02-11</td>\n",
       "      <td>924.39</td>\n",
       "      <td>814.27</td>\n",
       "    </tr>\n",
       "    <tr>\n",
       "      <th>1</th>\n",
       "      <td>566332</td>\n",
       "      <td>2016-01-20</td>\n",
       "      <td>155.43</td>\n",
       "      <td>0.00</td>\n",
       "    </tr>\n",
       "    <tr>\n",
       "      <th>2</th>\n",
       "      <td>221990</td>\n",
       "      <td>2016-01-14</td>\n",
       "      <td>1579.88</td>\n",
       "      <td>1136.89</td>\n",
       "    </tr>\n",
       "    <tr>\n",
       "      <th>3</th>\n",
       "      <td>568257</td>\n",
       "      <td>2016-01-13</td>\n",
       "      <td>220.33</td>\n",
       "      <td>39.89</td>\n",
       "    </tr>\n",
       "    <tr>\n",
       "      <th>4</th>\n",
       "      <td>403218</td>\n",
       "      <td>2016-01-08</td>\n",
       "      <td>46.11</td>\n",
       "      <td>13.87</td>\n",
       "    </tr>\n",
       "  </tbody>\n",
       "</table>\n",
       "</div>"
      ],
      "text/plain": [
       "   PolicyId   ClaimDate  ClaimedAmount  PaidAmount\n",
       "0    148971  2016-02-11         924.39      814.27\n",
       "1    566332  2016-01-20         155.43        0.00\n",
       "2    221990  2016-01-14        1579.88     1136.89\n",
       "3    568257  2016-01-13         220.33       39.89\n",
       "4    403218  2016-01-08          46.11       13.87"
      ]
     },
     "execution_count": 3,
     "metadata": {},
     "output_type": "execute_result"
    }
   ],
   "source": [
    "claimDF.head()"
   ]
  },
  {
   "cell_type": "code",
   "execution_count": 4,
   "metadata": {},
   "outputs": [
    {
     "data": {
      "text/html": [
       "<div>\n",
       "<style>\n",
       "    .dataframe thead tr:only-child th {\n",
       "        text-align: right;\n",
       "    }\n",
       "\n",
       "    .dataframe thead th {\n",
       "        text-align: left;\n",
       "    }\n",
       "\n",
       "    .dataframe tbody tr th {\n",
       "        vertical-align: top;\n",
       "    }\n",
       "</style>\n",
       "<table border=\"1\" class=\"dataframe\">\n",
       "  <thead>\n",
       "    <tr style=\"text-align: right;\">\n",
       "      <th></th>\n",
       "      <th>PolicyId</th>\n",
       "      <th>EnrollDate</th>\n",
       "      <th>CancelDate</th>\n",
       "      <th>MonthlyPremium</th>\n",
       "    </tr>\n",
       "  </thead>\n",
       "  <tbody>\n",
       "    <tr>\n",
       "      <th>0</th>\n",
       "      <td>92597</td>\n",
       "      <td>2010-12-07</td>\n",
       "      <td>NaN</td>\n",
       "      <td>34.54</td>\n",
       "    </tr>\n",
       "    <tr>\n",
       "      <th>1</th>\n",
       "      <td>92808</td>\n",
       "      <td>2010-11-09</td>\n",
       "      <td>NaN</td>\n",
       "      <td>18.54</td>\n",
       "    </tr>\n",
       "    <tr>\n",
       "      <th>2</th>\n",
       "      <td>93090</td>\n",
       "      <td>2010-11-11</td>\n",
       "      <td>NaN</td>\n",
       "      <td>23.53</td>\n",
       "    </tr>\n",
       "    <tr>\n",
       "      <th>3</th>\n",
       "      <td>93122</td>\n",
       "      <td>2010-11-11</td>\n",
       "      <td>NaN</td>\n",
       "      <td>44.02</td>\n",
       "    </tr>\n",
       "    <tr>\n",
       "      <th>4</th>\n",
       "      <td>93133</td>\n",
       "      <td>2010-11-11</td>\n",
       "      <td>NaN</td>\n",
       "      <td>32.46</td>\n",
       "    </tr>\n",
       "  </tbody>\n",
       "</table>\n",
       "</div>"
      ],
      "text/plain": [
       "   PolicyId  EnrollDate CancelDate  MonthlyPremium\n",
       "0     92597  2010-12-07        NaN           34.54\n",
       "1     92808  2010-11-09        NaN           18.54\n",
       "2     93090  2010-11-11        NaN           23.53\n",
       "3     93122  2010-11-11        NaN           44.02\n",
       "4     93133  2010-11-11        NaN           32.46"
      ]
     },
     "execution_count": 4,
     "metadata": {},
     "output_type": "execute_result"
    }
   ],
   "source": [
    "policyDF.head()"
   ]
  },
  {
   "cell_type": "markdown",
   "metadata": {},
   "source": [
    "## Checking Data Quality\n",
    "\n",
    "***\n",
    "\n",
    "Before making predictions, it's helpful to ascertain the integrity of the information we're using. Our prediction quality might improve if we remove erroneous data. Policy ID numbers carry little meaning and are just unique identifiers, so there is not much of a chance of quality issues with regard to these. In the absence of other information, such as the geographic location of claims associated with a policy or providers with whom claims are solicited, errors in the numbers are difficult to identify or make sense of. Thus, we'll focus more on the other information - policy enrollment and cancellation dates, as well as monthly premiums.\n",
    "\n",
    "Beginning with monthly premiums, we see that there are no negative values (an obvious error) but there are five values that do not help to current prediction (e.g., NULL values) - the count is 99,995 but we know there are 100,000 records. It would be helpful to remove those before proceeding"
   ]
  },
  {
   "cell_type": "code",
   "execution_count": 5,
   "metadata": {
    "scrolled": true
   },
   "outputs": [
    {
     "data": {
      "text/plain": [
       "count    99995.000000\n",
       "mean        27.429644\n",
       "std         13.084535\n",
       "min          5.700000\n",
       "25%         18.530000\n",
       "50%         24.750000\n",
       "75%         32.990000\n",
       "max        171.610000\n",
       "Name: MonthlyPremium, dtype: float64"
      ]
     },
     "execution_count": 5,
     "metadata": {},
     "output_type": "execute_result"
    }
   ],
   "source": [
    "policyDF['MonthlyPremium'].describe()"
   ]
  },
  {
   "cell_type": "code",
   "execution_count": 6,
   "metadata": {},
   "outputs": [
    {
     "data": {
      "text/plain": [
       "PolicyId              0\n",
       "EnrollDate            0\n",
       "CancelDate        86781\n",
       "MonthlyPremium        5\n",
       "dtype: int64"
      ]
     },
     "execution_count": 6,
     "metadata": {},
     "output_type": "execute_result"
    }
   ],
   "source": [
    "policyDF.isnull().sum()"
   ]
  },
  {
   "cell_type": "code",
   "execution_count": 7,
   "metadata": {},
   "outputs": [
    {
     "data": {
      "text/plain": [
       "100000"
      ]
     },
     "execution_count": 7,
     "metadata": {},
     "output_type": "execute_result"
    }
   ],
   "source": [
    "policyDF['MonthlyPremium'].size"
   ]
  },
  {
   "cell_type": "markdown",
   "metadata": {},
   "source": [
    "There is, relatively speaking, a small number of monthly premium values so it seems it would be safe to drop these."
   ]
  },
  {
   "cell_type": "code",
   "execution_count": 8,
   "metadata": {},
   "outputs": [
    {
     "data": {
      "text/html": [
       "<div>\n",
       "<style>\n",
       "    .dataframe thead tr:only-child th {\n",
       "        text-align: right;\n",
       "    }\n",
       "\n",
       "    .dataframe thead th {\n",
       "        text-align: left;\n",
       "    }\n",
       "\n",
       "    .dataframe tbody tr th {\n",
       "        vertical-align: top;\n",
       "    }\n",
       "</style>\n",
       "<table border=\"1\" class=\"dataframe\">\n",
       "  <thead>\n",
       "    <tr style=\"text-align: right;\">\n",
       "      <th></th>\n",
       "      <th>PolicyId</th>\n",
       "      <th>EnrollDate</th>\n",
       "      <th>CancelDate</th>\n",
       "      <th>MonthlyPremium</th>\n",
       "    </tr>\n",
       "  </thead>\n",
       "  <tbody>\n",
       "    <tr>\n",
       "      <th>9932</th>\n",
       "      <td>853115</td>\n",
       "      <td>2016-04-19</td>\n",
       "      <td>2016-04-19</td>\n",
       "      <td>NaN</td>\n",
       "    </tr>\n",
       "    <tr>\n",
       "      <th>19108</th>\n",
       "      <td>26042</td>\n",
       "      <td>2009-03-05</td>\n",
       "      <td>2016-01-06</td>\n",
       "      <td>NaN</td>\n",
       "    </tr>\n",
       "    <tr>\n",
       "      <th>24364</th>\n",
       "      <td>34475</td>\n",
       "      <td>2010-01-14</td>\n",
       "      <td>NaN</td>\n",
       "      <td>NaN</td>\n",
       "    </tr>\n",
       "    <tr>\n",
       "      <th>81853</th>\n",
       "      <td>823753</td>\n",
       "      <td>2016-02-12</td>\n",
       "      <td>2016-10-12</td>\n",
       "      <td>NaN</td>\n",
       "    </tr>\n",
       "    <tr>\n",
       "      <th>84772</th>\n",
       "      <td>458540</td>\n",
       "      <td>2014-03-27</td>\n",
       "      <td>2016-10-12</td>\n",
       "      <td>NaN</td>\n",
       "    </tr>\n",
       "  </tbody>\n",
       "</table>\n",
       "</div>"
      ],
      "text/plain": [
       "       PolicyId  EnrollDate  CancelDate  MonthlyPremium\n",
       "9932     853115  2016-04-19  2016-04-19             NaN\n",
       "19108     26042  2009-03-05  2016-01-06             NaN\n",
       "24364     34475  2010-01-14         NaN             NaN\n",
       "81853    823753  2016-02-12  2016-10-12             NaN\n",
       "84772    458540  2014-03-27  2016-10-12             NaN"
      ]
     },
     "execution_count": 8,
     "metadata": {},
     "output_type": "execute_result"
    }
   ],
   "source": [
    "policyDF[policyDF['MonthlyPremium'].isnull()]"
   ]
  },
  {
   "cell_type": "code",
   "execution_count": 9,
   "metadata": {
    "collapsed": true
   },
   "outputs": [],
   "source": [
    "policyDF = policyDF[np.isfinite(policyDF['MonthlyPremium'])]"
   ]
  },
  {
   "cell_type": "code",
   "execution_count": 10,
   "metadata": {},
   "outputs": [
    {
     "data": {
      "text/plain": [
       "PolicyId              0\n",
       "EnrollDate            0\n",
       "CancelDate        86780\n",
       "MonthlyPremium        0\n",
       "dtype: int64"
      ]
     },
     "execution_count": 10,
     "metadata": {},
     "output_type": "execute_result"
    }
   ],
   "source": [
    "policyDF.isnull().sum()"
   ]
  },
  {
   "cell_type": "code",
   "execution_count": 11,
   "metadata": {},
   "outputs": [
    {
     "data": {
      "text/plain": [
       "<matplotlib.axes._subplots.AxesSubplot at 0x7f7c88a82550>"
      ]
     },
     "execution_count": 11,
     "metadata": {},
     "output_type": "execute_result"
    },
    {
     "data": {
      "image/png": "[encoded data removed]",
      "text/plain": [
       "<matplotlib.figure.Figure at 0x7f7c88a55710>"
      ]
     },
     "metadata": {},
     "output_type": "display_data"
    }
   ],
   "source": [
    "plt.figure(figsize=(15,6))\n",
    "sns.distplot(policyDF['MonthlyPremium'].dropna(), kde=False)"
   ]
  },
  {
   "cell_type": "markdown",
   "metadata": {},
   "source": [
    "Further, monthly premiums seem to lie in a sensible right-tailed distribution, with a sensible minimum and without many relatively high values. If we drop the null values, the data still apears sensible. It seems that these values can be used as a predictor. Their predictive power is somewhat dubious, but nevertheless, it seems they can be used as such without great concern."
   ]
  },
  {
   "cell_type": "markdown",
   "metadata": {},
   "source": [
    "Next, we consider policy enrollment and cancellation dates. It is difficult to assess whether said dates are erroneous. However, what we can do is evaluate the difference between those two dates to obtain the age of a policy. Since we don't know when data collection ended, policies with null CancelDate values will default to being labelled as having an infinite (thus far) duration."
   ]
  },
  {
   "cell_type": "code",
   "execution_count": 12,
   "metadata": {
    "collapsed": true
   },
   "outputs": [],
   "source": [
    "def pduration(row):\n",
    "    start = row['EnrollDate']\n",
    "    end = row['CancelDate']\n",
    "    if pd.isnull(end):\n",
    "        \"\"\"\n",
    "        If the date of cancellation is null, I assume the policy has not been cancelled.\n",
    "        Assuming that the data ceased on December 31, 2016, the duration of such policies is\n",
    "          therefore the difference between January 1, 2017 and the given enrollment date\n",
    "        \"\"\"\n",
    "        return int((datetime(2017,1,1) - datetime.strptime(start, '%Y-%m-%d')).days)\n",
    "    else:\n",
    "        \"\"\"\n",
    "        Return the difference in days between the enroll and cancel dates. \n",
    "        The enroll date should precede the cancel date\n",
    "        \"\"\"\n",
    "        return int((datetime.strptime(end, '%Y-%m-%d') - datetime.strptime(start, '%Y-%m-%d')).days)\n",
    "\n",
    "policyDF['Duration'] = policyDF.apply(pduration, axis=1)"
   ]
  },
  {
   "cell_type": "code",
   "execution_count": 13,
   "metadata": {},
   "outputs": [
    {
     "data": {
      "text/plain": [
       "<matplotlib.axes._subplots.AxesSubplot at 0x7f7c8527d4a8>"
      ]
     },
     "execution_count": 13,
     "metadata": {},
     "output_type": "execute_result"
    },
    {
     "data": {
      "image/png": "[encoded data removed]",
      "text/plain": [
       "<matplotlib.figure.Figure at 0x7f7c853769e8>"
      ]
     },
     "metadata": {},
     "output_type": "display_data"
    }
   ],
   "source": [
    "plt.figure(figsize=(15,6))\n",
    "sns.distplot(policyDF['Duration'].dropna(), kde=False)"
   ]
  },
  {
   "cell_type": "markdown",
   "metadata": {},
   "source": [
    "There are no negative durations, which would indicate invalid enrollment and cancel dates. Again, we have a right-tailed distribution, so high durations are relatively infrequent. As such, even records with erroneously late cancellation dates, if we could detect these, are unlikely to heavily influence predictions."
   ]
  },
  {
   "cell_type": "markdown",
   "metadata": {},
   "source": [
    "In the absence of other information, such as claimed services, it is difficult to assess the legitimacy of claim amounts. Similarly, the correctness of entered paid amounts is difficult to evaluate, as said amounts *should* be less than claim amounts, but the degree of difference is not definite and it would not be impossible for a paid amount to be more than the claim amount. Further, large differences suggest data entry errors but may in fact be accurate and may have motivated a customer's decision as to whether to cancel a policy or not."
   ]
  },
  {
   "cell_type": "markdown",
   "metadata": {},
   "source": [
    "***\n",
    "\n",
    "## Exploration of the Data\n",
    "\n",
    "Now that we've dealt with some of the data quality issues, let us begin with a relatively naive evaluation. This will show whether further investigation is warranted. If no data is given regarding cancelled policies, it is difficult to say whether policies will be cancelled. In the following, it will be assumed that null CancelDate values (i.e., NaN) indicate policies that have not been cancelled. While it seems plausible that a more insiduous issue is at fault, such as incomplete or erroneous data collection, it does not seem likely that such possibilities may be responsible for such a large amount of null values. The vast majority of CancelDate values are null and it seems sensible that policies without dates of cancellation have not been cancelled. Further, while it seems important to acknowledge that data quality may impede the accuracy of predictions, such will be disregarded in the following."
   ]
  },
  {
   "cell_type": "code",
   "execution_count": 14,
   "metadata": {},
   "outputs": [
    {
     "data": {
      "text/plain": [
       "count          13215\n",
       "unique           365\n",
       "top       2016-09-08\n",
       "freq             113\n",
       "Name: CancelDate, dtype: object"
      ]
     },
     "execution_count": 14,
     "metadata": {},
     "output_type": "execute_result"
    }
   ],
   "source": [
    "policyDF['CancelDate'].describe()"
   ]
  },
  {
   "cell_type": "markdown",
   "metadata": {},
   "source": [
    "In conjunction with the fact that there are 100,000 recorded policies, as of now only about 13.2% of policyholders abandon the service. This is solidified by the following calculation:"
   ]
  },
  {
   "cell_type": "code",
   "execution_count": 15,
   "metadata": {},
   "outputs": [
    {
     "data": {
      "text/plain": [
       "13.219660983049152"
      ]
     },
     "execution_count": 15,
     "metadata": {},
     "output_type": "execute_result"
    }
   ],
   "source": [
    "(13219 / policyDF['CancelDate'].size) * 100"
   ]
  },
  {
   "cell_type": "markdown",
   "metadata": {},
   "source": [
    "Alternatively, using the assumption that null cancellation dates indicate that a policy has not be cancelled, we can use the ratio of the number of null values in the CancelDate column to the number of given records to find that about 86.8% (100 - 13.2) of customers have not cancelled their policies:"
   ]
  },
  {
   "cell_type": "code",
   "execution_count": 16,
   "metadata": {},
   "outputs": [
    {
     "data": {
      "text/plain": [
       "86.784339216960845"
      ]
     },
     "execution_count": 16,
     "metadata": {},
     "output_type": "execute_result"
    }
   ],
   "source": [
    "(sum(policyDF['CancelDate'].isnull()) / policyDF['CancelDate'].size) * 100"
   ]
  },
  {
   "cell_type": "markdown",
   "metadata": {},
   "source": [
    "Using this figure, we can naively predict that at most 13.2% of policies will be cancelled at some point in time. In truth, this figure can only be considered to be very rough, as not much information was used to calculate it and predicted cancellations include the possibility of a policy being cancelled in any of the coming months - not merely the month of January in 2017. Further, this model exactly fits the given data and likely would not make accurate predictions given any other data. Thus, further investigation is warranted.\n",
    "\n",
    "***\n",
    "\n",
    "It seems intuitive to calculate policy duration. The figure can be used to superficially check the legitimacy of the given dates and perhaps can be used to predict the probability of a policy being cancelled in January 2017 and which policies will either be cancelled later or kept permanently."
   ]
  },
  {
   "cell_type": "code",
   "execution_count": 17,
   "metadata": {
    "collapsed": true
   },
   "outputs": [],
   "source": [
    "def convertTime(string):\n",
    "    if pd.isnull(string):\n",
    "        return string\n",
    "    return datetime.strptime(string, '%Y-%m-%d')\n",
    "\n",
    "def convertDate(string, kind):\n",
    "    if pd.isnull(string):\n",
    "        return string\n",
    "    \"\"\"\n",
    "    Return the date in a useful format.\n",
    "    Cancellation dates all occur in the year of 2016 so inclusion of the year is unnecessary\n",
    "    \"\"\"\n",
    "    if kind == 'enroll':\n",
    "        return string.strftime(\"%b %Y\")\n",
    "    return string.strftime(\"%b\")\n",
    "\n",
    "def extractFromDate(d, kind):\n",
    "    if pd.isnull(d):\n",
    "        return d\n",
    "    if kind == 'm':\n",
    "        return int(d.strftime('%-m'))\n",
    "    return int(d.strftime('%Y'))"
   ]
  },
  {
   "cell_type": "markdown",
   "metadata": {},
   "source": [
    "Let us take a quick look at our duration values."
   ]
  },
  {
   "cell_type": "code",
   "execution_count": 18,
   "metadata": {},
   "outputs": [
    {
     "name": "stdout",
     "output_type": "stream",
     "text": [
      "count    99995.000000\n",
      "mean      1018.492605\n",
      "std        933.634760\n",
      "min          0.000000\n",
      "25%        318.000000\n",
      "50%        748.000000\n",
      "75%       1456.000000\n",
      "max       5868.000000\n",
      "Name: Duration, dtype: float64\n"
     ]
    }
   ],
   "source": [
    "print(policyDF['Duration'].dropna().describe())"
   ]
  },
  {
   "cell_type": "markdown",
   "metadata": {},
   "source": [
    "We hypothesize that a majority of customers (about 68%, assuming that cancellation is normally distributed) likely will not leave in January 2017 if the policies of said customers have a duration in the range of 85 to 1951 days (approximately `1018 - 933` and `1018 + 933`, respectively) by January 2017. This only provides an extremely rough estimate and does not provide a specific probability.\n",
    "\n",
    "***\n",
    "\n",
    "Before we go any further, it seems it would be nice to know a bit about the dates we are dealing with."
   ]
  },
  {
   "cell_type": "code",
   "execution_count": 19,
   "metadata": {},
   "outputs": [
    {
     "data": {
      "text/plain": [
       "count                   13215\n",
       "unique                    365\n",
       "top       2016-09-08 00:00:00\n",
       "freq                      113\n",
       "first     2016-01-01 00:00:00\n",
       "last      2016-12-31 00:00:00\n",
       "Name: CancelDate, dtype: object"
      ]
     },
     "execution_count": 19,
     "metadata": {},
     "output_type": "execute_result"
    }
   ],
   "source": [
    "policyDF['EnrollDate'] = [convertTime(val) for val in policyDF['EnrollDate']]\n",
    "policyDF['CancelDate'] = [convertTime(val) for val in policyDF['CancelDate']]\n",
    "policyDF['EnrollDate2'] = [convertDate(date, 'enroll') for date in policyDF['EnrollDate']]\n",
    "policyDF['EnrollYear'] = [extractFromDate(d,'y') for d in policyDF['EnrollDate']]\n",
    "policyDF['EnrollMonth'] = [extractFromDate(d,'m') for d in policyDF['EnrollDate']]\n",
    "policyDF['CancelMonth'] = [extractFromDate(d,'m') for d in policyDF['CancelDate']]\n",
    "\n",
    "policyDF['CancelDate'].describe()"
   ]
  },
  {
   "cell_type": "markdown",
   "metadata": {},
   "source": [
    "From the previous cell we see that the policy cancellation dates span the entirety of the year 2016.\n",
    "\n",
    "Policy enrollment and cancellation dates are a significant portion of the information given, it seems reasonable to investigate their correlatedness with cancellation, including the date of cancellation and the age of a policy when it is cancelled. The previous (given policy cancellation dates all occur in the year 2016) can be used to inform this investigation.\n",
    "\n",
    "Let us first look at the given enrollment dates."
   ]
  },
  {
   "cell_type": "code",
   "execution_count": 20,
   "metadata": {},
   "outputs": [
    {
     "data": {
      "text/plain": [
       "<matplotlib.axes._subplots.AxesSubplot at 0x7f7c85201400>"
      ]
     },
     "execution_count": 20,
     "metadata": {},
     "output_type": "execute_result"
    },
    {
     "data": {
      "image/png": "[encoded data removed]",
      "text/plain": [
       "<matplotlib.figure.Figure at 0x7f7c8485d470>"
      ]
     },
     "metadata": {},
     "output_type": "display_data"
    }
   ],
   "source": [
    "plt.figure(figsize=(15,6))\n",
    "sns.countplot(data=policyDF, x='EnrollDate')"
   ]
  },
  {
   "cell_type": "markdown",
   "metadata": {},
   "source": [
    "It appears the number of enrollments grew with time. With this in mind, let us now see if there is an association between enrollment date and whether a policy is cancelled.\n",
    "\n",
    "Initially, we will consider only policies that have been cancelled."
   ]
  },
  {
   "cell_type": "code",
   "execution_count": 21,
   "metadata": {
    "collapsed": true
   },
   "outputs": [],
   "source": [
    "policyDF['Cancelled'] = policyDF['CancelDate'].notnull()\n",
    "cancelledPoliciesDF = policyDF[policyDF['Cancelled']]"
   ]
  },
  {
   "cell_type": "code",
   "execution_count": 22,
   "metadata": {},
   "outputs": [
    {
     "data": {
      "text/plain": [
       "<matplotlib.axes._subplots.AxesSubplot at 0x7f7c8465b518>"
      ]
     },
     "execution_count": 22,
     "metadata": {},
     "output_type": "execute_result"
    },
    {
     "data": {
      "image/png": "[encoded data removed]",
      "text/plain": [
       "<matplotlib.figure.Figure at 0x7f7c7a90fda0>"
      ]
     },
     "metadata": {},
     "output_type": "display_data"
    }
   ],
   "source": [
    "plt.figure(figsize=(15,6))\n",
    "sns.countplot(data=cancelledPoliciesDF, x='EnrollDate')"
   ]
  },
  {
   "cell_type": "markdown",
   "metadata": {},
   "source": [
    "The number of enrollments in policies that were eventually cancelled grew with time, but this is reasonable considering that the customer base also grew. For the most part, there seems to be no significant association. The exception would be that the number of customers that would eventually defect spiked then sharply decreased in recent times (i.e., the transition from purple to red bars), suggesting that loyalty was inspired in existing customers, newer customers recruited around that time tended to be relatively loyal, or perhaps another reason. In light of this observation, perhaps it is the case that enrollment dates could inform predictions. Let us examine this observation in more detail with another visualization, as simply zooming in does not seem to be the best strategy."
   ]
  },
  {
   "cell_type": "code",
   "execution_count": 23,
   "metadata": {},
   "outputs": [
    {
     "data": {
      "text/plain": [
       "<matplotlib.axes._subplots.AxesSubplot at 0x7f7c85191c88>"
      ]
     },
     "execution_count": 23,
     "metadata": {},
     "output_type": "execute_result"
    },
    {
     "data": {
      "image/png": "[encoded data removed]",
      "text/plain": [
       "<matplotlib.figure.Figure at 0x7f7c84233b00>"
      ]
     },
     "metadata": {},
     "output_type": "display_data"
    }
   ],
   "source": [
    "plt.figure(figsize=(25,6))\n",
    "sns.countplot(data=cancelledPoliciesDF[cancelledPoliciesDF['EnrollYear'] > 2013], x='EnrollDate2')"
   ]
  },
  {
   "cell_type": "markdown",
   "metadata": {},
   "source": [
    "While it appears that indeed some enrollment dates are associated with more or fewer cancellations than other enrollment dates, the association is not large. Coupled with the fact that the number of enrollments and cancellations both, for the most part, grew smoothly, it does not seem wise to use enrollment date as a predictor of cancellation in January 2017. Up to a certain point (perhaps mid 2015 to early 2016), a later enrollment date should suggest a higher likelihood of cancellation. However, after that point, the trend seems to reverse. This may be because policyholders tend to wait for some time before deciding whether or not to cancel a policy and not enough time has elapsed yet. However, it may also be the case that it takes a large amount of time for data to be entered into the system and to propagate to all users. Further possibilities exist and this visualization did not entirely clear up the matter. At this time, we will assume that enrollment dates do in fact have some predictive power as to when a policy will be cancelled, but not whether a policy will be cancelled. With this, enrollment dates can be used to estimate a _likelihood_ of a policy being cancelled in January 2017"
   ]
  },
  {
   "cell_type": "code",
   "execution_count": 24,
   "metadata": {
    "collapsed": true
   },
   "outputs": [],
   "source": [
    "cancelRatios = pd.DataFrame(np.array([[(datetime(2014,1,1) + i * timedelta(days=31)).strftime('%b %Y') for i in range(36)],\n",
    "                            [0] * 36, [0] * 36, [0] * 36]).T, \n",
    "                            columns=[\"EnrollDate\", \"Ratio\", \"Total\", \"Count\"])"
   ]
  },
  {
   "cell_type": "code",
   "execution_count": 25,
   "metadata": {
    "collapsed": true
   },
   "outputs": [],
   "source": [
    "def numer(s):\n",
    "    vals = {'Jan': 1,\n",
    "           'Feb' : 2,\n",
    "           'Mar' : 3,\n",
    "           'Apr' : 4,\n",
    "           'May' : 5,\n",
    "           'Jun' : 6,\n",
    "           'Jul' : 7,\n",
    "           'Aug' : 8,\n",
    "           'Sep' : 9,\n",
    "           'Oct' : 10,\n",
    "           'Nov' : 11,\n",
    "           'Dec' : 12}\n",
    "    return int(s[-2:]) * vals[s[:3]]\n",
    "\n",
    "dl = list(policyDF['EnrollDate2'].unique())\n",
    "monthRatios = dict((d,0) for d in dl)\n",
    "vals = policyDF['EnrollDate2'].value_counts()\n",
    "for key in monthRatios:\n",
    "    total = vals[key]\n",
    "    cancellationData = policyDF[policyDF['EnrollDate2'] == key]['Cancelled'].value_counts()\n",
    "    if True in cancellationData:\n",
    "        monthRatios[key] = cancellationData[True] / total\n",
    "\n",
    "monthRatiosDF = pd.DataFrame(list(monthRatios.items()), columns=['EnrollDate', 'Ratio'])\n",
    "monthRatiosDF['MonthVals'] = [numer(monthRatiosDF.iloc[i]['EnrollDate']) for i in range(monthRatiosDF['Ratio'].size)]\n",
    "monthRatiosDF.sort_values('MonthVals', inplace=True)\n",
    "monthRatiosDF = monthRatiosDF[['EnrollDate', 'Ratio']]"
   ]
  },
  {
   "cell_type": "code",
   "execution_count": 26,
   "metadata": {},
   "outputs": [
    {
     "data": {
      "text/plain": [
       "<matplotlib.axes._subplots.AxesSubplot at 0x7f7c7c072a20>"
      ]
     },
     "execution_count": 26,
     "metadata": {},
     "output_type": "execute_result"
    },
    {
     "data": {
      "image/png": "[encoded data removed]",
      "text/plain": [
       "<matplotlib.figure.Figure at 0x7f7c851d5278>"
      ]
     },
     "metadata": {},
     "output_type": "display_data"
    }
   ],
   "source": [
    "plt.figure(figsize=(15,6))\n",
    "sns.barplot(data=monthRatiosDF, x='EnrollDate', y='Ratio')"
   ]
  },
  {
   "cell_type": "markdown",
   "metadata": {},
   "source": [
    "It seems the ratio of enrollees that will eventually cancel fluctuated a bit with time, but the mean increased somewhat until the year 2016. The correlation is strong enough for us to observe visually so it seems reasonable to use enroll dates prior to 2016 as a predictor.\n",
    "\n",
    "Let us now move on and examine the given cancellation dates."
   ]
  },
  {
   "cell_type": "code",
   "execution_count": 27,
   "metadata": {},
   "outputs": [
    {
     "data": {
      "image/png": "[encoded data removed]",
      "text/plain": [
       "<matplotlib.figure.Figure at 0x7f7c7e418eb8>"
      ]
     },
     "metadata": {},
     "output_type": "display_data"
    }
   ],
   "source": [
    "plt.figure(figsize=(15,6))\n",
    "ax = sns.countplot(data=policyDF, x='CancelMonth')\n",
    "total = sum(policyDF['CancelMonth'].notnull())\n",
    "for p in ax.patches:\n",
    "    height = p.get_height()\n",
    "    ax.text(p.get_x()+p.get_width()/2.0, height+3, '{:1.2f}%'.format(100*height/total), ha=\"center\")"
   ]
  },
  {
   "cell_type": "markdown",
   "metadata": {},
   "source": [
    "If we assume that cancellation dates have perfect predictive power, though, and we simply assume that these cancellation dates are consistent across the years (such cannot be verified here as the given information does not include cancellations in years besides 2016), then we could assign to every extant customer a probability of cancelling in January 2017 of the product of the previously found (approximate) 13.125% and 8.07%. Such does not take into account any other information, though, so these probabilities do not inspire much confidence.\n",
    "\n",
    "However, from the above, it doesn't seem cancellation dates have much predictive power and thus will not be considered significant in predictions. A relatively large number of customers choose to cancel during months such as August and December whereas a relatively lower number of customers choose to cancel during months such as May and March. However, January is not a month during which many choose to or not to cancel - approximately 8% of customers choose to cancel during January, which is not a great deviation from an expected 8.3 (`100 / 12 ~ 8.3`). \n",
    "\n",
    "It is possible, however, that particular types of policies are cancelled more during particular months. Since other information regarding policy types is not at hand, let us estimate if there is any association between the age of a policy and the month it is cancelled."
   ]
  },
  {
   "cell_type": "code",
   "execution_count": 28,
   "metadata": {},
   "outputs": [
    {
     "data": {
      "text/plain": [
       "<matplotlib.axes._subplots.AxesSubplot at 0x7f7c772f4eb8>"
      ]
     },
     "execution_count": 28,
     "metadata": {},
     "output_type": "execute_result"
    },
    {
     "data": {
      "image/png": "[encoded data removed]",
      "text/plain": [
       "<matplotlib.figure.Figure at 0x7f7c7df0c630>"
      ]
     },
     "metadata": {},
     "output_type": "display_data"
    }
   ],
   "source": [
    "plt.figure(figsize=(15,6))\n",
    "sns.stripplot(data=policyDF, x='CancelMonth', y='Duration', jitter=0.2)"
   ]
  },
  {
   "cell_type": "markdown",
   "metadata": {},
   "source": [
    "No particular cancellation month stands out.\n",
    "\n",
    "Of the given information that remains, we can still check to see if cancellation date is associated with claim history."
   ]
  },
  {
   "cell_type": "markdown",
   "metadata": {},
   "source": [
    "Let us start by calculating the percentage of the claim paid, as we will need this figure"
   ]
  },
  {
   "cell_type": "code",
   "execution_count": 29,
   "metadata": {},
   "outputs": [
    {
     "data": {
      "text/plain": [
       "count    144910.000000\n",
       "mean         45.508118\n",
       "std          38.504923\n",
       "min           0.000000\n",
       "25%           0.000000\n",
       "50%          49.525640\n",
       "75%          89.985556\n",
       "max         297.698086\n",
       "Name: PercentPaid, dtype: float64"
      ]
     },
     "execution_count": 29,
     "metadata": {},
     "output_type": "execute_result"
    }
   ],
   "source": [
    "claimDF['PercentPaid'] = claimDF.apply(lambda row: 100 * row['PaidAmount'] / row['ClaimedAmount'] if row['ClaimedAmount'] else 100, axis=1)\n",
    "claimDF['PercentPaid'].describe()"
   ]
  },
  {
   "cell_type": "code",
   "execution_count": 30,
   "metadata": {},
   "outputs": [
    {
     "data": {
      "text/plain": [
       "8"
      ]
     },
     "execution_count": 30,
     "metadata": {},
     "output_type": "execute_result"
    }
   ],
   "source": [
    "sum(claimDF['PercentPaid'] > 100)"
   ]
  },
  {
   "cell_type": "code",
   "execution_count": 31,
   "metadata": {},
   "outputs": [
    {
     "data": {
      "text/plain": [
       "(0, 100)"
      ]
     },
     "execution_count": 31,
     "metadata": {},
     "output_type": "execute_result"
    },
    {
     "data": {
      "image/png": "[encoded data removed]",
      "text/plain": [
       "<matplotlib.figure.Figure at 0x7f7c77412a20>"
      ]
     },
     "metadata": {},
     "output_type": "display_data"
    }
   ],
   "source": [
    "plt.figure(figsize=(15,6))\n",
    "dp = sns.distplot(claimDF['PercentPaid'], kde=False)\n",
    "dp.axes.set_xlim(0,100)"
   ]
  },
  {
   "cell_type": "markdown",
   "metadata": {},
   "source": [
    "The calculated figures appear reasonable. Almost all ratios are below 1 and the majority (about 68%, assuming the payout ratios are normally distributed) of claims have approximately 6.866 to 83.532 (`45.199 - 38.333` and `45.199 + 38.333`) percent of the claim amount paid. Eight claims are paid more than just in full. Again, this could be due to an error in data entry, an error in the determination of the amount to pay, or another reason. If any of these figure is incorrect, said figures should be expunged, but if said figures are representative of actuality, it seems likely that the opinion of a customer was significantly influenced. Since it is difficult to determine the validity of said (potentially influential) ratios with the given information and since said figures are so infrequent, it seems reasonable to retain these figures.\n",
    "\n",
    "No correlation between PercentPaid values and Cancelled values was investigated above. If multiple PercentPaid values for a policy could be summarized as a single value, perhaps an investigation would be more feasible. However, seeing as how a single policyholder is likely to make multiple claims while other policyholders might make no claims, it seems a correlation would be difficult to investigate. The above has shown that these values are, for the most part, reasonable and therefore may be used. We will move on from this topic now.\n",
    "\n",
    "Now we need to associate policies with the percent paid to said policies."
   ]
  },
  {
   "cell_type": "code",
   "execution_count": 32,
   "metadata": {},
   "outputs": [
    {
     "data": {
      "text/html": [
       "<div>\n",
       "<style>\n",
       "    .dataframe thead tr:only-child th {\n",
       "        text-align: right;\n",
       "    }\n",
       "\n",
       "    .dataframe thead th {\n",
       "        text-align: left;\n",
       "    }\n",
       "\n",
       "    .dataframe tbody tr th {\n",
       "        vertical-align: top;\n",
       "    }\n",
       "</style>\n",
       "<table border=\"1\" class=\"dataframe\">\n",
       "  <thead>\n",
       "    <tr style=\"text-align: right;\">\n",
       "      <th></th>\n",
       "      <th>PolicyId</th>\n",
       "      <th>PercentPaid</th>\n",
       "    </tr>\n",
       "  </thead>\n",
       "  <tbody>\n",
       "    <tr>\n",
       "      <th>0</th>\n",
       "      <td>148971</td>\n",
       "      <td>88.087279</td>\n",
       "    </tr>\n",
       "    <tr>\n",
       "      <th>1</th>\n",
       "      <td>148971</td>\n",
       "      <td>79.241087</td>\n",
       "    </tr>\n",
       "    <tr>\n",
       "      <th>2</th>\n",
       "      <td>148971</td>\n",
       "      <td>79.354327</td>\n",
       "    </tr>\n",
       "    <tr>\n",
       "      <th>3</th>\n",
       "      <td>148971</td>\n",
       "      <td>4.023508</td>\n",
       "    </tr>\n",
       "    <tr>\n",
       "      <th>4</th>\n",
       "      <td>148971</td>\n",
       "      <td>82.636132</td>\n",
       "    </tr>\n",
       "  </tbody>\n",
       "</table>\n",
       "</div>"
      ],
      "text/plain": [
       "   PolicyId  PercentPaid\n",
       "0    148971    88.087279\n",
       "1    148971    79.241087\n",
       "2    148971    79.354327\n",
       "3    148971     4.023508\n",
       "4    148971    82.636132"
      ]
     },
     "execution_count": 32,
     "metadata": {},
     "output_type": "execute_result"
    }
   ],
   "source": [
    "policyAndClaimsDF = pd.DataFrame(np.array([claimDF['PolicyId'].unique()]).T,\n",
    "                                columns=['PolicyId'])\n",
    "policyAndClaimsDF = pd.merge(policyAndClaimsDF, claimDF[['PolicyId','PercentPaid']], how='left', on='PolicyId')\n",
    "policyAndClaimsDF.head()"
   ]
  },
  {
   "cell_type": "markdown",
   "metadata": {},
   "source": [
    "Further, we see that the number of unique policy ID numbers in the `PolicyLevel.csv` dataset is significantly different from the number of unique policy ID numbers in the `ClaimLevel.csv` dataset."
   ]
  },
  {
   "cell_type": "code",
   "execution_count": 33,
   "metadata": {},
   "outputs": [
    {
     "data": {
      "text/plain": [
       "144910"
      ]
     },
     "execution_count": 33,
     "metadata": {},
     "output_type": "execute_result"
    }
   ],
   "source": [
    "claimDF['PolicyId'].count()"
   ]
  },
  {
   "cell_type": "code",
   "execution_count": 34,
   "metadata": {},
   "outputs": [
    {
     "data": {
      "text/plain": [
       "31526"
      ]
     },
     "execution_count": 34,
     "metadata": {},
     "output_type": "execute_result"
    }
   ],
   "source": [
    "claimDF['PolicyId'].nunique()"
   ]
  },
  {
   "cell_type": "code",
   "execution_count": 35,
   "metadata": {},
   "outputs": [
    {
     "data": {
      "text/plain": [
       "99995"
      ]
     },
     "execution_count": 35,
     "metadata": {},
     "output_type": "execute_result"
    }
   ],
   "source": [
    "policyDF['PolicyId'].count()"
   ]
  },
  {
   "cell_type": "code",
   "execution_count": 36,
   "metadata": {},
   "outputs": [
    {
     "data": {
      "text/plain": [
       "99995"
      ]
     },
     "execution_count": 36,
     "metadata": {},
     "output_type": "execute_result"
    }
   ],
   "source": [
    "policyDF['PolicyId'].nunique()"
   ]
  },
  {
   "cell_type": "markdown",
   "metadata": {},
   "source": [
    "This means that not only have some customers had claims paid out to different extents, but also, some customers have not filed any claims whatsoever. This suggests, in addition to the portion of claims being paid for, more information we can use to predict whether a policy will be cancelled in January 2017: the number of claims filed by each customer. In order to use this information, though, we need ID numbers to be in both datasets. Let us verify membership of ID numbers."
   ]
  },
  {
   "cell_type": "code",
   "execution_count": 37,
   "metadata": {},
   "outputs": [
    {
     "name": "stdout",
     "output_type": "stream",
     "text": [
      "Number of IDs from claimDF that are in policyDF: 24659\n",
      "Number of IDs from policyDF that are in claimDF: 14545\n",
      "Number of IDs that are in both: 3733\n"
     ]
    }
   ],
   "source": [
    "common1 = 0\n",
    "common1ids = []\n",
    "for num in claimDF['PolicyId']:\n",
    "    if num in policyDF['PolicyId']:\n",
    "        common1 += 1\n",
    "        common1ids.append(num)\n",
    "\n",
    "common2 = 0\n",
    "common2ids = []\n",
    "for num in policyDF['PolicyId']:\n",
    "    if num in claimDF['PolicyId']:\n",
    "        common2 += 1\n",
    "        common2ids.append(num)\n",
    "\n",
    "print('Number of IDs from claimDF that are in policyDF: {}\\nNumber of IDs from policyDF that are in claimDF: {}'.format(common1, common2))\n",
    "print('Number of IDs that are in both: {}'.format(len(list(set(common1ids) & set(common2ids)))))"
   ]
  },
  {
   "cell_type": "markdown",
   "metadata": {},
   "source": [
    "Unfortunately, most ID numbers are not in both datasets. If we wish to use previous information regarding whether or not policies were cancelled, we need to use IDs that are in policyDF. By this reasoning, two choices stand out:\n",
    "1. `ClaimLevel.csv` is complete. If an ID in policyDF does not occur in claimDF, assume that the owner of this policy did not make any claims.\n",
    "2. `ClaimLevel.csv` is incomplete. An ID in policyDF that does not occur in claimDF may have associated claims, but said claims just were not recorded to be included in `ClaimLevel.csv`.\n",
    "\n",
    "In the following, we will assume `(1)`; i.e., that the information in `ClaimLevel.csv` is comprehensive. Let us now include some of the information from `ClaimLevel.csv` with our policy-level data."
   ]
  },
  {
   "cell_type": "code",
   "execution_count": 38,
   "metadata": {
    "collapsed": true
   },
   "outputs": [],
   "source": [
    "policyDF['NumberOfClaims'] = np.zeros(policyDF['PolicyId'].size, dtype=np.int32)\n",
    "policyDF['PercentagesPaid'] = [[] for i in range(policyDF['PolicyId'].size)]"
   ]
  },
  {
   "cell_type": "code",
   "execution_count": 39,
   "metadata": {
    "collapsed": true
   },
   "outputs": [],
   "source": [
    "for i in range(claimDF['PolicyId'].size):\n",
    "    row = claimDF.iloc[i]\n",
    "    policyDF.loc[policyDF['PolicyId'] == row['PolicyId'], 'NumberOfClaims'] += 1\n",
    "    policyDF.loc[policyDF['PolicyId'] == row['PolicyId'], 'PercentagesPaid'] += [row['PercentPaid'] / 100]"
   ]
  },
  {
   "cell_type": "markdown",
   "metadata": {},
   "source": [
    "First, let us summarize PercentagesPaid as a single figure for each policy; namely, the harmonic mean of the values. Customer decisions to leave or continue a policy should largely be determined by a consistent payment history, rather than by a high or low percentage of a single claim being paid for. The arithmetic mean gives equal weight to high and low values. The geometric mean does not seem sensible as it is unaffected by a value of one, which should be influence a customer's opinion quite strongly. The harmonic mean is supposedly more sensitive to outliers and in this case, gives more weight to lower values. It seems sensible that lower payments may have a greater absolute effect than higher payments. Thus, the harmonic mean seems more representative of customer thinking and we shall alter the PercentagesPaid column to include the harmonic mean of the values in each list. \n",
    "\n",
    "We will consider the harmonic mean of an empty list to be zero.\n",
    "\n",
    "If an element is zero, the harmonic mean would be undefined. Thus, elements must be modified to account for this. Values that are too low would result in a miniscule harmonic mean. It seems reasonable to use a value of one instead, though the matter is not certain."
   ]
  },
  {
   "cell_type": "code",
   "execution_count": 40,
   "metadata": {},
   "outputs": [
    {
     "data": {
      "text/html": [
       "<div>\n",
       "<style>\n",
       "    .dataframe thead tr:only-child th {\n",
       "        text-align: right;\n",
       "    }\n",
       "\n",
       "    .dataframe thead th {\n",
       "        text-align: left;\n",
       "    }\n",
       "\n",
       "    .dataframe tbody tr th {\n",
       "        vertical-align: top;\n",
       "    }\n",
       "</style>\n",
       "<table border=\"1\" class=\"dataframe\">\n",
       "  <thead>\n",
       "    <tr style=\"text-align: right;\">\n",
       "      <th></th>\n",
       "      <th>PercentagesPaid</th>\n",
       "      <th>Cancelled</th>\n",
       "    </tr>\n",
       "  </thead>\n",
       "  <tbody>\n",
       "    <tr>\n",
       "      <th>PercentagesPaid</th>\n",
       "      <td>1.000000</td>\n",
       "      <td>-0.033763</td>\n",
       "    </tr>\n",
       "    <tr>\n",
       "      <th>Cancelled</th>\n",
       "      <td>-0.033763</td>\n",
       "      <td>1.000000</td>\n",
       "    </tr>\n",
       "  </tbody>\n",
       "</table>\n",
       "</div>"
      ],
      "text/plain": [
       "                 PercentagesPaid  Cancelled\n",
       "PercentagesPaid         1.000000  -0.033763\n",
       "Cancelled              -0.033763   1.000000"
      ]
     },
     "execution_count": 40,
     "metadata": {},
     "output_type": "execute_result"
    }
   ],
   "source": [
    "def modifyZeros(l):\n",
    "    nums = []\n",
    "    for num in l:\n",
    "        if not num: \n",
    "            nums.append(1)\n",
    "        else:\n",
    "            nums.append(num)\n",
    "    return nums\n",
    "\n",
    "from statistics import harmonic_mean\n",
    "\n",
    "hmeans = [0] * policyDF['PolicyId'].size\n",
    "for i in range(policyDF['PolicyId'].size):\n",
    "    l = policyDF.iloc[i]['PercentagesPaid']\n",
    "    if not len(l):\n",
    "        hmeans[i] = 0\n",
    "    else:\n",
    "        hmeans[i] = harmonic_mean(modifyZeros(l))\n",
    "\n",
    "policyDF['PercentagesPaid'] = hmeans\n",
    "policyDF[['PercentagesPaid', 'Cancelled']].corr()"
   ]
  },
  {
   "cell_type": "code",
   "execution_count": 41,
   "metadata": {},
   "outputs": [
    {
     "data": {
      "text/plain": [
       "<matplotlib.collections.PathCollection at 0x7f7c7798dd30>"
      ]
     },
     "execution_count": 41,
     "metadata": {},
     "output_type": "execute_result"
    },
    {
     "data": {
      "image/png": "[encoded data removed]",
      "text/plain": [
       "<matplotlib.figure.Figure at 0x7f7c7775ae48>"
      ]
     },
     "metadata": {},
     "output_type": "display_data"
    }
   ],
   "source": [
    "plt.figure(figsize=[15,6])\n",
    "plt.scatter(policyDF['PercentagesPaid'], policyDF['Cancelled'], alpha=.1)"
   ]
  },
  {
   "cell_type": "markdown",
   "metadata": {},
   "source": [
    "We see from the above that a correlation probably does not exist. The Pearson correlation calculation is nil and the plot seems to affirm this. It does not seem advisable to use PercentagesPaid values for our predictions\n",
    "\n",
    "***\n",
    "\n",
    "Let us now try to see if any obvious correlation exists between MonthlyPremium values and cancellation."
   ]
  },
  {
   "cell_type": "code",
   "execution_count": 42,
   "metadata": {},
   "outputs": [
    {
     "data": {
      "text/plain": [
       "<matplotlib.collections.PathCollection at 0x7f7c77ae5390>"
      ]
     },
     "execution_count": 42,
     "metadata": {},
     "output_type": "execute_result"
    },
    {
     "data": {
      "image/png": "[encoded data removed]",
      "text/plain": [
       "<matplotlib.figure.Figure at 0x7f7c77a1b9b0>"
      ]
     },
     "metadata": {},
     "output_type": "display_data"
    }
   ],
   "source": [
    "plt.figure(figsize=[15,6])\n",
    "plt.scatter(policyDF['MonthlyPremium'], policyDF['Cancelled'], alpha=.1)"
   ]
  },
  {
   "cell_type": "markdown",
   "metadata": {},
   "source": [
    "There seems a large degree of overlap. The MonthlyPremium values of policies that have not been cancelled seems to span a slightly larger range, but it is likely that this is because a far larger number of records are for policies that have not been cancelled as opposed to policies that have been cancelled.\n",
    "\n",
    "Let us try a different approach. Let us see if one's monthly premium and a policy's duration tells anything about likelihood of cancellation"
   ]
  },
  {
   "cell_type": "code",
   "execution_count": 43,
   "metadata": {},
   "outputs": [
    {
     "data": {
      "text/plain": [
       "<matplotlib.collections.PathCollection at 0x7f7c77bcae48>"
      ]
     },
     "execution_count": 43,
     "metadata": {},
     "output_type": "execute_result"
    },
    {
     "data": {
      "image/png": "[encoded data removed]",
      "text/plain": [
       "<matplotlib.figure.Figure at 0x7f7c77b3fbe0>"
      ]
     },
     "metadata": {},
     "output_type": "display_data"
    }
   ],
   "source": [
    "plt.figure(figsize=[15,6])\n",
    "plt.scatter(policyDF[policyDF['Cancelled'] == 0]['MonthlyPremium'],\n",
    "            policyDF[policyDF['Cancelled'] == 0]['Duration'],\n",
    "            marker='x', color='b', alpha=.3)\n",
    "\n",
    "plt.scatter(policyDF[policyDF['Cancelled'] == 1]['MonthlyPremium'],\n",
    "            policyDF[policyDF['Cancelled'] == 1]['Duration'],\n",
    "            marker='o', color='m', alpha=.3)"
   ]
  },
  {
   "cell_type": "code",
   "execution_count": 44,
   "metadata": {},
   "outputs": [
    {
     "data": {
      "text/plain": [
       "False    86780\n",
       "True     13215\n",
       "Name: Cancelled, dtype: int64"
      ]
     },
     "execution_count": 44,
     "metadata": {},
     "output_type": "execute_result"
    }
   ],
   "source": [
    "policyDF['Cancelled'].value_counts()"
   ]
  },
  {
   "cell_type": "code",
   "execution_count": 45,
   "metadata": {},
   "outputs": [
    {
     "data": {
      "text/html": [
       "<div>\n",
       "<style>\n",
       "    .dataframe thead tr:only-child th {\n",
       "        text-align: right;\n",
       "    }\n",
       "\n",
       "    .dataframe thead th {\n",
       "        text-align: left;\n",
       "    }\n",
       "\n",
       "    .dataframe tbody tr th {\n",
       "        vertical-align: top;\n",
       "    }\n",
       "</style>\n",
       "<table border=\"1\" class=\"dataframe\">\n",
       "  <thead>\n",
       "    <tr style=\"text-align: right;\">\n",
       "      <th></th>\n",
       "      <th>MonthlyPremium</th>\n",
       "      <th>Cancelled</th>\n",
       "    </tr>\n",
       "  </thead>\n",
       "  <tbody>\n",
       "    <tr>\n",
       "      <th>MonthlyPremium</th>\n",
       "      <td>1.000000</td>\n",
       "      <td>-0.018964</td>\n",
       "    </tr>\n",
       "    <tr>\n",
       "      <th>Cancelled</th>\n",
       "      <td>-0.018964</td>\n",
       "      <td>1.000000</td>\n",
       "    </tr>\n",
       "  </tbody>\n",
       "</table>\n",
       "</div>"
      ],
      "text/plain": [
       "                MonthlyPremium  Cancelled\n",
       "MonthlyPremium        1.000000  -0.018964\n",
       "Cancelled            -0.018964   1.000000"
      ]
     },
     "execution_count": 45,
     "metadata": {},
     "output_type": "execute_result"
    }
   ],
   "source": [
    "policyDF[['MonthlyPremium', 'Cancelled']].corr()"
   ]
  },
  {
   "cell_type": "code",
   "execution_count": 46,
   "metadata": {},
   "outputs": [
    {
     "data": {
      "text/html": [
       "<div>\n",
       "<style>\n",
       "    .dataframe thead tr:only-child th {\n",
       "        text-align: right;\n",
       "    }\n",
       "\n",
       "    .dataframe thead th {\n",
       "        text-align: left;\n",
       "    }\n",
       "\n",
       "    .dataframe tbody tr th {\n",
       "        vertical-align: top;\n",
       "    }\n",
       "</style>\n",
       "<table border=\"1\" class=\"dataframe\">\n",
       "  <thead>\n",
       "    <tr style=\"text-align: right;\">\n",
       "      <th></th>\n",
       "      <th>Duration</th>\n",
       "      <th>Cancelled</th>\n",
       "    </tr>\n",
       "  </thead>\n",
       "  <tbody>\n",
       "    <tr>\n",
       "      <th>Duration</th>\n",
       "      <td>1.000000</td>\n",
       "      <td>-0.134086</td>\n",
       "    </tr>\n",
       "    <tr>\n",
       "      <th>Cancelled</th>\n",
       "      <td>-0.134086</td>\n",
       "      <td>1.000000</td>\n",
       "    </tr>\n",
       "  </tbody>\n",
       "</table>\n",
       "</div>"
      ],
      "text/plain": [
       "           Duration  Cancelled\n",
       "Duration   1.000000  -0.134086\n",
       "Cancelled -0.134086   1.000000"
      ]
     },
     "execution_count": 46,
     "metadata": {},
     "output_type": "execute_result"
    }
   ],
   "source": [
    "policyDF[['Duration', 'Cancelled']].corr()"
   ]
  },
  {
   "cell_type": "markdown",
   "metadata": {},
   "source": [
    "Initially, it may seem that customers who have had longer policies are more likely to cancel, but considering that there is so much more data of customers that have not cancelled. After consideration, it seems that customers with higher premiums and who have had longer lived policies are marginally less likely to cancel their policies. Considering that an increase in density may be illusory and simply a result of more records overall, it is difficult, from a visual standpoint to assess whether a strong correlation exists. A miniscule and even slightly negative correlation exists if we try to use definitive means (e.g., Pearson correlation). It seems neither Duration nor MonthlyPremium values will help.\n",
    "\n",
    "Finally, let us see if there is an obvious correlation between one's number of claims and cancellation"
   ]
  },
  {
   "cell_type": "code",
   "execution_count": 47,
   "metadata": {},
   "outputs": [
    {
     "data": {
      "text/plain": [
       "<matplotlib.collections.PathCollection at 0x7f7c77ccc780>"
      ]
     },
     "execution_count": 47,
     "metadata": {},
     "output_type": "execute_result"
    },
    {
     "data": {
      "image/png": "[encoded data removed]",
      "text/plain": [
       "<matplotlib.figure.Figure at 0x7f7c77c6cd68>"
      ]
     },
     "metadata": {},
     "output_type": "display_data"
    }
   ],
   "source": [
    "plt.figure(figsize=[15,6])\n",
    "plt.scatter(policyDF['NumberOfClaims'], policyDF['Cancelled'], alpha=.3)"
   ]
  },
  {
   "cell_type": "code",
   "execution_count": 48,
   "metadata": {},
   "outputs": [
    {
     "data": {
      "text/html": [
       "<div>\n",
       "<style>\n",
       "    .dataframe thead tr:only-child th {\n",
       "        text-align: right;\n",
       "    }\n",
       "\n",
       "    .dataframe thead th {\n",
       "        text-align: left;\n",
       "    }\n",
       "\n",
       "    .dataframe tbody tr th {\n",
       "        vertical-align: top;\n",
       "    }\n",
       "</style>\n",
       "<table border=\"1\" class=\"dataframe\">\n",
       "  <thead>\n",
       "    <tr style=\"text-align: right;\">\n",
       "      <th></th>\n",
       "      <th>NumberOfClaims</th>\n",
       "      <th>Cancelled</th>\n",
       "    </tr>\n",
       "  </thead>\n",
       "  <tbody>\n",
       "    <tr>\n",
       "      <th>NumberOfClaims</th>\n",
       "      <td>1.000000</td>\n",
       "      <td>-0.021779</td>\n",
       "    </tr>\n",
       "    <tr>\n",
       "      <th>Cancelled</th>\n",
       "      <td>-0.021779</td>\n",
       "      <td>1.000000</td>\n",
       "    </tr>\n",
       "  </tbody>\n",
       "</table>\n",
       "</div>"
      ],
      "text/plain": [
       "                NumberOfClaims  Cancelled\n",
       "NumberOfClaims        1.000000  -0.021779\n",
       "Cancelled            -0.021779   1.000000"
      ]
     },
     "execution_count": 48,
     "metadata": {},
     "output_type": "execute_result"
    }
   ],
   "source": [
    "policyDF[['NumberOfClaims', 'Cancelled']].corr()"
   ]
  },
  {
   "cell_type": "markdown",
   "metadata": {},
   "source": [
    "Again, there is a large amount of overlap. Calculation of Pearson correlation does not help in this case. Again, the resulting figure is very low (approximately 0.02) and slightly negative. We may guess that those who make more claims are marginally less likely to cancel, but the probability of this being true is very slight indeed.\n",
    "\n",
    "***\n",
    "\n",
    "## Attempting a Machine Learning Classifier\n",
    "\n",
    "With the above, it does not seem likely that a machine learning model may accurrately predict cancellation, let alone cancellation in a specific month. Let us give it a quick try, though, as this is only a guess."
   ]
  },
  {
   "cell_type": "markdown",
   "metadata": {},
   "source": [
    "A supervised learning paradigm seems most appropriate in this situation. In such a situation, one would require a training dataset and a test dataset. Information regarding cancellations in January 2017 is not given and it is impossible to obtain future data. It makes sense to use as training data input a subset of policies that were enrolled in prior to 2016 and policies that were cancelled in 2016. The output would consist of whether the policies were cancelled in January 2016, cancelled in another month, or not cancelled at all. Accordingly, the test dataset would consist of policies that have not been cancelled and the output on such will serve as predictions as to whether said policies will be cancelled in January 2017. In essence, these predictions would be for cancellation in January 2016 but it seems reasonable to assume that past occurrences provide a sensible predictor of future occurrences.\n",
    "\n",
    "Let us use a neural network with hidden units. A neural network is based on, to an extent, logistic regression, and thus seems likely to capture the seemingly likely nonlinearities (e.g., if a relationship exists, it seems more likely that MonthlyPolicy values have a nonlinear relationship with probability of cancellation, as I doubt that probabilities will increase or decrease infinitely as MonthlyPolicy values change accordingly). Hidden units seem to increase the chance of capturing elusive trends."
   ]
  },
  {
   "cell_type": "markdown",
   "metadata": {},
   "source": [
    "Let us try to get a better idea of how much data we may train on. If we use cancelled policies as a constituent of the train set, then our train set consists of 13,215 policies that were cancelled in 2016 and 1,067 policies that were cancelled in January of 2016."
   ]
  },
  {
   "cell_type": "code",
   "execution_count": 49,
   "metadata": {
    "scrolled": true
   },
   "outputs": [
    {
     "data": {
      "text/plain": [
       "False    86780\n",
       "True     13215\n",
       "Name: Cancelled, dtype: int64"
      ]
     },
     "execution_count": 49,
     "metadata": {},
     "output_type": "execute_result"
    }
   ],
   "source": [
    "policyDF['Cancelled'].value_counts()"
   ]
  },
  {
   "cell_type": "code",
   "execution_count": 50,
   "metadata": {},
   "outputs": [
    {
     "data": {
      "text/plain": [
       "1067"
      ]
     },
     "execution_count": 50,
     "metadata": {},
     "output_type": "execute_result"
    }
   ],
   "source": [
    "policyDF[policyDF['CancelMonth'] == 1]['PolicyId'].size"
   ]
  },
  {
   "cell_type": "markdown",
   "metadata": {},
   "source": [
    "In the following, policies are assigned a class label of 0 if they are never cancelled (up until the data of data recording, of course), 1 if they are cancelled in January 2016, and 2 if they are cancelled in January 2017"
   ]
  },
  {
   "cell_type": "code",
   "execution_count": 51,
   "metadata": {
    "collapsed": true
   },
   "outputs": [],
   "source": [
    "cancelClassCol = [0 for i in range(policyDF['PolicyId'].size)]"
   ]
  },
  {
   "cell_type": "code",
   "execution_count": 52,
   "metadata": {
    "collapsed": true
   },
   "outputs": [],
   "source": [
    "for i in range(policyDF['PolicyId'].size):\n",
    "    row = policyDF.iloc[i]\n",
    "    if row['Cancelled']:\n",
    "        if row['CancelMonth'] == 1:\n",
    "            cancelClassCol[i] = 1\n",
    "        else:\n",
    "            cancelClassCol[i] = 2"
   ]
  },
  {
   "cell_type": "code",
   "execution_count": 53,
   "metadata": {
    "collapsed": true
   },
   "outputs": [],
   "source": [
    "policyDF['CancelClass'] = cancelClassCol"
   ]
  },
  {
   "cell_type": "markdown",
   "metadata": {},
   "source": [
    "We will split the test data as such. Both the training and test data will consist of policies that were not cancelled, policies cancelled in January 2016 and policies that were cancelled in another month in 2016. The test data will consist of 30% of all examples. No discrimination based on cancellation date is made as to which set a policy is assigned to unless the labels for each set do not contain members from all classes (not cancelled, cancelled in January 2016, and cancelled in another month in 2016)"
   ]
  },
  {
   "cell_type": "code",
   "execution_count": 54,
   "metadata": {
    "collapsed": true
   },
   "outputs": [],
   "source": [
    "policyDF[\"CancelMonth\"].fillna(0, inplace=True)"
   ]
  },
  {
   "cell_type": "code",
   "execution_count": 55,
   "metadata": {
    "collapsed": true
   },
   "outputs": [],
   "source": [
    "X_train, X_test, y_train, y_test = train_test_split(\n",
    "    np.array(policyDF[['PolicyId', 'MonthlyPremium', 'EnrollYear', 'EnrollMonth', 'CancelMonth', 'NumberOfClaims', 'CancelClass']]),\n",
    "    cancelClassCol, test_size=0.3)"
   ]
  },
  {
   "cell_type": "markdown",
   "metadata": {},
   "source": [
    "Let us check to see whether both the test and train sets received examples from each class (0, 1, 2)"
   ]
  },
  {
   "cell_type": "code",
   "execution_count": 56,
   "metadata": {},
   "outputs": [
    {
     "name": "stdout",
     "output_type": "stream",
     "text": [
      "y_train:\n",
      "0    60773\n",
      "2     8469\n",
      "1      754\n",
      "dtype: int64\n"
     ]
    }
   ],
   "source": [
    "print('y_train:')\n",
    "print(pd.Series(y_train).value_counts())"
   ]
  },
  {
   "cell_type": "code",
   "execution_count": 57,
   "metadata": {},
   "outputs": [
    {
     "name": "stdout",
     "output_type": "stream",
     "text": [
      "\n",
      "y_test:\n",
      "0    26007\n",
      "2     3679\n",
      "1      313\n",
      "dtype: int64\n"
     ]
    }
   ],
   "source": [
    "print('\\ny_test:')\n",
    "print(pd.Series(y_test).value_counts())"
   ]
  },
  {
   "cell_type": "markdown",
   "metadata": {},
   "source": [
    "The distributions appear to be usable."
   ]
  },
  {
   "cell_type": "code",
   "execution_count": 58,
   "metadata": {},
   "outputs": [
    {
     "name": "stdout",
     "output_type": "stream",
     "text": [
      "INFO:tensorflow:Using default config.\n",
      "WARNING:tensorflow:Using temporary folder as model directory: /tmp/tmpla_jhhzr\n",
      "INFO:tensorflow:Using config: {'_task_type': None, '_task_id': 0, '_cluster_spec': <tensorflow.python.training.server_lib.ClusterSpec object at 0x7f98b1cd3668>, '_master': '', '_num_ps_replicas': 0, '_num_worker_replicas': 0, '_environment': 'local', '_is_chief': True, '_evaluation_master': '', '_tf_config': gpu_options {\n",
      "  per_process_gpu_memory_fraction: 1\n",
      "}\n",
      ", '_tf_random_seed': None, '_save_summary_steps': 100, '_save_checkpoints_secs': 600, '_session_config': None, '_save_checkpoints_steps': None, '_keep_checkpoint_max': 5, '_keep_checkpoint_every_n_hours': 10000, '_model_dir': '/tmp/tmpla_jhhzr'}\n"
     ]
    }
   ],
   "source": [
    "feature_columns = [tf.contrib.layers.real_valued_column(\"\", dimension=8)]\n",
    "\n",
    "classifier = tf.contrib.learn.DNNClassifier(feature_columns=feature_columns,\n",
    "                                            hidden_units=[10, 20, 10], n_classes=3)"
   ]
  },
  {
   "cell_type": "code",
   "execution_count": 59,
   "metadata": {
    "scrolled": true
   },
   "outputs": [
    {
     "name": "stdout",
     "output_type": "stream",
     "text": [
      "INFO:tensorflow:Using default config.\n",
      "WARNING:tensorflow:Using temporary folder as model directory: /tmp/tmpwzbtpcwi\n",
      "INFO:tensorflow:Using config: {'_task_type': None, '_task_id': 0, '_cluster_spec': <tensorflow.python.training.server_lib.ClusterSpec object at 0x7fb6e9b35e48>, '_master': '', '_num_ps_replicas': 0, '_num_worker_replicas': 0, '_environment': 'local', '_is_chief': True, '_evaluation_master': '', '_tf_config': gpu_options {\n",
      "  per_process_gpu_memory_fraction: 1\n",
      "}\n",
      ", '_tf_random_seed': None, '_save_summary_steps': 100, '_save_checkpoints_secs': 600, '_session_config': None, '_save_checkpoints_steps': None, '_keep_checkpoint_max': 5, '_keep_checkpoint_every_n_hours': 10000, '_model_dir': '/tmp/tmpwzbtpcwi'}\n",
      "WARNING:tensorflow:From <ipython-input-59-5860ee38e9c5>:6: calling BaseEstimator.fit (from tensorflow.contrib.learn.python.learn.estimators.estimator) with x is deprecated and will be removed after 2016-12-01.\n",
      "Instructions for updating:\n",
      "Estimator is decoupled from Scikit Learn interface by moving into\n",
      "separate class SKCompat. Arguments x, y and batch_size are only\n",
      "available in the SKCompat class, Estimator will only accept input_fn.\n",
      "Example conversion:\n",
      "  est = Estimator(...) -> est = SKCompat(Estimator(...))\n",
      "WARNING:tensorflow:From <ipython-input-59-5860ee38e9c5>:6: calling BaseEstimator.fit (from tensorflow.contrib.learn.python.learn.estimators.estimator) with y is deprecated and will be removed after 2016-12-01.\n",
      "Instructions for updating:\n",
      "Estimator is decoupled from Scikit Learn interface by moving into\n",
      "separate class SKCompat. Arguments x, y and batch_size are only\n",
      "available in the SKCompat class, Estimator will only accept input_fn.\n",
      "Example conversion:\n",
      "  est = Estimator(...) -> est = SKCompat(Estimator(...))\n",
      "WARNING:tensorflow:From <ipython-input-59-5860ee38e9c5>:6: calling BaseEstimator.fit (from tensorflow.contrib.learn.python.learn.estimators.estimator) with batch_size is deprecated and will be removed after 2016-12-01.\n",
      "Instructions for updating:\n",
      "Estimator is decoupled from Scikit Learn interface by moving into\n",
      "separate class SKCompat. Arguments x, y and batch_size are only\n",
      "available in the SKCompat class, Estimator will only accept input_fn.\n",
      "Example conversion:\n",
      "  est = Estimator(...) -> est = SKCompat(Estimator(...))\n",
      "WARNING:tensorflow:float64 is not supported by many models, consider casting to float32.\n",
      "WARNING:tensorflow:From /home/jonj/anaconda3/lib/python3.6/site-packages/tensorflow/contrib/learn/python/learn/estimators/head.py:625: scalar_summary (from tensorflow.python.ops.logging_ops) is deprecated and will be removed after 2016-11-30.\n",
      "Instructions for updating:\n",
      "Please switch to tf.summary.scalar. Note that tf.summary.scalar uses the node name instead of the tag. This means that TensorFlow will automatically de-duplicate summary names based on the scope they are created in. Also, passing a tensor or list of tags to a scalar summary op is no longer supported.\n",
      "INFO:tensorflow:Create CheckpointSaverHook.\n",
      "INFO:tensorflow:Saving checkpoints for 1 into /tmp/tmpwzbtpcwi/model.ckpt.\n",
      "INFO:tensorflow:loss = 123627.0, step = 1\n",
      "INFO:tensorflow:global_step/sec: 998.014\n",
      "INFO:tensorflow:loss = 448.43, step = 101 (0.100 sec)\n",
      "INFO:tensorflow:global_step/sec: 1179.69\n",
      "INFO:tensorflow:loss = 2804.61, step = 201 (0.085 sec)\n",
      "INFO:tensorflow:global_step/sec: 848.232\n",
      "INFO:tensorflow:loss = 1411.9, step = 301 (0.119 sec)\n",
      "INFO:tensorflow:global_step/sec: 840.208\n",
      "INFO:tensorflow:loss = 301.091, step = 401 (0.118 sec)\n",
      "INFO:tensorflow:global_step/sec: 983.007\n",
      "INFO:tensorflow:loss = 1203.93, step = 501 (0.102 sec)\n",
      "INFO:tensorflow:global_step/sec: 850.953\n",
      "INFO:tensorflow:loss = 949.705, step = 601 (0.118 sec)\n",
      "INFO:tensorflow:global_step/sec: 984.828\n",
      "INFO:tensorflow:loss = 645.912, step = 701 (0.101 sec)\n",
      "INFO:tensorflow:global_step/sec: 824.367\n",
      "INFO:tensorflow:loss = 389.518, step = 801 (0.123 sec)\n",
      "INFO:tensorflow:global_step/sec: 834.538\n",
      "INFO:tensorflow:loss = 68.078, step = 901 (0.118 sec)\n",
      "INFO:tensorflow:global_step/sec: 1083.63\n",
      "INFO:tensorflow:loss = 248.832, step = 1001 (0.092 sec)\n",
      "INFO:tensorflow:global_step/sec: 1027.14\n",
      "INFO:tensorflow:loss = 552.962, step = 1101 (0.098 sec)\n",
      "INFO:tensorflow:global_step/sec: 918.39\n",
      "INFO:tensorflow:loss = 273.921, step = 1201 (0.109 sec)\n",
      "INFO:tensorflow:global_step/sec: 866.407\n",
      "INFO:tensorflow:loss = 295.217, step = 1301 (0.115 sec)\n",
      "INFO:tensorflow:global_step/sec: 764.488\n",
      "INFO:tensorflow:loss = 394.463, step = 1401 (0.131 sec)\n",
      "INFO:tensorflow:global_step/sec: 975.041\n",
      "INFO:tensorflow:loss = 179.058, step = 1501 (0.103 sec)\n",
      "INFO:tensorflow:global_step/sec: 974.502\n",
      "INFO:tensorflow:loss = 100.871, step = 1601 (0.104 sec)\n",
      "INFO:tensorflow:global_step/sec: 911.498\n",
      "INFO:tensorflow:loss = 108.527, step = 1701 (0.109 sec)\n",
      "INFO:tensorflow:global_step/sec: 883.8\n",
      "INFO:tensorflow:loss = 2.62534, step = 1801 (0.113 sec)\n",
      "INFO:tensorflow:global_step/sec: 912.954\n",
      "INFO:tensorflow:loss = 178.884, step = 1901 (0.109 sec)\n",
      "INFO:tensorflow:global_step/sec: 929.162\n",
      "INFO:tensorflow:loss = 189.673, step = 2001 (0.108 sec)\n",
      "INFO:tensorflow:global_step/sec: 898.032\n",
      "INFO:tensorflow:loss = 115.077, step = 2101 (0.111 sec)\n",
      "INFO:tensorflow:global_step/sec: 829.816\n",
      "INFO:tensorflow:loss = 36.29, step = 2201 (0.120 sec)\n",
      "INFO:tensorflow:global_step/sec: 822.91\n",
      "INFO:tensorflow:loss = 60.566, step = 2301 (0.122 sec)\n",
      "INFO:tensorflow:global_step/sec: 944.961\n",
      "INFO:tensorflow:loss = 98.8369, step = 2401 (0.105 sec)\n",
      "INFO:tensorflow:global_step/sec: 1013.74\n",
      "INFO:tensorflow:loss = 66.087, step = 2501 (0.099 sec)\n",
      "INFO:tensorflow:global_step/sec: 875.623\n",
      "INFO:tensorflow:loss = 164.299, step = 2601 (0.114 sec)\n",
      "INFO:tensorflow:global_step/sec: 860.299\n",
      "INFO:tensorflow:loss = 3.12452, step = 2701 (0.117 sec)\n",
      "INFO:tensorflow:global_step/sec: 994.432\n",
      "INFO:tensorflow:loss = 252.592, step = 2801 (0.101 sec)\n",
      "INFO:tensorflow:global_step/sec: 925.098\n",
      "INFO:tensorflow:loss = 110.883, step = 2901 (0.107 sec)\n",
      "INFO:tensorflow:global_step/sec: 921.1\n",
      "INFO:tensorflow:loss = 97.9783, step = 3001 (0.109 sec)\n",
      "INFO:tensorflow:global_step/sec: 875.927\n",
      "INFO:tensorflow:loss = 155.26, step = 3101 (0.114 sec)\n",
      "INFO:tensorflow:global_step/sec: 862.374\n",
      "INFO:tensorflow:loss = 84.2505, step = 3201 (0.116 sec)\n",
      "INFO:tensorflow:global_step/sec: 838.852\n",
      "INFO:tensorflow:loss = 68.8332, step = 3301 (0.119 sec)\n",
      "INFO:tensorflow:global_step/sec: 827.96\n",
      "INFO:tensorflow:loss = 133.791, step = 3401 (0.122 sec)\n",
      "INFO:tensorflow:global_step/sec: 919.032\n",
      "INFO:tensorflow:loss = 108.588, step = 3501 (0.107 sec)\n",
      "INFO:tensorflow:global_step/sec: 877.266\n",
      "INFO:tensorflow:loss = 16.9031, step = 3601 (0.114 sec)\n",
      "INFO:tensorflow:global_step/sec: 1020.25\n",
      "INFO:tensorflow:loss = 63.4914, step = 3701 (0.098 sec)\n",
      "INFO:tensorflow:global_step/sec: 822.474\n",
      "INFO:tensorflow:loss = 116.512, step = 3801 (0.121 sec)\n",
      "INFO:tensorflow:global_step/sec: 909.322\n",
      "INFO:tensorflow:loss = 127.976, step = 3901 (0.110 sec)\n",
      "INFO:tensorflow:global_step/sec: 777.77\n",
      "INFO:tensorflow:loss = 144.988, step = 4001 (0.132 sec)\n",
      "INFO:tensorflow:global_step/sec: 839.928\n",
      "INFO:tensorflow:loss = 158.175, step = 4101 (0.115 sec)\n",
      "INFO:tensorflow:global_step/sec: 841.971\n",
      "INFO:tensorflow:loss = 109.036, step = 4201 (0.119 sec)\n",
      "INFO:tensorflow:global_step/sec: 840.865\n",
      "INFO:tensorflow:loss = 6.99483, step = 4301 (0.118 sec)\n",
      "INFO:tensorflow:global_step/sec: 951.387\n",
      "INFO:tensorflow:loss = 81.4507, step = 4401 (0.106 sec)\n",
      "INFO:tensorflow:global_step/sec: 874.77\n",
      "INFO:tensorflow:loss = 67.3239, step = 4501 (0.113 sec)\n",
      "INFO:tensorflow:global_step/sec: 746.171\n",
      "INFO:tensorflow:loss = 111.234, step = 4601 (0.134 sec)\n",
      "INFO:tensorflow:global_step/sec: 928.381\n",
      "INFO:tensorflow:loss = 216.25, step = 4701 (0.108 sec)\n",
      "INFO:tensorflow:global_step/sec: 819.82\n",
      "INFO:tensorflow:loss = 63.7106, step = 4801 (0.124 sec)\n",
      "INFO:tensorflow:global_step/sec: 833.644\n",
      "INFO:tensorflow:loss = 65.5367, step = 4901 (0.118 sec)\n",
      "INFO:tensorflow:global_step/sec: 880.359\n",
      "INFO:tensorflow:loss = 132.924, step = 5001 (0.114 sec)\n",
      "INFO:tensorflow:global_step/sec: 735.914\n",
      "INFO:tensorflow:loss = 93.0954, step = 5101 (0.135 sec)\n",
      "INFO:tensorflow:global_step/sec: 922.998\n",
      "INFO:tensorflow:loss = 5.86181, step = 5201 (0.109 sec)\n",
      "INFO:tensorflow:global_step/sec: 853.684\n",
      "INFO:tensorflow:loss = 48.4, step = 5301 (0.117 sec)\n"
     ]
    },
    {
     "name": "stdout",
     "output_type": "stream",
     "text": [
      "INFO:tensorflow:global_step/sec: 860.434\n",
      "INFO:tensorflow:loss = 42.9419, step = 5401 (0.116 sec)\n",
      "INFO:tensorflow:global_step/sec: 988.894\n",
      "INFO:tensorflow:loss = 76.0496, step = 5501 (0.101 sec)\n",
      "INFO:tensorflow:global_step/sec: 941.859\n",
      "INFO:tensorflow:loss = 43.303, step = 5601 (0.106 sec)\n",
      "INFO:tensorflow:global_step/sec: 860.985\n",
      "INFO:tensorflow:loss = 87.3263, step = 5701 (0.116 sec)\n",
      "INFO:tensorflow:global_step/sec: 684.665\n",
      "INFO:tensorflow:loss = 58.6417, step = 5801 (0.147 sec)\n",
      "INFO:tensorflow:global_step/sec: 661.583\n",
      "INFO:tensorflow:loss = 95.8169, step = 5901 (0.150 sec)\n",
      "INFO:tensorflow:global_step/sec: 949.834\n",
      "INFO:tensorflow:loss = 135.115, step = 6001 (0.106 sec)\n",
      "INFO:tensorflow:global_step/sec: 904.711\n",
      "INFO:tensorflow:loss = 148.245, step = 6101 (0.110 sec)\n",
      "INFO:tensorflow:global_step/sec: 997.955\n",
      "INFO:tensorflow:loss = 123.295, step = 6201 (0.100 sec)\n",
      "INFO:tensorflow:global_step/sec: 968.78\n",
      "INFO:tensorflow:loss = 112.894, step = 6301 (0.103 sec)\n",
      "INFO:tensorflow:global_step/sec: 1108.73\n",
      "INFO:tensorflow:loss = 57.307, step = 6401 (0.091 sec)\n",
      "INFO:tensorflow:global_step/sec: 949.593\n",
      "INFO:tensorflow:loss = 86.3312, step = 6501 (0.104 sec)\n",
      "INFO:tensorflow:global_step/sec: 929.271\n",
      "INFO:tensorflow:loss = 93.7881, step = 6601 (0.108 sec)\n",
      "INFO:tensorflow:global_step/sec: 954.311\n",
      "INFO:tensorflow:loss = 62.1676, step = 6701 (0.104 sec)\n",
      "INFO:tensorflow:global_step/sec: 996.788\n",
      "INFO:tensorflow:loss = 56.4618, step = 6801 (0.100 sec)\n",
      "INFO:tensorflow:global_step/sec: 973.742\n",
      "INFO:tensorflow:loss = 76.0128, step = 6901 (0.102 sec)\n",
      "INFO:tensorflow:global_step/sec: 918.458\n",
      "INFO:tensorflow:loss = 39.7176, step = 7001 (0.109 sec)\n",
      "INFO:tensorflow:global_step/sec: 957.919\n",
      "INFO:tensorflow:loss = 70.6482, step = 7101 (0.106 sec)\n",
      "INFO:tensorflow:global_step/sec: 924.307\n",
      "INFO:tensorflow:loss = 130.549, step = 7201 (0.107 sec)\n",
      "INFO:tensorflow:global_step/sec: 1073.04\n",
      "INFO:tensorflow:loss = 81.1586, step = 7301 (0.094 sec)\n",
      "INFO:tensorflow:global_step/sec: 973.893\n",
      "INFO:tensorflow:loss = 60.1456, step = 7401 (0.103 sec)\n",
      "INFO:tensorflow:global_step/sec: 905.459\n",
      "INFO:tensorflow:loss = 22.9766, step = 7501 (0.112 sec)\n",
      "INFO:tensorflow:global_step/sec: 822.039\n",
      "INFO:tensorflow:loss = 81.6757, step = 7601 (0.120 sec)\n",
      "INFO:tensorflow:global_step/sec: 940.136\n",
      "INFO:tensorflow:loss = 69.3155, step = 7701 (0.107 sec)\n",
      "INFO:tensorflow:global_step/sec: 878.839\n",
      "INFO:tensorflow:loss = 27.7547, step = 7801 (0.113 sec)\n",
      "INFO:tensorflow:global_step/sec: 922.366\n",
      "INFO:tensorflow:loss = 18.5387, step = 7901 (0.108 sec)\n",
      "INFO:tensorflow:global_step/sec: 863.232\n",
      "INFO:tensorflow:loss = 24.4855, step = 8001 (0.116 sec)\n",
      "INFO:tensorflow:global_step/sec: 1028.64\n",
      "INFO:tensorflow:loss = 21.2642, step = 8101 (0.097 sec)\n",
      "INFO:tensorflow:global_step/sec: 1000.25\n",
      "INFO:tensorflow:loss = 19.9261, step = 8201 (0.100 sec)\n",
      "INFO:tensorflow:global_step/sec: 980.61\n",
      "INFO:tensorflow:loss = 52.0891, step = 8301 (0.102 sec)\n",
      "INFO:tensorflow:global_step/sec: 956.274\n",
      "INFO:tensorflow:loss = 82.9317, step = 8401 (0.108 sec)\n",
      "INFO:tensorflow:global_step/sec: 886.653\n",
      "INFO:tensorflow:loss = 13.3443, step = 8501 (0.110 sec)\n",
      "INFO:tensorflow:global_step/sec: 893.896\n",
      "INFO:tensorflow:loss = 60.7377, step = 8601 (0.117 sec)\n",
      "INFO:tensorflow:global_step/sec: 932.134\n",
      "INFO:tensorflow:loss = 95.7308, step = 8701 (0.103 sec)\n",
      "INFO:tensorflow:global_step/sec: 840.606\n",
      "INFO:tensorflow:loss = 47.3077, step = 8801 (0.120 sec)\n",
      "INFO:tensorflow:global_step/sec: 900.32\n",
      "INFO:tensorflow:loss = 7.03515, step = 8901 (0.110 sec)\n",
      "INFO:tensorflow:global_step/sec: 1071.78\n",
      "INFO:tensorflow:loss = 73.4628, step = 9001 (0.093 sec)\n",
      "INFO:tensorflow:global_step/sec: 1071.81\n",
      "INFO:tensorflow:loss = 36.7468, step = 9101 (0.094 sec)\n",
      "INFO:tensorflow:global_step/sec: 1005.16\n",
      "INFO:tensorflow:loss = 15.8352, step = 9201 (0.100 sec)\n",
      "INFO:tensorflow:global_step/sec: 925.652\n",
      "INFO:tensorflow:loss = 101.355, step = 9301 (0.107 sec)\n",
      "INFO:tensorflow:global_step/sec: 849.811\n",
      "INFO:tensorflow:loss = 23.7038, step = 9401 (0.118 sec)\n",
      "INFO:tensorflow:global_step/sec: 917.626\n",
      "INFO:tensorflow:loss = 41.3448, step = 9501 (0.112 sec)\n",
      "INFO:tensorflow:global_step/sec: 934.87\n",
      "INFO:tensorflow:loss = 62.7607, step = 9601 (0.104 sec)\n",
      "INFO:tensorflow:global_step/sec: 908.613\n",
      "INFO:tensorflow:loss = 36.863, step = 9701 (0.112 sec)\n",
      "INFO:tensorflow:global_step/sec: 864.14\n",
      "INFO:tensorflow:loss = 48.0681, step = 9801 (0.118 sec)\n",
      "INFO:tensorflow:global_step/sec: 942.875\n",
      "INFO:tensorflow:loss = 12.7351, step = 9901 (0.102 sec)\n",
      "INFO:tensorflow:global_step/sec: 1012.41\n",
      "INFO:tensorflow:loss = 59.0103, step = 10001 (0.099 sec)\n",
      "INFO:tensorflow:global_step/sec: 906.351\n",
      "INFO:tensorflow:loss = 66.3204, step = 10101 (0.110 sec)\n",
      "INFO:tensorflow:global_step/sec: 944.37\n",
      "INFO:tensorflow:loss = 81.491, step = 10201 (0.106 sec)\n",
      "INFO:tensorflow:global_step/sec: 883.929\n",
      "INFO:tensorflow:loss = 3.87844, step = 10301 (0.114 sec)\n",
      "INFO:tensorflow:global_step/sec: 822.122\n",
      "INFO:tensorflow:loss = 8.20811, step = 10401 (0.121 sec)\n",
      "INFO:tensorflow:global_step/sec: 993.318\n",
      "INFO:tensorflow:loss = 35.3916, step = 10501 (0.101 sec)\n",
      "INFO:tensorflow:global_step/sec: 903.84\n",
      "INFO:tensorflow:loss = 63.3925, step = 10601 (0.111 sec)\n",
      "INFO:tensorflow:global_step/sec: 1002.6\n",
      "INFO:tensorflow:loss = 24.8008, step = 10701 (0.101 sec)\n",
      "INFO:tensorflow:global_step/sec: 818.938\n",
      "INFO:tensorflow:loss = 61.8206, step = 10801 (0.121 sec)\n",
      "INFO:tensorflow:global_step/sec: 957.033\n",
      "INFO:tensorflow:loss = 56.0202, step = 10901 (0.104 sec)\n",
      "INFO:tensorflow:global_step/sec: 903.153\n",
      "INFO:tensorflow:loss = 52.8403, step = 11001 (0.111 sec)\n",
      "INFO:tensorflow:global_step/sec: 1089.52\n",
      "INFO:tensorflow:loss = 34.0799, step = 11101 (0.092 sec)\n",
      "INFO:tensorflow:global_step/sec: 832.334\n",
      "INFO:tensorflow:loss = 54.1607, step = 11201 (0.120 sec)\n",
      "INFO:tensorflow:global_step/sec: 839.993\n",
      "INFO:tensorflow:loss = 31.8086, step = 11301 (0.119 sec)\n",
      "INFO:tensorflow:global_step/sec: 855.422\n",
      "INFO:tensorflow:loss = 87.7327, step = 11401 (0.117 sec)\n",
      "INFO:tensorflow:global_step/sec: 812.944\n",
      "INFO:tensorflow:loss = 11.1965, step = 11501 (0.123 sec)\n",
      "INFO:tensorflow:global_step/sec: 1040.14\n",
      "INFO:tensorflow:loss = 37.9106, step = 11601 (0.097 sec)\n",
      "INFO:tensorflow:global_step/sec: 940.094\n",
      "INFO:tensorflow:loss = 46.3176, step = 11701 (0.106 sec)\n",
      "INFO:tensorflow:global_step/sec: 1082.86\n",
      "INFO:tensorflow:loss = 19.3848, step = 11801 (0.092 sec)\n",
      "INFO:tensorflow:global_step/sec: 942.913\n",
      "INFO:tensorflow:loss = 77.7899, step = 11901 (0.106 sec)\n",
      "INFO:tensorflow:global_step/sec: 1063.6\n",
      "INFO:tensorflow:loss = 27.6904, step = 12001 (0.096 sec)\n",
      "INFO:tensorflow:global_step/sec: 797.663\n",
      "INFO:tensorflow:loss = 26.1635, step = 12101 (0.123 sec)\n",
      "INFO:tensorflow:global_step/sec: 903.74\n",
      "INFO:tensorflow:loss = 56.4457, step = 12201 (0.111 sec)\n",
      "INFO:tensorflow:global_step/sec: 834.007\n",
      "INFO:tensorflow:loss = 0.969833, step = 12301 (0.120 sec)\n",
      "INFO:tensorflow:global_step/sec: 935.926\n",
      "INFO:tensorflow:loss = 30.504, step = 12401 (0.108 sec)\n",
      "INFO:tensorflow:global_step/sec: 868.528\n",
      "INFO:tensorflow:loss = 0.508258, step = 12501 (0.114 sec)\n",
      "INFO:tensorflow:global_step/sec: 884.925\n",
      "INFO:tensorflow:loss = 21.63, step = 12601 (0.114 sec)\n",
      "INFO:tensorflow:global_step/sec: 921.6\n",
      "INFO:tensorflow:loss = 45.6893, step = 12701 (0.107 sec)\n",
      "INFO:tensorflow:global_step/sec: 1010.17\n",
      "INFO:tensorflow:loss = 53.2512, step = 12801 (0.099 sec)\n",
      "INFO:tensorflow:global_step/sec: 1095.01\n",
      "INFO:tensorflow:loss = 8.33389, step = 12901 (0.092 sec)\n",
      "INFO:tensorflow:global_step/sec: 880.13\n",
      "INFO:tensorflow:loss = 42.9862, step = 13001 (0.113 sec)\n",
      "INFO:tensorflow:global_step/sec: 861.183\n",
      "INFO:tensorflow:loss = 2.52373, step = 13101 (0.116 sec)\n",
      "INFO:tensorflow:global_step/sec: 928.087\n",
      "INFO:tensorflow:loss = 47.813, step = 13201 (0.108 sec)\n",
      "INFO:tensorflow:global_step/sec: 925.017\n",
      "INFO:tensorflow:loss = 22.3924, step = 13301 (0.108 sec)\n",
      "INFO:tensorflow:global_step/sec: 944.178\n",
      "INFO:tensorflow:loss = 3.69923, step = 13401 (0.106 sec)\n",
      "INFO:tensorflow:global_step/sec: 904.079\n",
      "INFO:tensorflow:loss = 12.4433, step = 13501 (0.111 sec)\n",
      "INFO:tensorflow:global_step/sec: 885.214\n",
      "INFO:tensorflow:loss = 42.0907, step = 13601 (0.113 sec)\n",
      "INFO:tensorflow:global_step/sec: 998.328\n",
      "INFO:tensorflow:loss = 28.198, step = 13701 (0.100 sec)\n",
      "INFO:tensorflow:global_step/sec: 972.54\n"
     ]
    },
    {
     "name": "stdout",
     "output_type": "stream",
     "text": [
      "INFO:tensorflow:loss = 48.2102, step = 13801 (0.103 sec)\n",
      "INFO:tensorflow:global_step/sec: 940.391\n",
      "INFO:tensorflow:loss = 11.9974, step = 13901 (0.107 sec)\n",
      "INFO:tensorflow:global_step/sec: 906.945\n",
      "INFO:tensorflow:loss = 13.0382, step = 14001 (0.109 sec)\n",
      "INFO:tensorflow:global_step/sec: 1007.11\n",
      "INFO:tensorflow:loss = 15.0929, step = 14101 (0.099 sec)\n",
      "INFO:tensorflow:global_step/sec: 1014.02\n",
      "INFO:tensorflow:loss = 0.0377354, step = 14201 (0.098 sec)\n",
      "INFO:tensorflow:global_step/sec: 924.401\n",
      "INFO:tensorflow:loss = 42.2358, step = 14301 (0.108 sec)\n",
      "INFO:tensorflow:global_step/sec: 958.389\n",
      "INFO:tensorflow:loss = 37.1052, step = 14401 (0.106 sec)\n",
      "INFO:tensorflow:global_step/sec: 895.09\n",
      "INFO:tensorflow:loss = 6.1173, step = 14501 (0.111 sec)\n",
      "INFO:tensorflow:global_step/sec: 979.012\n",
      "INFO:tensorflow:loss = 23.9455, step = 14601 (0.102 sec)\n",
      "INFO:tensorflow:global_step/sec: 958.926\n",
      "INFO:tensorflow:loss = 44.1614, step = 14701 (0.105 sec)\n",
      "INFO:tensorflow:global_step/sec: 957.387\n",
      "INFO:tensorflow:loss = 6.47611, step = 14801 (0.104 sec)\n",
      "INFO:tensorflow:global_step/sec: 972.872\n",
      "INFO:tensorflow:loss = 10.1542, step = 14901 (0.103 sec)\n",
      "INFO:tensorflow:global_step/sec: 939.637\n",
      "INFO:tensorflow:loss = 2.38721, step = 15001 (0.107 sec)\n",
      "INFO:tensorflow:global_step/sec: 1065.06\n",
      "INFO:tensorflow:loss = 48.2021, step = 15101 (0.094 sec)\n",
      "INFO:tensorflow:global_step/sec: 904.623\n",
      "INFO:tensorflow:loss = 25.38, step = 15201 (0.110 sec)\n",
      "INFO:tensorflow:global_step/sec: 952.126\n",
      "INFO:tensorflow:loss = 15.7862, step = 15301 (0.105 sec)\n",
      "INFO:tensorflow:global_step/sec: 935.439\n",
      "INFO:tensorflow:loss = 59.1431, step = 15401 (0.108 sec)\n",
      "INFO:tensorflow:global_step/sec: 975.281\n",
      "INFO:tensorflow:loss = 31.2996, step = 15501 (0.101 sec)\n",
      "INFO:tensorflow:global_step/sec: 987.843\n",
      "INFO:tensorflow:loss = 51.3949, step = 15601 (0.105 sec)\n",
      "INFO:tensorflow:global_step/sec: 918.01\n",
      "INFO:tensorflow:loss = 47.7331, step = 15701 (0.105 sec)\n",
      "INFO:tensorflow:global_step/sec: 935.154\n",
      "INFO:tensorflow:loss = 35.0633, step = 15801 (0.109 sec)\n",
      "INFO:tensorflow:global_step/sec: 829.112\n",
      "INFO:tensorflow:loss = 5.82988, step = 15901 (0.119 sec)\n",
      "INFO:tensorflow:global_step/sec: 893.9\n",
      "INFO:tensorflow:loss = 8.30394, step = 16001 (0.111 sec)\n",
      "INFO:tensorflow:global_step/sec: 913.74\n",
      "INFO:tensorflow:loss = 23.8446, step = 16101 (0.109 sec)\n",
      "INFO:tensorflow:global_step/sec: 849.395\n",
      "INFO:tensorflow:loss = 31.5885, step = 16201 (0.118 sec)\n",
      "INFO:tensorflow:global_step/sec: 938.934\n",
      "INFO:tensorflow:loss = 11.4357, step = 16301 (0.107 sec)\n",
      "INFO:tensorflow:global_step/sec: 870.023\n",
      "INFO:tensorflow:loss = 37.2848, step = 16401 (0.114 sec)\n",
      "INFO:tensorflow:global_step/sec: 937.761\n",
      "INFO:tensorflow:loss = 20.1097, step = 16501 (0.107 sec)\n",
      "INFO:tensorflow:global_step/sec: 913.796\n",
      "INFO:tensorflow:loss = 1.56964, step = 16601 (0.109 sec)\n",
      "INFO:tensorflow:global_step/sec: 940.731\n",
      "INFO:tensorflow:loss = 15.7691, step = 16701 (0.106 sec)\n",
      "INFO:tensorflow:global_step/sec: 936.174\n",
      "INFO:tensorflow:loss = 8.15602, step = 16801 (0.108 sec)\n",
      "INFO:tensorflow:global_step/sec: 961.754\n",
      "INFO:tensorflow:loss = 13.6485, step = 16901 (0.102 sec)\n",
      "INFO:tensorflow:global_step/sec: 856.779\n",
      "INFO:tensorflow:loss = 18.8739, step = 17001 (0.117 sec)\n",
      "INFO:tensorflow:global_step/sec: 935.496\n",
      "INFO:tensorflow:loss = 39.8224, step = 17101 (0.107 sec)\n",
      "INFO:tensorflow:global_step/sec: 903.168\n",
      "INFO:tensorflow:loss = 14.8685, step = 17201 (0.114 sec)\n",
      "INFO:tensorflow:global_step/sec: 859.524\n",
      "INFO:tensorflow:loss = 8.7132, step = 17301 (0.113 sec)\n",
      "INFO:tensorflow:global_step/sec: 953.221\n",
      "INFO:tensorflow:loss = 33.4837, step = 17401 (0.104 sec)\n",
      "INFO:tensorflow:global_step/sec: 970.553\n",
      "INFO:tensorflow:loss = 36.3829, step = 17501 (0.103 sec)\n",
      "INFO:tensorflow:global_step/sec: 935.869\n",
      "INFO:tensorflow:loss = 35.3298, step = 17601 (0.107 sec)\n",
      "INFO:tensorflow:global_step/sec: 930.065\n",
      "INFO:tensorflow:loss = 39.4443, step = 17701 (0.110 sec)\n",
      "INFO:tensorflow:global_step/sec: 926.04\n",
      "INFO:tensorflow:loss = 32.57, step = 17801 (0.106 sec)\n",
      "INFO:tensorflow:global_step/sec: 879.211\n",
      "INFO:tensorflow:loss = 44.8229, step = 17901 (0.115 sec)\n",
      "INFO:tensorflow:global_step/sec: 981.503\n",
      "INFO:tensorflow:loss = 8.81826, step = 18001 (0.101 sec)\n",
      "INFO:tensorflow:global_step/sec: 878.247\n",
      "INFO:tensorflow:loss = 17.0868, step = 18101 (0.114 sec)\n",
      "INFO:tensorflow:global_step/sec: 866.137\n",
      "INFO:tensorflow:loss = 0.304364, step = 18201 (0.117 sec)\n",
      "INFO:tensorflow:global_step/sec: 960.424\n",
      "INFO:tensorflow:loss = 45.6102, step = 18301 (0.103 sec)\n",
      "INFO:tensorflow:global_step/sec: 1040.89\n",
      "INFO:tensorflow:loss = 39.89, step = 18401 (0.101 sec)\n",
      "INFO:tensorflow:global_step/sec: 964.328\n",
      "INFO:tensorflow:loss = 18.8086, step = 18501 (0.099 sec)\n",
      "INFO:tensorflow:global_step/sec: 949.561\n",
      "INFO:tensorflow:loss = 32.9537, step = 18601 (0.105 sec)\n",
      "INFO:tensorflow:global_step/sec: 855.521\n",
      "INFO:tensorflow:loss = 50.4986, step = 18701 (0.117 sec)\n",
      "INFO:tensorflow:global_step/sec: 960.166\n",
      "INFO:tensorflow:loss = 17.7596, step = 18801 (0.104 sec)\n",
      "INFO:tensorflow:global_step/sec: 863.532\n",
      "INFO:tensorflow:loss = 4.67113, step = 18901 (0.116 sec)\n",
      "INFO:tensorflow:global_step/sec: 931.852\n",
      "INFO:tensorflow:loss = 39.8974, step = 19001 (0.115 sec)\n",
      "INFO:tensorflow:global_step/sec: 782.117\n",
      "INFO:tensorflow:loss = 15.6558, step = 19101 (0.120 sec)\n",
      "INFO:tensorflow:global_step/sec: 883.633\n",
      "INFO:tensorflow:loss = 24.7536, step = 19201 (0.114 sec)\n",
      "INFO:tensorflow:global_step/sec: 1022.38\n",
      "INFO:tensorflow:loss = 0.0111758, step = 19301 (0.097 sec)\n",
      "INFO:tensorflow:global_step/sec: 1026.87\n",
      "INFO:tensorflow:loss = 23.9405, step = 19401 (0.097 sec)\n",
      "INFO:tensorflow:global_step/sec: 851.212\n",
      "INFO:tensorflow:loss = 2.69636, step = 19501 (0.119 sec)\n",
      "INFO:tensorflow:global_step/sec: 897.204\n",
      "INFO:tensorflow:loss = 0.901874, step = 19601 (0.112 sec)\n",
      "INFO:tensorflow:global_step/sec: 927.966\n",
      "INFO:tensorflow:loss = 57.3122, step = 19701 (0.107 sec)\n",
      "INFO:tensorflow:global_step/sec: 869.275\n",
      "INFO:tensorflow:loss = 3.93269, step = 19801 (0.114 sec)\n",
      "INFO:tensorflow:global_step/sec: 917.532\n",
      "INFO:tensorflow:loss = 18.5897, step = 19901 (0.110 sec)\n",
      "INFO:tensorflow:global_step/sec: 890.019\n",
      "INFO:tensorflow:loss = 0.706628, step = 20001 (0.112 sec)\n",
      "INFO:tensorflow:global_step/sec: 919.937\n",
      "INFO:tensorflow:loss = 4.35028, step = 20101 (0.108 sec)\n",
      "INFO:tensorflow:global_step/sec: 986.969\n",
      "INFO:tensorflow:loss = 9.6617, step = 20201 (0.102 sec)\n",
      "INFO:tensorflow:global_step/sec: 902.282\n",
      "INFO:tensorflow:loss = 62.853, step = 20301 (0.109 sec)\n",
      "INFO:tensorflow:global_step/sec: 920.268\n",
      "INFO:tensorflow:loss = 29.501, step = 20401 (0.109 sec)\n",
      "INFO:tensorflow:global_step/sec: 841.12\n",
      "INFO:tensorflow:loss = 14.4345, step = 20501 (0.119 sec)\n",
      "INFO:tensorflow:global_step/sec: 926.871\n",
      "INFO:tensorflow:loss = 4.10016, step = 20601 (0.107 sec)\n",
      "INFO:tensorflow:global_step/sec: 905.502\n",
      "INFO:tensorflow:loss = 24.049, step = 20701 (0.111 sec)\n",
      "INFO:tensorflow:global_step/sec: 821.713\n",
      "INFO:tensorflow:loss = 44.79, step = 20801 (0.121 sec)\n",
      "INFO:tensorflow:global_step/sec: 944.95\n",
      "INFO:tensorflow:loss = 9.78219, step = 20901 (0.108 sec)\n",
      "INFO:tensorflow:global_step/sec: 954.461\n",
      "INFO:tensorflow:loss = 26.4314, step = 21001 (0.103 sec)\n",
      "INFO:tensorflow:global_step/sec: 972.897\n",
      "INFO:tensorflow:loss = 12.4127, step = 21101 (0.106 sec)\n",
      "INFO:tensorflow:global_step/sec: 844.31\n",
      "INFO:tensorflow:loss = 1.54628, step = 21201 (0.116 sec)\n",
      "INFO:tensorflow:global_step/sec: 548.029\n",
      "INFO:tensorflow:loss = 11.6998, step = 21301 (0.183 sec)\n",
      "INFO:tensorflow:global_step/sec: 826.013\n",
      "INFO:tensorflow:loss = 17.7371, step = 21401 (0.121 sec)\n",
      "INFO:tensorflow:global_step/sec: 870.029\n",
      "INFO:tensorflow:loss = 0.00646887, step = 21501 (0.115 sec)\n",
      "INFO:tensorflow:global_step/sec: 938.084\n",
      "INFO:tensorflow:loss = 21.7738, step = 21601 (0.106 sec)\n",
      "INFO:tensorflow:global_step/sec: 892.819\n",
      "INFO:tensorflow:loss = 22.2369, step = 21701 (0.113 sec)\n",
      "INFO:tensorflow:global_step/sec: 886.089\n",
      "INFO:tensorflow:loss = 12.7402, step = 21801 (0.113 sec)\n",
      "INFO:tensorflow:global_step/sec: 860.351\n",
      "INFO:tensorflow:loss = 5.28151, step = 21901 (0.116 sec)\n",
      "INFO:tensorflow:global_step/sec: 910.918\n",
      "INFO:tensorflow:loss = 3.24, step = 22001 (0.110 sec)\n",
      "INFO:tensorflow:global_step/sec: 975.218\n",
      "INFO:tensorflow:loss = 2.63905, step = 22101 (0.103 sec)\n",
      "INFO:tensorflow:global_step/sec: 893.864\n"
     ]
    },
    {
     "name": "stdout",
     "output_type": "stream",
     "text": [
      "INFO:tensorflow:loss = 30.1584, step = 22201 (0.112 sec)\n",
      "INFO:tensorflow:global_step/sec: 842.829\n",
      "INFO:tensorflow:loss = 1.12064, step = 22301 (0.119 sec)\n",
      "INFO:tensorflow:global_step/sec: 1025.55\n",
      "INFO:tensorflow:loss = 9.31182, step = 22401 (0.097 sec)\n",
      "INFO:tensorflow:global_step/sec: 909.149\n",
      "INFO:tensorflow:loss = 9.57148, step = 22501 (0.110 sec)\n",
      "INFO:tensorflow:global_step/sec: 928.831\n",
      "INFO:tensorflow:loss = 19.6454, step = 22601 (0.108 sec)\n",
      "INFO:tensorflow:global_step/sec: 919.574\n",
      "INFO:tensorflow:loss = 14.2216, step = 22701 (0.112 sec)\n",
      "INFO:tensorflow:global_step/sec: 971.772\n",
      "INFO:tensorflow:loss = 2.09634, step = 22801 (0.100 sec)\n",
      "INFO:tensorflow:global_step/sec: 999.572\n",
      "INFO:tensorflow:loss = 23.3641, step = 22901 (0.100 sec)\n",
      "INFO:tensorflow:global_step/sec: 1024.07\n",
      "INFO:tensorflow:loss = 8.03324, step = 23001 (0.098 sec)\n",
      "INFO:tensorflow:global_step/sec: 909.382\n",
      "INFO:tensorflow:loss = 40.714, step = 23101 (0.110 sec)\n",
      "INFO:tensorflow:global_step/sec: 893.614\n",
      "INFO:tensorflow:loss = 27.6962, step = 23201 (0.112 sec)\n",
      "INFO:tensorflow:global_step/sec: 995.01\n",
      "INFO:tensorflow:loss = 44.455, step = 23301 (0.100 sec)\n",
      "INFO:tensorflow:global_step/sec: 849.917\n",
      "INFO:tensorflow:loss = 50.4266, step = 23401 (0.118 sec)\n",
      "INFO:tensorflow:global_step/sec: 903.526\n",
      "INFO:tensorflow:loss = 31.2365, step = 23501 (0.111 sec)\n",
      "INFO:tensorflow:global_step/sec: 878.53\n",
      "INFO:tensorflow:loss = 1.85998, step = 23601 (0.113 sec)\n",
      "INFO:tensorflow:global_step/sec: 1012.31\n",
      "INFO:tensorflow:loss = 4.60262, step = 23701 (0.099 sec)\n",
      "INFO:tensorflow:global_step/sec: 995.732\n",
      "INFO:tensorflow:loss = 0.159101, step = 23801 (0.101 sec)\n",
      "INFO:tensorflow:global_step/sec: 997.637\n",
      "INFO:tensorflow:loss = 18.0497, step = 23901 (0.100 sec)\n",
      "INFO:tensorflow:global_step/sec: 925.292\n",
      "INFO:tensorflow:loss = 12.7491, step = 24001 (0.108 sec)\n",
      "INFO:tensorflow:global_step/sec: 952.818\n",
      "INFO:tensorflow:loss = 37.5613, step = 24101 (0.106 sec)\n",
      "INFO:tensorflow:global_step/sec: 969.362\n",
      "INFO:tensorflow:loss = 2.9286, step = 24201 (0.103 sec)\n",
      "INFO:tensorflow:global_step/sec: 884.384\n",
      "INFO:tensorflow:loss = 3.15303, step = 24301 (0.114 sec)\n",
      "INFO:tensorflow:global_step/sec: 879.567\n",
      "INFO:tensorflow:loss = 24.4073, step = 24401 (0.112 sec)\n",
      "INFO:tensorflow:global_step/sec: 828.133\n",
      "INFO:tensorflow:loss = 19.1336, step = 24501 (0.126 sec)\n",
      "INFO:tensorflow:global_step/sec: 942.956\n",
      "INFO:tensorflow:loss = 9.17062, step = 24601 (0.101 sec)\n",
      "INFO:tensorflow:global_step/sec: 965.382\n",
      "INFO:tensorflow:loss = 29.3683, step = 24701 (0.103 sec)\n",
      "INFO:tensorflow:global_step/sec: 958.137\n",
      "INFO:tensorflow:loss = 20.6817, step = 24801 (0.104 sec)\n",
      "INFO:tensorflow:global_step/sec: 927.597\n",
      "INFO:tensorflow:loss = 0.152891, step = 24901 (0.108 sec)\n",
      "INFO:tensorflow:global_step/sec: 880.365\n",
      "INFO:tensorflow:loss = 4.87481, step = 25001 (0.114 sec)\n",
      "INFO:tensorflow:global_step/sec: 902.117\n",
      "INFO:tensorflow:loss = 26.123, step = 25101 (0.112 sec)\n",
      "INFO:tensorflow:global_step/sec: 889.483\n",
      "INFO:tensorflow:loss = 21.4972, step = 25201 (0.111 sec)\n",
      "INFO:tensorflow:global_step/sec: 889.466\n",
      "INFO:tensorflow:loss = 4.67223, step = 25301 (0.113 sec)\n",
      "INFO:tensorflow:global_step/sec: 847.466\n",
      "INFO:tensorflow:loss = 16.7775, step = 25401 (0.120 sec)\n",
      "INFO:tensorflow:global_step/sec: 911.266\n",
      "INFO:tensorflow:loss = 27.5074, step = 25501 (0.107 sec)\n",
      "INFO:tensorflow:global_step/sec: 982.098\n",
      "INFO:tensorflow:loss = 16.9191, step = 25601 (0.102 sec)\n",
      "INFO:tensorflow:global_step/sec: 880.136\n",
      "INFO:tensorflow:loss = 12.0305, step = 25701 (0.113 sec)\n",
      "INFO:tensorflow:global_step/sec: 898.157\n",
      "INFO:tensorflow:loss = 4.98492, step = 25801 (0.111 sec)\n",
      "INFO:tensorflow:global_step/sec: 872.766\n",
      "INFO:tensorflow:loss = 1.72593, step = 25901 (0.115 sec)\n",
      "INFO:tensorflow:global_step/sec: 963.446\n",
      "INFO:tensorflow:loss = 43.7058, step = 26001 (0.104 sec)\n",
      "INFO:tensorflow:global_step/sec: 853.21\n",
      "INFO:tensorflow:loss = 12.2268, step = 26101 (0.118 sec)\n",
      "INFO:tensorflow:global_step/sec: 868.526\n",
      "INFO:tensorflow:loss = 5.24349, step = 26201 (0.115 sec)\n",
      "INFO:tensorflow:global_step/sec: 881.308\n",
      "INFO:tensorflow:loss = 12.3442, step = 26301 (0.113 sec)\n",
      "INFO:tensorflow:global_step/sec: 878.039\n",
      "INFO:tensorflow:loss = 13.8805, step = 26401 (0.115 sec)\n",
      "INFO:tensorflow:global_step/sec: 921.258\n",
      "INFO:tensorflow:loss = 24.0658, step = 26501 (0.109 sec)\n",
      "INFO:tensorflow:global_step/sec: 840.916\n",
      "INFO:tensorflow:loss = 9.34541, step = 26601 (0.118 sec)\n",
      "INFO:tensorflow:global_step/sec: 919.906\n",
      "INFO:tensorflow:loss = 3.37749, step = 26701 (0.108 sec)\n",
      "INFO:tensorflow:global_step/sec: 807.205\n",
      "INFO:tensorflow:loss = 1.01777, step = 26801 (0.124 sec)\n",
      "INFO:tensorflow:global_step/sec: 859.825\n",
      "INFO:tensorflow:loss = 3.00604, step = 26901 (0.117 sec)\n",
      "INFO:tensorflow:global_step/sec: 897.442\n",
      "INFO:tensorflow:loss = 18.8802, step = 27001 (0.110 sec)\n",
      "INFO:tensorflow:global_step/sec: 886.099\n",
      "INFO:tensorflow:loss = 15.5731, step = 27101 (0.115 sec)\n",
      "INFO:tensorflow:global_step/sec: 769.34\n",
      "INFO:tensorflow:loss = 14.333, step = 27201 (0.129 sec)\n",
      "INFO:tensorflow:global_step/sec: 935.529\n",
      "INFO:tensorflow:loss = 47.2732, step = 27301 (0.106 sec)\n",
      "INFO:tensorflow:global_step/sec: 943.244\n",
      "INFO:tensorflow:loss = 11.8327, step = 27401 (0.107 sec)\n",
      "INFO:tensorflow:global_step/sec: 1006.86\n",
      "INFO:tensorflow:loss = 2.14242, step = 27501 (0.098 sec)\n",
      "INFO:tensorflow:global_step/sec: 894.287\n",
      "INFO:tensorflow:loss = 7.14779, step = 27601 (0.112 sec)\n",
      "INFO:tensorflow:global_step/sec: 887.93\n",
      "INFO:tensorflow:loss = 0.0521036, step = 27701 (0.112 sec)\n",
      "INFO:tensorflow:global_step/sec: 881.569\n",
      "INFO:tensorflow:loss = 18.8184, step = 27801 (0.114 sec)\n",
      "INFO:tensorflow:global_step/sec: 847.262\n",
      "INFO:tensorflow:loss = 6.68517, step = 27901 (0.117 sec)\n",
      "INFO:tensorflow:global_step/sec: 837.446\n",
      "INFO:tensorflow:loss = 34.1418, step = 28001 (0.120 sec)\n",
      "INFO:tensorflow:global_step/sec: 844.611\n",
      "INFO:tensorflow:loss = 22.3311, step = 28101 (0.119 sec)\n",
      "INFO:tensorflow:global_step/sec: 924.12\n",
      "INFO:tensorflow:loss = 5.18536, step = 28201 (0.108 sec)\n",
      "INFO:tensorflow:global_step/sec: 984.703\n",
      "INFO:tensorflow:loss = 8.08294, step = 28301 (0.102 sec)\n",
      "INFO:tensorflow:global_step/sec: 947.788\n",
      "INFO:tensorflow:loss = 11.518, step = 28401 (0.104 sec)\n",
      "INFO:tensorflow:global_step/sec: 953.357\n",
      "INFO:tensorflow:loss = 7.63411, step = 28501 (0.106 sec)\n",
      "INFO:tensorflow:global_step/sec: 797.95\n",
      "INFO:tensorflow:loss = 1.28398, step = 28601 (0.124 sec)\n",
      "INFO:tensorflow:global_step/sec: 887.751\n",
      "INFO:tensorflow:loss = 2.90469, step = 28701 (0.114 sec)\n",
      "INFO:tensorflow:global_step/sec: 961.681\n",
      "INFO:tensorflow:loss = 11.523, step = 28801 (0.103 sec)\n",
      "INFO:tensorflow:global_step/sec: 965.013\n",
      "INFO:tensorflow:loss = 5.16201, step = 28901 (0.104 sec)\n",
      "INFO:tensorflow:global_step/sec: 861.296\n",
      "INFO:tensorflow:loss = 24.3798, step = 29001 (0.117 sec)\n",
      "INFO:tensorflow:global_step/sec: 913.615\n",
      "INFO:tensorflow:loss = 12.8851, step = 29101 (0.108 sec)\n",
      "INFO:tensorflow:global_step/sec: 917.47\n",
      "INFO:tensorflow:loss = 22.135, step = 29201 (0.109 sec)\n",
      "INFO:tensorflow:global_step/sec: 942.665\n",
      "INFO:tensorflow:loss = 0.0142008, step = 29301 (0.106 sec)\n",
      "INFO:tensorflow:global_step/sec: 880.527\n",
      "INFO:tensorflow:loss = 2.46494, step = 29401 (0.114 sec)\n",
      "INFO:tensorflow:global_step/sec: 833.579\n",
      "INFO:tensorflow:loss = 6.57412, step = 29501 (0.120 sec)\n",
      "INFO:tensorflow:global_step/sec: 850.685\n",
      "INFO:tensorflow:loss = 0.0330147, step = 29601 (0.117 sec)\n",
      "INFO:tensorflow:global_step/sec: 986.088\n",
      "INFO:tensorflow:loss = 6.09161, step = 29701 (0.102 sec)\n",
      "INFO:tensorflow:global_step/sec: 872.388\n",
      "INFO:tensorflow:loss = 9.36167, step = 29801 (0.116 sec)\n",
      "INFO:tensorflow:global_step/sec: 851.929\n",
      "INFO:tensorflow:loss = 15.1548, step = 29901 (0.117 sec)\n",
      "INFO:tensorflow:global_step/sec: 901.559\n",
      "INFO:tensorflow:loss = 2.10323, step = 30001 (0.108 sec)\n",
      "INFO:tensorflow:global_step/sec: 935.825\n",
      "INFO:tensorflow:loss = 0.00743348, step = 30101 (0.107 sec)\n",
      "INFO:tensorflow:global_step/sec: 952.225\n",
      "INFO:tensorflow:loss = 9.50932, step = 30201 (0.104 sec)\n",
      "INFO:tensorflow:global_step/sec: 808.824\n",
      "INFO:tensorflow:loss = 13.1233, step = 30301 (0.124 sec)\n",
      "INFO:tensorflow:global_step/sec: 876.89\n",
      "INFO:tensorflow:loss = 5.63112, step = 30401 (0.115 sec)\n",
      "INFO:tensorflow:global_step/sec: 881.988\n",
      "INFO:tensorflow:loss = 0.580446, step = 30501 (0.113 sec)\n",
      "INFO:tensorflow:global_step/sec: 839.872\n"
     ]
    },
    {
     "name": "stdout",
     "output_type": "stream",
     "text": [
      "INFO:tensorflow:loss = 30.3001, step = 30601 (0.119 sec)\n",
      "INFO:tensorflow:global_step/sec: 886.359\n",
      "INFO:tensorflow:loss = 2.65582, step = 30701 (0.113 sec)\n",
      "INFO:tensorflow:global_step/sec: 908.594\n",
      "INFO:tensorflow:loss = 26.1027, step = 30801 (0.111 sec)\n",
      "INFO:tensorflow:global_step/sec: 1034.76\n",
      "INFO:tensorflow:loss = 18.4317, step = 30901 (0.096 sec)\n",
      "INFO:tensorflow:global_step/sec: 963.636\n",
      "INFO:tensorflow:loss = 38.6505, step = 31001 (0.104 sec)\n",
      "INFO:tensorflow:global_step/sec: 1131.88\n",
      "INFO:tensorflow:loss = 11.1462, step = 31101 (0.088 sec)\n",
      "INFO:tensorflow:global_step/sec: 929.022\n",
      "INFO:tensorflow:loss = 1.80772, step = 31201 (0.108 sec)\n",
      "INFO:tensorflow:global_step/sec: 919.02\n",
      "INFO:tensorflow:loss = 14.7971, step = 31301 (0.111 sec)\n",
      "INFO:tensorflow:global_step/sec: 925.582\n",
      "INFO:tensorflow:loss = 21.1975, step = 31401 (0.106 sec)\n",
      "INFO:tensorflow:global_step/sec: 909.313\n",
      "INFO:tensorflow:loss = 0.529345, step = 31501 (0.110 sec)\n",
      "INFO:tensorflow:global_step/sec: 956.47\n",
      "INFO:tensorflow:loss = 3.86293, step = 31601 (0.104 sec)\n",
      "INFO:tensorflow:global_step/sec: 959.589\n",
      "INFO:tensorflow:loss = 0.0130546, step = 31701 (0.105 sec)\n",
      "INFO:tensorflow:global_step/sec: 886.685\n",
      "INFO:tensorflow:loss = 32.5256, step = 31801 (0.112 sec)\n",
      "INFO:tensorflow:global_step/sec: 1050.39\n",
      "INFO:tensorflow:loss = 8.08161, step = 31901 (0.095 sec)\n",
      "INFO:tensorflow:global_step/sec: 832.615\n",
      "INFO:tensorflow:loss = 10.6497, step = 32001 (0.120 sec)\n",
      "INFO:tensorflow:global_step/sec: 891.916\n",
      "INFO:tensorflow:loss = 41.1567, step = 32101 (0.112 sec)\n",
      "INFO:tensorflow:global_step/sec: 905.156\n",
      "INFO:tensorflow:loss = 0.045929, step = 32201 (0.112 sec)\n",
      "INFO:tensorflow:global_step/sec: 924.868\n",
      "INFO:tensorflow:loss = 33.2249, step = 32301 (0.106 sec)\n",
      "INFO:tensorflow:global_step/sec: 881.784\n",
      "INFO:tensorflow:loss = 4.39557, step = 32401 (0.114 sec)\n",
      "INFO:tensorflow:global_step/sec: 927.872\n",
      "INFO:tensorflow:loss = 18.4132, step = 32501 (0.108 sec)\n",
      "INFO:tensorflow:global_step/sec: 981.434\n",
      "INFO:tensorflow:loss = 14.597, step = 32601 (0.102 sec)\n",
      "INFO:tensorflow:global_step/sec: 834.943\n",
      "INFO:tensorflow:loss = 8.90061, step = 32701 (0.119 sec)\n",
      "INFO:tensorflow:global_step/sec: 1018.11\n",
      "INFO:tensorflow:loss = 13.4388, step = 32801 (0.098 sec)\n",
      "INFO:tensorflow:global_step/sec: 1004.88\n",
      "INFO:tensorflow:loss = 0.0067878, step = 32901 (0.100 sec)\n",
      "INFO:tensorflow:global_step/sec: 980.913\n",
      "INFO:tensorflow:loss = 0.57809, step = 33001 (0.102 sec)\n",
      "INFO:tensorflow:global_step/sec: 824.639\n",
      "INFO:tensorflow:loss = 0.0987914, step = 33101 (0.121 sec)\n",
      "INFO:tensorflow:global_step/sec: 928.108\n",
      "INFO:tensorflow:loss = 2.4521, step = 33201 (0.109 sec)\n",
      "INFO:tensorflow:global_step/sec: 863.335\n",
      "INFO:tensorflow:loss = 7.17239, step = 33301 (0.115 sec)\n",
      "INFO:tensorflow:global_step/sec: 893.824\n",
      "INFO:tensorflow:loss = 14.31, step = 33401 (0.112 sec)\n",
      "INFO:tensorflow:global_step/sec: 862.782\n",
      "INFO:tensorflow:loss = 0.756249, step = 33501 (0.116 sec)\n",
      "INFO:tensorflow:global_step/sec: 916.517\n",
      "INFO:tensorflow:loss = 18.267, step = 33601 (0.109 sec)\n",
      "INFO:tensorflow:global_step/sec: 1001.33\n",
      "INFO:tensorflow:loss = 1.93119, step = 33701 (0.100 sec)\n",
      "INFO:tensorflow:global_step/sec: 863.031\n",
      "INFO:tensorflow:loss = 6.33756, step = 33801 (0.116 sec)\n",
      "INFO:tensorflow:global_step/sec: 960.336\n",
      "INFO:tensorflow:loss = 20.741, step = 33901 (0.105 sec)\n",
      "INFO:tensorflow:global_step/sec: 848.91\n",
      "INFO:tensorflow:loss = 0.0119256, step = 34001 (0.118 sec)\n",
      "INFO:tensorflow:global_step/sec: 816.979\n",
      "INFO:tensorflow:loss = 12.7524, step = 34101 (0.122 sec)\n",
      "INFO:tensorflow:global_step/sec: 904.327\n",
      "INFO:tensorflow:loss = 4.19752, step = 34201 (0.114 sec)\n",
      "INFO:tensorflow:global_step/sec: 889.723\n",
      "INFO:tensorflow:loss = 5.52745, step = 34301 (0.109 sec)\n",
      "INFO:tensorflow:global_step/sec: 960.659\n",
      "INFO:tensorflow:loss = 0.556082, step = 34401 (0.104 sec)\n",
      "INFO:tensorflow:global_step/sec: 825.473\n",
      "INFO:tensorflow:loss = 5.94598, step = 34501 (0.121 sec)\n",
      "INFO:tensorflow:global_step/sec: 994.677\n",
      "INFO:tensorflow:loss = 4.55462, step = 34601 (0.101 sec)\n",
      "INFO:tensorflow:global_step/sec: 949.954\n",
      "INFO:tensorflow:loss = 25.5576, step = 34701 (0.105 sec)\n",
      "INFO:tensorflow:global_step/sec: 981.638\n",
      "INFO:tensorflow:loss = 1.71269, step = 34801 (0.102 sec)\n",
      "INFO:tensorflow:global_step/sec: 851.416\n",
      "INFO:tensorflow:loss = 0.00540967, step = 34901 (0.118 sec)\n",
      "INFO:tensorflow:global_step/sec: 915.457\n",
      "INFO:tensorflow:loss = 18.3667, step = 35001 (0.110 sec)\n",
      "INFO:tensorflow:global_step/sec: 826.151\n",
      "INFO:tensorflow:loss = 5.34866, step = 35101 (0.121 sec)\n",
      "INFO:tensorflow:global_step/sec: 892.798\n",
      "INFO:tensorflow:loss = 27.3397, step = 35201 (0.114 sec)\n",
      "INFO:tensorflow:global_step/sec: 915.06\n",
      "INFO:tensorflow:loss = 1.34434, step = 35301 (0.108 sec)\n",
      "INFO:tensorflow:global_step/sec: 927.997\n",
      "INFO:tensorflow:loss = 10.7269, step = 35401 (0.108 sec)\n",
      "INFO:tensorflow:global_step/sec: 872.28\n",
      "INFO:tensorflow:loss = 5.6453, step = 35501 (0.114 sec)\n",
      "INFO:tensorflow:global_step/sec: 857.247\n",
      "INFO:tensorflow:loss = 5.48114, step = 35601 (0.116 sec)\n",
      "INFO:tensorflow:global_step/sec: 1043.99\n",
      "INFO:tensorflow:loss = 14.1057, step = 35701 (0.096 sec)\n",
      "INFO:tensorflow:global_step/sec: 882.957\n",
      "INFO:tensorflow:loss = 1.15195, step = 35801 (0.113 sec)\n",
      "INFO:tensorflow:global_step/sec: 842.078\n",
      "INFO:tensorflow:loss = 14.7195, step = 35901 (0.119 sec)\n",
      "INFO:tensorflow:global_step/sec: 837.723\n",
      "INFO:tensorflow:loss = 3.91923, step = 36001 (0.120 sec)\n",
      "INFO:tensorflow:global_step/sec: 843.85\n",
      "INFO:tensorflow:loss = 15.0782, step = 36101 (0.118 sec)\n",
      "INFO:tensorflow:global_step/sec: 879.508\n",
      "INFO:tensorflow:loss = 0.531704, step = 36201 (0.114 sec)\n",
      "INFO:tensorflow:global_step/sec: 870.563\n",
      "INFO:tensorflow:loss = 0.163489, step = 36301 (0.115 sec)\n",
      "INFO:tensorflow:global_step/sec: 933.37\n",
      "INFO:tensorflow:loss = 2.41323, step = 36401 (0.107 sec)\n",
      "INFO:tensorflow:global_step/sec: 946.845\n",
      "INFO:tensorflow:loss = 9.15299, step = 36501 (0.106 sec)\n",
      "INFO:tensorflow:global_step/sec: 1052.1\n",
      "INFO:tensorflow:loss = 0.0341257, step = 36601 (0.095 sec)\n",
      "INFO:tensorflow:global_step/sec: 824.527\n",
      "INFO:tensorflow:loss = 2.47392, step = 36701 (0.121 sec)\n",
      "INFO:tensorflow:global_step/sec: 872.791\n",
      "INFO:tensorflow:loss = 0.460596, step = 36801 (0.114 sec)\n",
      "INFO:tensorflow:global_step/sec: 913.145\n",
      "INFO:tensorflow:loss = 9.90565, step = 36901 (0.110 sec)\n",
      "INFO:tensorflow:global_step/sec: 949.079\n",
      "INFO:tensorflow:loss = 1.49644, step = 37001 (0.105 sec)\n",
      "INFO:tensorflow:global_step/sec: 918.086\n",
      "INFO:tensorflow:loss = 0.00529543, step = 37101 (0.109 sec)\n",
      "INFO:tensorflow:global_step/sec: 831.14\n",
      "INFO:tensorflow:loss = 12.6572, step = 37201 (0.120 sec)\n",
      "INFO:tensorflow:global_step/sec: 903.721\n",
      "INFO:tensorflow:loss = 0.00743587, step = 37301 (0.111 sec)\n",
      "INFO:tensorflow:global_step/sec: 908.968\n",
      "INFO:tensorflow:loss = 19.2032, step = 37401 (0.110 sec)\n",
      "INFO:tensorflow:global_step/sec: 905.162\n",
      "INFO:tensorflow:loss = 12.7493, step = 37501 (0.113 sec)\n",
      "INFO:tensorflow:global_step/sec: 877.332\n",
      "INFO:tensorflow:loss = 0.0109978, step = 37601 (0.116 sec)\n",
      "INFO:tensorflow:global_step/sec: 854.343\n",
      "INFO:tensorflow:loss = 3.16142, step = 37701 (0.112 sec)\n",
      "INFO:tensorflow:global_step/sec: 764.323\n",
      "INFO:tensorflow:loss = 0.0080133, step = 37801 (0.131 sec)\n",
      "INFO:tensorflow:global_step/sec: 884.242\n",
      "INFO:tensorflow:loss = 0.282455, step = 37901 (0.113 sec)\n",
      "INFO:tensorflow:global_step/sec: 863.187\n",
      "INFO:tensorflow:loss = 3.25421, step = 38001 (0.116 sec)\n",
      "INFO:tensorflow:global_step/sec: 893.506\n",
      "INFO:tensorflow:loss = 1.37099, step = 38101 (0.113 sec)\n",
      "INFO:tensorflow:global_step/sec: 793.422\n",
      "INFO:tensorflow:loss = 0.00379228, step = 38201 (0.124 sec)\n",
      "INFO:tensorflow:global_step/sec: 986.568\n",
      "INFO:tensorflow:loss = 1.91287, step = 38301 (0.101 sec)\n",
      "INFO:tensorflow:global_step/sec: 979.527\n",
      "INFO:tensorflow:loss = 29.9403, step = 38401 (0.103 sec)\n",
      "INFO:tensorflow:global_step/sec: 891.523\n",
      "INFO:tensorflow:loss = 0.655538, step = 38501 (0.113 sec)\n",
      "INFO:tensorflow:global_step/sec: 837.263\n",
      "INFO:tensorflow:loss = 31.5939, step = 38601 (0.121 sec)\n",
      "INFO:tensorflow:global_step/sec: 795.839\n",
      "INFO:tensorflow:loss = 0.0242766, step = 38701 (0.123 sec)\n",
      "INFO:tensorflow:global_step/sec: 930.847\n",
      "INFO:tensorflow:loss = 0.932086, step = 38801 (0.108 sec)\n",
      "INFO:tensorflow:global_step/sec: 880.163\n",
      "INFO:tensorflow:loss = 0.464399, step = 38901 (0.113 sec)\n"
     ]
    },
    {
     "name": "stdout",
     "output_type": "stream",
     "text": [
      "INFO:tensorflow:global_step/sec: 861.958\n",
      "INFO:tensorflow:loss = 29.1598, step = 39001 (0.116 sec)\n",
      "INFO:tensorflow:global_step/sec: 952.223\n",
      "INFO:tensorflow:loss = 0.498968, step = 39101 (0.105 sec)\n",
      "INFO:tensorflow:global_step/sec: 1112.09\n",
      "INFO:tensorflow:loss = 34.4806, step = 39201 (0.090 sec)\n",
      "INFO:tensorflow:global_step/sec: 1004.24\n",
      "INFO:tensorflow:loss = 11.9649, step = 39301 (0.099 sec)\n",
      "INFO:tensorflow:global_step/sec: 811.354\n",
      "INFO:tensorflow:loss = 15.118, step = 39401 (0.123 sec)\n",
      "INFO:tensorflow:global_step/sec: 902.461\n",
      "INFO:tensorflow:loss = 2.77278, step = 39501 (0.111 sec)\n",
      "INFO:tensorflow:global_step/sec: 962.765\n",
      "INFO:tensorflow:loss = 0.0652085, step = 39601 (0.104 sec)\n",
      "INFO:tensorflow:global_step/sec: 833.771\n",
      "INFO:tensorflow:loss = 2.36465, step = 39701 (0.121 sec)\n",
      "INFO:tensorflow:global_step/sec: 827.654\n",
      "INFO:tensorflow:loss = 0.276522, step = 39801 (0.120 sec)\n",
      "INFO:tensorflow:global_step/sec: 935.779\n",
      "INFO:tensorflow:loss = 0.754018, step = 39901 (0.106 sec)\n",
      "INFO:tensorflow:global_step/sec: 1025.13\n",
      "INFO:tensorflow:loss = 14.1607, step = 40001 (0.099 sec)\n",
      "INFO:tensorflow:global_step/sec: 1088.36\n",
      "INFO:tensorflow:loss = 0.00422409, step = 40101 (0.091 sec)\n",
      "INFO:tensorflow:global_step/sec: 1022.05\n",
      "INFO:tensorflow:loss = 12.1795, step = 40201 (0.098 sec)\n",
      "INFO:tensorflow:global_step/sec: 912.934\n",
      "INFO:tensorflow:loss = 3.4861, step = 40301 (0.109 sec)\n",
      "INFO:tensorflow:global_step/sec: 913.336\n",
      "INFO:tensorflow:loss = 0.224747, step = 40401 (0.111 sec)\n",
      "INFO:tensorflow:global_step/sec: 906.859\n",
      "INFO:tensorflow:loss = 18.1299, step = 40501 (0.109 sec)\n",
      "INFO:tensorflow:global_step/sec: 971.133\n",
      "INFO:tensorflow:loss = 23.7059, step = 40601 (0.104 sec)\n",
      "INFO:tensorflow:global_step/sec: 917.207\n",
      "INFO:tensorflow:loss = 2.23978, step = 40701 (0.109 sec)\n",
      "INFO:tensorflow:global_step/sec: 944.242\n",
      "INFO:tensorflow:loss = 0.00714642, step = 40801 (0.106 sec)\n",
      "INFO:tensorflow:global_step/sec: 979.726\n",
      "INFO:tensorflow:loss = 25.711, step = 40901 (0.102 sec)\n",
      "INFO:tensorflow:global_step/sec: 888.368\n",
      "INFO:tensorflow:loss = 0.552312, step = 41001 (0.113 sec)\n",
      "INFO:tensorflow:global_step/sec: 1000.56\n",
      "INFO:tensorflow:loss = 0.00699297, step = 41101 (0.100 sec)\n",
      "INFO:tensorflow:global_step/sec: 964.66\n",
      "INFO:tensorflow:loss = 0.799313, step = 41201 (0.104 sec)\n",
      "INFO:tensorflow:global_step/sec: 851.705\n",
      "INFO:tensorflow:loss = 14.8165, step = 41301 (0.117 sec)\n",
      "INFO:tensorflow:global_step/sec: 678.332\n",
      "INFO:tensorflow:loss = 3.40154, step = 41401 (0.151 sec)\n",
      "INFO:tensorflow:global_step/sec: 824.48\n",
      "INFO:tensorflow:loss = 0.00525652, step = 41501 (0.118 sec)\n",
      "INFO:tensorflow:global_step/sec: 909.956\n",
      "INFO:tensorflow:loss = 9.48336, step = 41601 (0.110 sec)\n",
      "INFO:tensorflow:global_step/sec: 844.269\n",
      "INFO:tensorflow:loss = 9.93203, step = 41701 (0.118 sec)\n",
      "INFO:tensorflow:global_step/sec: 958.083\n",
      "INFO:tensorflow:loss = 0.00397008, step = 41801 (0.104 sec)\n",
      "INFO:tensorflow:global_step/sec: 888.375\n",
      "INFO:tensorflow:loss = 23.6824, step = 41901 (0.112 sec)\n",
      "INFO:tensorflow:global_step/sec: 992.918\n",
      "INFO:tensorflow:loss = 0.00681296, step = 42001 (0.101 sec)\n",
      "INFO:tensorflow:global_step/sec: 952.154\n",
      "INFO:tensorflow:loss = 0.0729941, step = 42101 (0.104 sec)\n",
      "INFO:tensorflow:global_step/sec: 891.95\n",
      "INFO:tensorflow:loss = 17.7265, step = 42201 (0.113 sec)\n",
      "INFO:tensorflow:global_step/sec: 870.458\n",
      "INFO:tensorflow:loss = 38.934, step = 42301 (0.114 sec)\n",
      "INFO:tensorflow:global_step/sec: 575.803\n",
      "INFO:tensorflow:loss = 1.87655, step = 42401 (0.174 sec)\n",
      "INFO:tensorflow:global_step/sec: 813.13\n",
      "INFO:tensorflow:loss = 1.16455, step = 42501 (0.124 sec)\n",
      "INFO:tensorflow:global_step/sec: 873.148\n",
      "INFO:tensorflow:loss = 0.0972179, step = 42601 (0.114 sec)\n",
      "INFO:tensorflow:global_step/sec: 930.156\n",
      "INFO:tensorflow:loss = 12.5815, step = 42701 (0.120 sec)\n",
      "INFO:tensorflow:global_step/sec: 954.114\n",
      "INFO:tensorflow:loss = 21.7711, step = 42801 (0.093 sec)\n",
      "INFO:tensorflow:global_step/sec: 819.9\n",
      "INFO:tensorflow:loss = 3.64723, step = 42901 (0.121 sec)\n",
      "INFO:tensorflow:global_step/sec: 814.233\n",
      "INFO:tensorflow:loss = 0.0788121, step = 43001 (0.123 sec)\n",
      "INFO:tensorflow:global_step/sec: 969.705\n",
      "INFO:tensorflow:loss = 36.8994, step = 43101 (0.104 sec)\n",
      "INFO:tensorflow:global_step/sec: 966.623\n",
      "INFO:tensorflow:loss = 14.8603, step = 43201 (0.104 sec)\n",
      "INFO:tensorflow:global_step/sec: 863.783\n",
      "INFO:tensorflow:loss = 15.266, step = 43301 (0.115 sec)\n",
      "INFO:tensorflow:global_step/sec: 917.55\n",
      "INFO:tensorflow:loss = 4.02719, step = 43401 (0.108 sec)\n",
      "INFO:tensorflow:global_step/sec: 879.918\n",
      "INFO:tensorflow:loss = 0.940072, step = 43501 (0.114 sec)\n",
      "INFO:tensorflow:global_step/sec: 891.05\n",
      "INFO:tensorflow:loss = 6.92781, step = 43601 (0.113 sec)\n",
      "INFO:tensorflow:global_step/sec: 1017.77\n",
      "INFO:tensorflow:loss = 0.00783592, step = 43701 (0.099 sec)\n",
      "INFO:tensorflow:global_step/sec: 926.47\n",
      "INFO:tensorflow:loss = 0.0317155, step = 43801 (0.106 sec)\n",
      "INFO:tensorflow:global_step/sec: 862.781\n",
      "INFO:tensorflow:loss = 0.289799, step = 43901 (0.116 sec)\n",
      "INFO:tensorflow:global_step/sec: 910.704\n",
      "INFO:tensorflow:loss = 12.6385, step = 44001 (0.110 sec)\n",
      "INFO:tensorflow:global_step/sec: 985.187\n",
      "INFO:tensorflow:loss = 1.35627, step = 44101 (0.101 sec)\n",
      "INFO:tensorflow:global_step/sec: 957.781\n",
      "INFO:tensorflow:loss = 0.00776193, step = 44201 (0.105 sec)\n",
      "INFO:tensorflow:global_step/sec: 805.971\n",
      "INFO:tensorflow:loss = 19.5361, step = 44301 (0.124 sec)\n",
      "INFO:tensorflow:global_step/sec: 966.022\n",
      "INFO:tensorflow:loss = 3.37853, step = 44401 (0.103 sec)\n",
      "INFO:tensorflow:global_step/sec: 1063.18\n",
      "INFO:tensorflow:loss = 0.986452, step = 44501 (0.094 sec)\n",
      "INFO:tensorflow:global_step/sec: 940.254\n",
      "INFO:tensorflow:loss = 0.0401026, step = 44601 (0.107 sec)\n",
      "INFO:tensorflow:global_step/sec: 836.876\n",
      "INFO:tensorflow:loss = 3.13694, step = 44701 (0.121 sec)\n",
      "INFO:tensorflow:global_step/sec: 874.174\n",
      "INFO:tensorflow:loss = 1.52402, step = 44801 (0.115 sec)\n",
      "INFO:tensorflow:global_step/sec: 923.792\n",
      "INFO:tensorflow:loss = 0.510004, step = 44901 (0.106 sec)\n",
      "INFO:tensorflow:global_step/sec: 867.366\n",
      "INFO:tensorflow:loss = 13.5016, step = 45001 (0.115 sec)\n",
      "INFO:tensorflow:global_step/sec: 864.391\n",
      "INFO:tensorflow:loss = 1.83741, step = 45101 (0.116 sec)\n",
      "INFO:tensorflow:global_step/sec: 831.88\n",
      "INFO:tensorflow:loss = 1.30398, step = 45201 (0.124 sec)\n",
      "INFO:tensorflow:global_step/sec: 843.806\n",
      "INFO:tensorflow:loss = 2.15437, step = 45301 (0.116 sec)\n",
      "INFO:tensorflow:global_step/sec: 874.841\n",
      "INFO:tensorflow:loss = 1.04654, step = 45401 (0.114 sec)\n",
      "INFO:tensorflow:global_step/sec: 928.091\n",
      "INFO:tensorflow:loss = 0.0101898, step = 45501 (0.108 sec)\n",
      "INFO:tensorflow:global_step/sec: 853.102\n",
      "INFO:tensorflow:loss = 13.3037, step = 45601 (0.117 sec)\n",
      "INFO:tensorflow:global_step/sec: 847.016\n",
      "INFO:tensorflow:loss = 0.00644748, step = 45701 (0.118 sec)\n",
      "INFO:tensorflow:global_step/sec: 855.401\n",
      "INFO:tensorflow:loss = 0.00633463, step = 45801 (0.116 sec)\n",
      "INFO:tensorflow:global_step/sec: 948.581\n",
      "INFO:tensorflow:loss = 0.655492, step = 45901 (0.105 sec)\n",
      "INFO:tensorflow:global_step/sec: 763.827\n",
      "INFO:tensorflow:loss = 0.00557078, step = 46001 (0.131 sec)\n",
      "INFO:tensorflow:global_step/sec: 802.893\n",
      "INFO:tensorflow:loss = 6.29084, step = 46101 (0.124 sec)\n",
      "INFO:tensorflow:global_step/sec: 934.372\n",
      "INFO:tensorflow:loss = 0.710187, step = 46201 (0.108 sec)\n",
      "INFO:tensorflow:global_step/sec: 949.754\n",
      "INFO:tensorflow:loss = 0.126732, step = 46301 (0.105 sec)\n",
      "INFO:tensorflow:global_step/sec: 935.341\n",
      "INFO:tensorflow:loss = 21.2263, step = 46401 (0.107 sec)\n",
      "INFO:tensorflow:global_step/sec: 941.108\n",
      "INFO:tensorflow:loss = 2.21737, step = 46501 (0.106 sec)\n",
      "INFO:tensorflow:global_step/sec: 828.686\n",
      "INFO:tensorflow:loss = 1.75496, step = 46601 (0.121 sec)\n",
      "INFO:tensorflow:global_step/sec: 933.979\n",
      "INFO:tensorflow:loss = 0.331105, step = 46701 (0.109 sec)\n",
      "INFO:tensorflow:global_step/sec: 850.165\n",
      "INFO:tensorflow:loss = 8.26819, step = 46801 (0.116 sec)\n",
      "INFO:tensorflow:global_step/sec: 895.031\n",
      "INFO:tensorflow:loss = 1.28587, step = 46901 (0.112 sec)\n",
      "INFO:tensorflow:global_step/sec: 894.26\n",
      "INFO:tensorflow:loss = 16.1314, step = 47001 (0.111 sec)\n",
      "INFO:tensorflow:global_step/sec: 868.792\n",
      "INFO:tensorflow:loss = 0.104999, step = 47101 (0.115 sec)\n",
      "INFO:tensorflow:global_step/sec: 879.344\n",
      "INFO:tensorflow:loss = 13.419, step = 47201 (0.113 sec)\n",
      "INFO:tensorflow:global_step/sec: 895.654\n"
     ]
    },
    {
     "name": "stdout",
     "output_type": "stream",
     "text": [
      "INFO:tensorflow:loss = 27.2636, step = 47301 (0.112 sec)\n",
      "INFO:tensorflow:global_step/sec: 865.855\n",
      "INFO:tensorflow:loss = 17.8973, step = 47401 (0.116 sec)\n",
      "INFO:tensorflow:global_step/sec: 998.786\n",
      "INFO:tensorflow:loss = 1.6149, step = 47501 (0.101 sec)\n",
      "INFO:tensorflow:global_step/sec: 978.448\n",
      "INFO:tensorflow:loss = 27.6904, step = 47601 (0.101 sec)\n",
      "INFO:tensorflow:global_step/sec: 900.39\n",
      "INFO:tensorflow:loss = 1.0654, step = 47701 (0.112 sec)\n",
      "INFO:tensorflow:global_step/sec: 874.945\n",
      "INFO:tensorflow:loss = 7.54085, step = 47801 (0.115 sec)\n",
      "INFO:tensorflow:global_step/sec: 875.451\n",
      "INFO:tensorflow:loss = 0.0032588, step = 47901 (0.112 sec)\n",
      "INFO:tensorflow:global_step/sec: 995.515\n",
      "INFO:tensorflow:loss = 11.3646, step = 48001 (0.102 sec)\n",
      "INFO:tensorflow:global_step/sec: 934.962\n",
      "INFO:tensorflow:loss = 0.120809, step = 48101 (0.106 sec)\n",
      "INFO:tensorflow:global_step/sec: 1004.61\n",
      "INFO:tensorflow:loss = 0.00589517, step = 48201 (0.100 sec)\n",
      "INFO:tensorflow:global_step/sec: 903.54\n",
      "INFO:tensorflow:loss = 0.0129599, step = 48301 (0.113 sec)\n",
      "INFO:tensorflow:global_step/sec: 879.988\n",
      "INFO:tensorflow:loss = 0.0741452, step = 48401 (0.111 sec)\n",
      "INFO:tensorflow:global_step/sec: 914.9\n",
      "INFO:tensorflow:loss = 0.719279, step = 48501 (0.109 sec)\n",
      "INFO:tensorflow:global_step/sec: 862.098\n",
      "INFO:tensorflow:loss = 2.74425, step = 48601 (0.116 sec)\n",
      "INFO:tensorflow:global_step/sec: 865.658\n",
      "INFO:tensorflow:loss = 3.22293, step = 48701 (0.115 sec)\n",
      "INFO:tensorflow:global_step/sec: 833.389\n",
      "INFO:tensorflow:loss = 0.491928, step = 48801 (0.120 sec)\n",
      "INFO:tensorflow:global_step/sec: 977.231\n",
      "INFO:tensorflow:loss = 8.56344, step = 48901 (0.103 sec)\n",
      "INFO:tensorflow:global_step/sec: 934.256\n",
      "INFO:tensorflow:loss = 0.00615435, step = 49001 (0.107 sec)\n",
      "INFO:tensorflow:global_step/sec: 1004.88\n",
      "INFO:tensorflow:loss = 0.12312, step = 49101 (0.099 sec)\n",
      "INFO:tensorflow:global_step/sec: 933.459\n",
      "INFO:tensorflow:loss = 1.59076, step = 49201 (0.107 sec)\n",
      "INFO:tensorflow:global_step/sec: 863.82\n",
      "INFO:tensorflow:loss = 0.962139, step = 49301 (0.116 sec)\n",
      "INFO:tensorflow:global_step/sec: 967.109\n",
      "INFO:tensorflow:loss = 0.012388, step = 49401 (0.104 sec)\n",
      "INFO:tensorflow:global_step/sec: 876.282\n",
      "INFO:tensorflow:loss = 0.145401, step = 49501 (0.115 sec)\n",
      "INFO:tensorflow:global_step/sec: 887.691\n",
      "INFO:tensorflow:loss = 1.35126, step = 49601 (0.110 sec)\n",
      "INFO:tensorflow:global_step/sec: 930.335\n",
      "INFO:tensorflow:loss = 1.07987, step = 49701 (0.109 sec)\n",
      "INFO:tensorflow:global_step/sec: 934.52\n",
      "INFO:tensorflow:loss = 3.96472, step = 49801 (0.107 sec)\n",
      "INFO:tensorflow:global_step/sec: 952.491\n",
      "INFO:tensorflow:loss = 0.237501, step = 49901 (0.104 sec)\n",
      "INFO:tensorflow:global_step/sec: 1032.35\n",
      "INFO:tensorflow:loss = 0.710396, step = 50001 (0.097 sec)\n",
      "INFO:tensorflow:global_step/sec: 938.212\n",
      "INFO:tensorflow:loss = 1.28539, step = 50101 (0.107 sec)\n",
      "INFO:tensorflow:global_step/sec: 864.365\n",
      "INFO:tensorflow:loss = 0.00859623, step = 50201 (0.116 sec)\n",
      "INFO:tensorflow:global_step/sec: 895.67\n",
      "INFO:tensorflow:loss = 0.0250047, step = 50301 (0.112 sec)\n",
      "INFO:tensorflow:global_step/sec: 859.006\n",
      "INFO:tensorflow:loss = 0.00287795, step = 50401 (0.117 sec)\n",
      "INFO:tensorflow:global_step/sec: 996.123\n",
      "INFO:tensorflow:loss = 24.0834, step = 50501 (0.101 sec)\n",
      "INFO:tensorflow:global_step/sec: 858.953\n",
      "INFO:tensorflow:loss = 4.21962, step = 50601 (0.116 sec)\n",
      "INFO:tensorflow:global_step/sec: 865.272\n",
      "INFO:tensorflow:loss = 0.00748841, step = 50701 (0.115 sec)\n",
      "INFO:tensorflow:global_step/sec: 1011.11\n",
      "INFO:tensorflow:loss = 0.648678, step = 50801 (0.099 sec)\n",
      "INFO:tensorflow:global_step/sec: 1023.86\n",
      "INFO:tensorflow:loss = 0.537931, step = 50901 (0.098 sec)\n",
      "INFO:tensorflow:global_step/sec: 869.091\n",
      "INFO:tensorflow:loss = 0.0200394, step = 51001 (0.115 sec)\n",
      "INFO:tensorflow:global_step/sec: 839.469\n",
      "INFO:tensorflow:loss = 10.8655, step = 51101 (0.119 sec)\n",
      "INFO:tensorflow:global_step/sec: 827.645\n",
      "INFO:tensorflow:loss = 1.02466, step = 51201 (0.121 sec)\n",
      "INFO:tensorflow:global_step/sec: 984.562\n",
      "INFO:tensorflow:loss = 1.29377, step = 51301 (0.101 sec)\n",
      "INFO:tensorflow:global_step/sec: 843.812\n",
      "INFO:tensorflow:loss = 14.8772, step = 51401 (0.119 sec)\n",
      "INFO:tensorflow:global_step/sec: 775.29\n",
      "INFO:tensorflow:loss = 0.0357635, step = 51501 (0.131 sec)\n",
      "INFO:tensorflow:global_step/sec: 899.403\n",
      "INFO:tensorflow:loss = 3.99339, step = 51601 (0.109 sec)\n",
      "INFO:tensorflow:global_step/sec: 885.044\n",
      "INFO:tensorflow:loss = 5.50855, step = 51701 (0.114 sec)\n",
      "INFO:tensorflow:global_step/sec: 1084.69\n",
      "INFO:tensorflow:loss = 1.87587, step = 51801 (0.091 sec)\n",
      "INFO:tensorflow:global_step/sec: 870.739\n",
      "INFO:tensorflow:loss = 0.441394, step = 51901 (0.115 sec)\n",
      "INFO:tensorflow:global_step/sec: 857.224\n",
      "INFO:tensorflow:loss = 1.87948, step = 52001 (0.117 sec)\n",
      "INFO:tensorflow:global_step/sec: 833.515\n",
      "INFO:tensorflow:loss = 0.036552, step = 52101 (0.119 sec)\n",
      "INFO:tensorflow:global_step/sec: 991.951\n",
      "INFO:tensorflow:loss = 0.0183116, step = 52201 (0.101 sec)\n",
      "INFO:tensorflow:global_step/sec: 915.567\n",
      "INFO:tensorflow:loss = 0.152582, step = 52301 (0.110 sec)\n",
      "INFO:tensorflow:global_step/sec: 943.369\n",
      "INFO:tensorflow:loss = 9.94329, step = 52401 (0.106 sec)\n",
      "INFO:tensorflow:global_step/sec: 864.819\n",
      "INFO:tensorflow:loss = 2.02149, step = 52501 (0.116 sec)\n",
      "INFO:tensorflow:global_step/sec: 1033.04\n",
      "INFO:tensorflow:loss = 0.644381, step = 52601 (0.098 sec)\n",
      "INFO:tensorflow:global_step/sec: 841.262\n",
      "INFO:tensorflow:loss = 18.3266, step = 52701 (0.118 sec)\n",
      "INFO:tensorflow:global_step/sec: 895.57\n",
      "INFO:tensorflow:loss = 0.0186386, step = 52801 (0.111 sec)\n",
      "INFO:tensorflow:global_step/sec: 830.103\n",
      "INFO:tensorflow:loss = 4.54724, step = 52901 (0.121 sec)\n",
      "INFO:tensorflow:global_step/sec: 847.242\n",
      "INFO:tensorflow:loss = 1.08091, step = 53001 (0.118 sec)\n",
      "INFO:tensorflow:global_step/sec: 945.845\n",
      "INFO:tensorflow:loss = 1.19828, step = 53101 (0.106 sec)\n",
      "INFO:tensorflow:global_step/sec: 851.442\n",
      "INFO:tensorflow:loss = 1.65819, step = 53201 (0.117 sec)\n",
      "INFO:tensorflow:global_step/sec: 805.004\n",
      "INFO:tensorflow:loss = 13.4961, step = 53301 (0.124 sec)\n",
      "INFO:tensorflow:global_step/sec: 900.858\n",
      "INFO:tensorflow:loss = 11.6651, step = 53401 (0.111 sec)\n",
      "INFO:tensorflow:global_step/sec: 850.956\n",
      "INFO:tensorflow:loss = 2.50352, step = 53501 (0.120 sec)\n",
      "INFO:tensorflow:global_step/sec: 1066.36\n",
      "INFO:tensorflow:loss = 4.68233, step = 53601 (0.091 sec)\n",
      "INFO:tensorflow:global_step/sec: 802.427\n",
      "INFO:tensorflow:loss = 0.134804, step = 53701 (0.125 sec)\n",
      "INFO:tensorflow:global_step/sec: 820.233\n",
      "INFO:tensorflow:loss = 0.322367, step = 53801 (0.122 sec)\n",
      "INFO:tensorflow:global_step/sec: 960.85\n",
      "INFO:tensorflow:loss = 8.07484, step = 53901 (0.104 sec)\n",
      "INFO:tensorflow:global_step/sec: 883.004\n",
      "INFO:tensorflow:loss = 13.8054, step = 54001 (0.113 sec)\n",
      "INFO:tensorflow:global_step/sec: 890.229\n",
      "INFO:tensorflow:loss = 0.00527827, step = 54101 (0.112 sec)\n",
      "INFO:tensorflow:global_step/sec: 813.673\n",
      "INFO:tensorflow:loss = 0.825711, step = 54201 (0.123 sec)\n",
      "INFO:tensorflow:global_step/sec: 1012.19\n",
      "INFO:tensorflow:loss = 0.400304, step = 54301 (0.099 sec)\n",
      "INFO:tensorflow:global_step/sec: 1038.65\n",
      "INFO:tensorflow:loss = 15.9006, step = 54401 (0.096 sec)\n",
      "INFO:tensorflow:global_step/sec: 926.621\n",
      "INFO:tensorflow:loss = 0.0205272, step = 54501 (0.109 sec)\n",
      "INFO:tensorflow:global_step/sec: 844.873\n",
      "INFO:tensorflow:loss = 0.143898, step = 54601 (0.117 sec)\n",
      "INFO:tensorflow:global_step/sec: 800.696\n",
      "INFO:tensorflow:loss = 0.826784, step = 54701 (0.125 sec)\n",
      "INFO:tensorflow:global_step/sec: 933.468\n",
      "INFO:tensorflow:loss = 1.67702, step = 54801 (0.108 sec)\n",
      "INFO:tensorflow:global_step/sec: 816.984\n",
      "INFO:tensorflow:loss = 31.6291, step = 54901 (0.123 sec)\n",
      "INFO:tensorflow:global_step/sec: 829.248\n",
      "INFO:tensorflow:loss = 0.00530399, step = 55001 (0.120 sec)\n",
      "INFO:tensorflow:global_step/sec: 811.777\n",
      "INFO:tensorflow:loss = 0.317856, step = 55101 (0.123 sec)\n",
      "INFO:tensorflow:global_step/sec: 889.842\n",
      "INFO:tensorflow:loss = 4.91935, step = 55201 (0.115 sec)\n",
      "INFO:tensorflow:global_step/sec: 900.508\n",
      "INFO:tensorflow:loss = 0.492307, step = 55301 (0.107 sec)\n",
      "INFO:tensorflow:global_step/sec: 994.043\n",
      "INFO:tensorflow:loss = 2.65568, step = 55401 (0.101 sec)\n",
      "INFO:tensorflow:global_step/sec: 888.765\n",
      "INFO:tensorflow:loss = 9.7069, step = 55501 (0.113 sec)\n",
      "INFO:tensorflow:global_step/sec: 818.206\n",
      "INFO:tensorflow:loss = 0.382649, step = 55601 (0.122 sec)\n"
     ]
    },
    {
     "name": "stdout",
     "output_type": "stream",
     "text": [
      "INFO:tensorflow:global_step/sec: 935.202\n",
      "INFO:tensorflow:loss = 0.709619, step = 55701 (0.107 sec)\n",
      "INFO:tensorflow:global_step/sec: 955.401\n",
      "INFO:tensorflow:loss = 8.56727, step = 55801 (0.105 sec)\n",
      "INFO:tensorflow:global_step/sec: 861.002\n",
      "INFO:tensorflow:loss = 0.0992537, step = 55901 (0.116 sec)\n",
      "INFO:tensorflow:global_step/sec: 938.646\n",
      "INFO:tensorflow:loss = 4.10285, step = 56001 (0.107 sec)\n",
      "INFO:tensorflow:global_step/sec: 879.152\n",
      "INFO:tensorflow:loss = 16.7138, step = 56101 (0.113 sec)\n",
      "INFO:tensorflow:global_step/sec: 997.843\n",
      "INFO:tensorflow:loss = 0.00420988, step = 56201 (0.100 sec)\n",
      "INFO:tensorflow:global_step/sec: 1041.81\n",
      "INFO:tensorflow:loss = 2.74935, step = 56301 (0.097 sec)\n",
      "INFO:tensorflow:global_step/sec: 853.747\n",
      "INFO:tensorflow:loss = 1.02528, step = 56401 (0.116 sec)\n",
      "INFO:tensorflow:global_step/sec: 841.338\n",
      "INFO:tensorflow:loss = 1.92706, step = 56501 (0.119 sec)\n",
      "INFO:tensorflow:global_step/sec: 933.31\n",
      "INFO:tensorflow:loss = 2.49813, step = 56601 (0.107 sec)\n",
      "INFO:tensorflow:global_step/sec: 910.948\n",
      "INFO:tensorflow:loss = 6.58142, step = 56701 (0.110 sec)\n",
      "INFO:tensorflow:global_step/sec: 933.497\n",
      "INFO:tensorflow:loss = 0.00950208, step = 56801 (0.107 sec)\n",
      "INFO:tensorflow:global_step/sec: 802.068\n",
      "INFO:tensorflow:loss = 0.0825621, step = 56901 (0.125 sec)\n",
      "INFO:tensorflow:global_step/sec: 986.856\n",
      "INFO:tensorflow:loss = 7.96256, step = 57001 (0.102 sec)\n",
      "INFO:tensorflow:global_step/sec: 946.714\n",
      "INFO:tensorflow:loss = 0.169367, step = 57101 (0.105 sec)\n",
      "INFO:tensorflow:global_step/sec: 1067.2\n",
      "INFO:tensorflow:loss = 0.627313, step = 57201 (0.097 sec)\n",
      "INFO:tensorflow:global_step/sec: 880.027\n",
      "INFO:tensorflow:loss = 0.0166038, step = 57301 (0.112 sec)\n",
      "INFO:tensorflow:global_step/sec: 833.508\n",
      "INFO:tensorflow:loss = 0.00567365, step = 57401 (0.119 sec)\n",
      "INFO:tensorflow:global_step/sec: 862.429\n",
      "INFO:tensorflow:loss = 0.128317, step = 57501 (0.116 sec)\n",
      "INFO:tensorflow:global_step/sec: 963.167\n",
      "INFO:tensorflow:loss = 0.082117, step = 57601 (0.104 sec)\n",
      "INFO:tensorflow:global_step/sec: 911.043\n",
      "INFO:tensorflow:loss = 24.7581, step = 57701 (0.110 sec)\n",
      "INFO:tensorflow:global_step/sec: 858.235\n",
      "INFO:tensorflow:loss = 0.494086, step = 57801 (0.117 sec)\n",
      "INFO:tensorflow:global_step/sec: 947.651\n",
      "INFO:tensorflow:loss = 2.78327, step = 57901 (0.104 sec)\n",
      "INFO:tensorflow:global_step/sec: 882.742\n",
      "INFO:tensorflow:loss = 0.602728, step = 58001 (0.115 sec)\n",
      "INFO:tensorflow:global_step/sec: 987.934\n",
      "INFO:tensorflow:loss = 19.449, step = 58101 (0.100 sec)\n",
      "INFO:tensorflow:global_step/sec: 954.097\n",
      "INFO:tensorflow:loss = 0.00818754, step = 58201 (0.104 sec)\n",
      "INFO:tensorflow:global_step/sec: 917.739\n",
      "INFO:tensorflow:loss = 0.152271, step = 58301 (0.109 sec)\n",
      "INFO:tensorflow:global_step/sec: 937.375\n",
      "INFO:tensorflow:loss = 0.624952, step = 58401 (0.106 sec)\n",
      "INFO:tensorflow:global_step/sec: 871.795\n",
      "INFO:tensorflow:loss = 0.0479203, step = 58501 (0.115 sec)\n",
      "INFO:tensorflow:global_step/sec: 856.447\n",
      "INFO:tensorflow:loss = 0.0668855, step = 58601 (0.117 sec)\n",
      "INFO:tensorflow:global_step/sec: 918.156\n",
      "INFO:tensorflow:loss = 0.404473, step = 58701 (0.110 sec)\n",
      "INFO:tensorflow:global_step/sec: 879.034\n",
      "INFO:tensorflow:loss = 0.00386374, step = 58801 (0.113 sec)\n",
      "INFO:tensorflow:global_step/sec: 807.991\n",
      "INFO:tensorflow:loss = 0.0589377, step = 58901 (0.124 sec)\n",
      "INFO:tensorflow:global_step/sec: 1081.81\n",
      "INFO:tensorflow:loss = 0.385368, step = 59001 (0.092 sec)\n",
      "INFO:tensorflow:global_step/sec: 903.826\n",
      "INFO:tensorflow:loss = 1.29886, step = 59101 (0.111 sec)\n",
      "INFO:tensorflow:global_step/sec: 937.356\n",
      "INFO:tensorflow:loss = 0.33647, step = 59201 (0.106 sec)\n",
      "INFO:tensorflow:global_step/sec: 937.461\n",
      "INFO:tensorflow:loss = 0.0599586, step = 59301 (0.109 sec)\n",
      "INFO:tensorflow:global_step/sec: 869.363\n",
      "INFO:tensorflow:loss = 8.85945, step = 59401 (0.114 sec)\n",
      "INFO:tensorflow:global_step/sec: 878.872\n",
      "INFO:tensorflow:loss = 0.412448, step = 59501 (0.113 sec)\n",
      "INFO:tensorflow:global_step/sec: 859.846\n",
      "INFO:tensorflow:loss = 11.929, step = 59601 (0.116 sec)\n",
      "INFO:tensorflow:global_step/sec: 880.579\n",
      "INFO:tensorflow:loss = 0.310403, step = 59701 (0.113 sec)\n",
      "INFO:tensorflow:global_step/sec: 997.243\n",
      "INFO:tensorflow:loss = 0.00224363, step = 59801 (0.101 sec)\n",
      "INFO:tensorflow:global_step/sec: 993.219\n",
      "INFO:tensorflow:loss = 8.81814, step = 59901 (0.100 sec)\n",
      "INFO:tensorflow:global_step/sec: 958.599\n",
      "INFO:tensorflow:loss = 0.436106, step = 60001 (0.104 sec)\n",
      "INFO:tensorflow:global_step/sec: 886.708\n",
      "INFO:tensorflow:loss = 2.84423, step = 60101 (0.113 sec)\n",
      "INFO:tensorflow:global_step/sec: 923.636\n",
      "INFO:tensorflow:loss = 1.65008, step = 60201 (0.109 sec)\n",
      "INFO:tensorflow:global_step/sec: 909.18\n",
      "INFO:tensorflow:loss = 0.0151341, step = 60301 (0.109 sec)\n",
      "INFO:tensorflow:global_step/sec: 957.558\n",
      "INFO:tensorflow:loss = 0.480864, step = 60401 (0.104 sec)\n",
      "INFO:tensorflow:global_step/sec: 890.743\n",
      "INFO:tensorflow:loss = 0.37881, step = 60501 (0.113 sec)\n",
      "INFO:tensorflow:global_step/sec: 860.834\n",
      "INFO:tensorflow:loss = 0.131674, step = 60601 (0.115 sec)\n",
      "INFO:tensorflow:global_step/sec: 971.29\n",
      "INFO:tensorflow:loss = 0.00656754, step = 60701 (0.103 sec)\n",
      "INFO:tensorflow:global_step/sec: 953.032\n",
      "INFO:tensorflow:loss = 1.12572, step = 60801 (0.105 sec)\n",
      "INFO:tensorflow:global_step/sec: 869.98\n",
      "INFO:tensorflow:loss = 10.8875, step = 60901 (0.116 sec)\n",
      "INFO:tensorflow:global_step/sec: 862.669\n",
      "INFO:tensorflow:loss = 0.571708, step = 61001 (0.115 sec)\n",
      "INFO:tensorflow:global_step/sec: 937.654\n",
      "INFO:tensorflow:loss = 0.986976, step = 61101 (0.108 sec)\n",
      "INFO:tensorflow:global_step/sec: 889.808\n",
      "INFO:tensorflow:loss = 1.01349, step = 61201 (0.111 sec)\n",
      "INFO:tensorflow:global_step/sec: 908.19\n",
      "INFO:tensorflow:loss = 0.0479542, step = 61301 (0.110 sec)\n",
      "INFO:tensorflow:global_step/sec: 886.037\n",
      "INFO:tensorflow:loss = 0.186618, step = 61401 (0.113 sec)\n",
      "INFO:tensorflow:global_step/sec: 850.383\n",
      "INFO:tensorflow:loss = 0.0220987, step = 61501 (0.117 sec)\n",
      "INFO:tensorflow:global_step/sec: 964.918\n",
      "INFO:tensorflow:loss = 0.289139, step = 61601 (0.104 sec)\n",
      "INFO:tensorflow:global_step/sec: 926.285\n",
      "INFO:tensorflow:loss = 4.41307, step = 61701 (0.108 sec)\n",
      "INFO:tensorflow:global_step/sec: 875.837\n",
      "INFO:tensorflow:loss = 0.128002, step = 61801 (0.115 sec)\n",
      "INFO:tensorflow:global_step/sec: 933.297\n",
      "INFO:tensorflow:loss = 0.00273666, step = 61901 (0.108 sec)\n",
      "INFO:tensorflow:global_step/sec: 936.086\n",
      "INFO:tensorflow:loss = 7.12776, step = 62001 (0.106 sec)\n",
      "INFO:tensorflow:global_step/sec: 857.892\n",
      "INFO:tensorflow:loss = 0.0596755, step = 62101 (0.117 sec)\n",
      "INFO:tensorflow:global_step/sec: 951.417\n",
      "INFO:tensorflow:loss = 11.5955, step = 62201 (0.106 sec)\n",
      "INFO:tensorflow:global_step/sec: 877.302\n",
      "INFO:tensorflow:loss = 0.420168, step = 62301 (0.113 sec)\n",
      "INFO:tensorflow:global_step/sec: 861.97\n",
      "INFO:tensorflow:loss = 0.058788, step = 62401 (0.117 sec)\n",
      "INFO:tensorflow:global_step/sec: 948.457\n",
      "INFO:tensorflow:loss = 0.00606187, step = 62501 (0.105 sec)\n",
      "INFO:tensorflow:global_step/sec: 821.192\n",
      "INFO:tensorflow:loss = 0.815622, step = 62601 (0.122 sec)\n",
      "INFO:tensorflow:global_step/sec: 876.635\n",
      "INFO:tensorflow:loss = 0.968626, step = 62701 (0.114 sec)\n",
      "INFO:tensorflow:global_step/sec: 751.374\n",
      "INFO:tensorflow:loss = 1.95647, step = 62801 (0.133 sec)\n",
      "INFO:tensorflow:global_step/sec: 869.906\n",
      "INFO:tensorflow:loss = 1.91441, step = 62901 (0.116 sec)\n",
      "INFO:tensorflow:global_step/sec: 916.872\n",
      "INFO:tensorflow:loss = 6.37315, step = 63001 (0.108 sec)\n",
      "INFO:tensorflow:global_step/sec: 921.659\n",
      "INFO:tensorflow:loss = 0.00308918, step = 63101 (0.108 sec)\n",
      "INFO:tensorflow:global_step/sec: 765.173\n",
      "INFO:tensorflow:loss = 27.4461, step = 63201 (0.131 sec)\n",
      "INFO:tensorflow:global_step/sec: 841.817\n",
      "INFO:tensorflow:loss = 0.0653436, step = 63301 (0.119 sec)\n",
      "INFO:tensorflow:global_step/sec: 880.137\n",
      "INFO:tensorflow:loss = 0.00224542, step = 63401 (0.116 sec)\n",
      "INFO:tensorflow:global_step/sec: 901.104\n",
      "INFO:tensorflow:loss = 0.0400261, step = 63501 (0.109 sec)\n",
      "INFO:tensorflow:global_step/sec: 931.581\n",
      "INFO:tensorflow:loss = 0.175784, step = 63601 (0.109 sec)\n",
      "INFO:tensorflow:global_step/sec: 815.416\n",
      "INFO:tensorflow:loss = 0.572793, step = 63701 (0.121 sec)\n",
      "INFO:tensorflow:global_step/sec: 849.249\n",
      "INFO:tensorflow:loss = 1.03092, step = 63801 (0.118 sec)\n",
      "INFO:tensorflow:global_step/sec: 853.49\n",
      "INFO:tensorflow:loss = 1.57659, step = 63901 (0.117 sec)\n"
     ]
    },
    {
     "name": "stdout",
     "output_type": "stream",
     "text": [
      "INFO:tensorflow:global_step/sec: 922.135\n",
      "INFO:tensorflow:loss = 2.87245, step = 64001 (0.109 sec)\n",
      "INFO:tensorflow:global_step/sec: 831.977\n",
      "INFO:tensorflow:loss = 0.910528, step = 64101 (0.122 sec)\n",
      "INFO:tensorflow:global_step/sec: 943.132\n",
      "INFO:tensorflow:loss = 2.18108, step = 64201 (0.104 sec)\n",
      "INFO:tensorflow:global_step/sec: 828.367\n",
      "INFO:tensorflow:loss = 10.5294, step = 64301 (0.121 sec)\n",
      "INFO:tensorflow:global_step/sec: 934.885\n",
      "INFO:tensorflow:loss = 0.00233955, step = 64401 (0.112 sec)\n",
      "INFO:tensorflow:global_step/sec: 870.583\n",
      "INFO:tensorflow:loss = 0.00110363, step = 64501 (0.110 sec)\n",
      "INFO:tensorflow:global_step/sec: 879.433\n",
      "INFO:tensorflow:loss = 1.14419, step = 64601 (0.115 sec)\n",
      "INFO:tensorflow:global_step/sec: 896.583\n",
      "INFO:tensorflow:loss = 5.27591, step = 64701 (0.111 sec)\n",
      "INFO:tensorflow:global_step/sec: 897.323\n",
      "INFO:tensorflow:loss = 18.6061, step = 64801 (0.112 sec)\n",
      "INFO:tensorflow:global_step/sec: 819.251\n",
      "INFO:tensorflow:loss = 0.182914, step = 64901 (0.124 sec)\n",
      "INFO:tensorflow:global_step/sec: 842.123\n",
      "INFO:tensorflow:loss = 1.01644, step = 65001 (0.119 sec)\n",
      "INFO:tensorflow:global_step/sec: 1012.31\n",
      "INFO:tensorflow:loss = 0.136203, step = 65101 (0.098 sec)\n",
      "INFO:tensorflow:global_step/sec: 1057.34\n",
      "INFO:tensorflow:loss = 0.00261908, step = 65201 (0.094 sec)\n",
      "INFO:tensorflow:global_step/sec: 1121.54\n",
      "INFO:tensorflow:loss = 1.30351, step = 65301 (0.092 sec)\n",
      "INFO:tensorflow:global_step/sec: 939.067\n",
      "INFO:tensorflow:loss = 0.627518, step = 65401 (0.104 sec)\n",
      "INFO:tensorflow:global_step/sec: 916.207\n",
      "INFO:tensorflow:loss = 0.11488, step = 65501 (0.110 sec)\n",
      "INFO:tensorflow:global_step/sec: 901.299\n",
      "INFO:tensorflow:loss = 4.29094, step = 65601 (0.110 sec)\n",
      "INFO:tensorflow:global_step/sec: 888.784\n",
      "INFO:tensorflow:loss = 37.9544, step = 65701 (0.112 sec)\n",
      "INFO:tensorflow:global_step/sec: 973.084\n",
      "INFO:tensorflow:loss = 0.00314319, step = 65801 (0.103 sec)\n",
      "INFO:tensorflow:global_step/sec: 887.704\n",
      "INFO:tensorflow:loss = 0.200449, step = 65901 (0.115 sec)\n",
      "INFO:tensorflow:global_step/sec: 931.215\n",
      "INFO:tensorflow:loss = 0.900181, step = 66001 (0.104 sec)\n",
      "INFO:tensorflow:global_step/sec: 1021.97\n",
      "INFO:tensorflow:loss = 0.902469, step = 66101 (0.098 sec)\n",
      "INFO:tensorflow:global_step/sec: 945.291\n",
      "INFO:tensorflow:loss = 1.77081, step = 66201 (0.107 sec)\n",
      "INFO:tensorflow:global_step/sec: 853.266\n",
      "INFO:tensorflow:loss = 7.48248, step = 66301 (0.118 sec)\n",
      "INFO:tensorflow:global_step/sec: 840.913\n",
      "INFO:tensorflow:loss = 0.907999, step = 66401 (0.117 sec)\n",
      "INFO:tensorflow:global_step/sec: 956.699\n",
      "INFO:tensorflow:loss = 0.995669, step = 66501 (0.105 sec)\n",
      "INFO:tensorflow:global_step/sec: 904.003\n",
      "INFO:tensorflow:loss = 4.31586, step = 66601 (0.111 sec)\n",
      "INFO:tensorflow:global_step/sec: 886.501\n",
      "INFO:tensorflow:loss = 5.24077, step = 66701 (0.112 sec)\n",
      "INFO:tensorflow:global_step/sec: 849.063\n",
      "INFO:tensorflow:loss = 1.66948, step = 66801 (0.118 sec)\n",
      "INFO:tensorflow:global_step/sec: 935.354\n",
      "INFO:tensorflow:loss = 0.00472145, step = 66901 (0.106 sec)\n",
      "INFO:tensorflow:global_step/sec: 919.273\n",
      "INFO:tensorflow:loss = 0.893607, step = 67001 (0.109 sec)\n",
      "INFO:tensorflow:global_step/sec: 964.148\n",
      "INFO:tensorflow:loss = 3.662, step = 67101 (0.105 sec)\n",
      "INFO:tensorflow:global_step/sec: 859.098\n",
      "INFO:tensorflow:loss = 0.00382315, step = 67201 (0.117 sec)\n",
      "INFO:tensorflow:global_step/sec: 844.885\n",
      "INFO:tensorflow:loss = 0.448106, step = 67301 (0.118 sec)\n",
      "INFO:tensorflow:global_step/sec: 958.876\n",
      "INFO:tensorflow:loss = 2.07234, step = 67401 (0.106 sec)\n",
      "INFO:tensorflow:global_step/sec: 827.005\n",
      "INFO:tensorflow:loss = 0.0590048, step = 67501 (0.119 sec)\n",
      "INFO:tensorflow:global_step/sec: 795.601\n",
      "INFO:tensorflow:loss = 0.0741093, step = 67601 (0.126 sec)\n",
      "INFO:tensorflow:global_step/sec: 817.095\n",
      "INFO:tensorflow:loss = 0.163522, step = 67701 (0.122 sec)\n",
      "INFO:tensorflow:global_step/sec: 903.884\n",
      "INFO:tensorflow:loss = 0.410091, step = 67801 (0.110 sec)\n",
      "INFO:tensorflow:global_step/sec: 884.481\n",
      "INFO:tensorflow:loss = 0.00696712, step = 67901 (0.114 sec)\n",
      "INFO:tensorflow:global_step/sec: 1071.28\n",
      "INFO:tensorflow:loss = 0.173282, step = 68001 (0.093 sec)\n",
      "INFO:tensorflow:global_step/sec: 844.206\n",
      "INFO:tensorflow:loss = 2.57217, step = 68101 (0.118 sec)\n",
      "INFO:tensorflow:global_step/sec: 840.459\n",
      "INFO:tensorflow:loss = 1.43231, step = 68201 (0.119 sec)\n",
      "INFO:tensorflow:global_step/sec: 921.181\n",
      "INFO:tensorflow:loss = 0.556135, step = 68301 (0.109 sec)\n",
      "INFO:tensorflow:global_step/sec: 960.916\n",
      "INFO:tensorflow:loss = 8.04354, step = 68401 (0.104 sec)\n",
      "INFO:tensorflow:global_step/sec: 850.559\n",
      "INFO:tensorflow:loss = 0.0116993, step = 68501 (0.118 sec)\n",
      "INFO:tensorflow:global_step/sec: 991.065\n",
      "INFO:tensorflow:loss = 1.9108, step = 68601 (0.101 sec)\n",
      "INFO:tensorflow:global_step/sec: 897.141\n",
      "INFO:tensorflow:loss = 5.10247, step = 68701 (0.111 sec)\n",
      "INFO:tensorflow:global_step/sec: 1030.67\n",
      "INFO:tensorflow:loss = 0.817274, step = 68801 (0.097 sec)\n",
      "INFO:tensorflow:global_step/sec: 985.14\n",
      "INFO:tensorflow:loss = 0.878733, step = 68901 (0.101 sec)\n",
      "INFO:tensorflow:global_step/sec: 818.626\n",
      "INFO:tensorflow:loss = 0.0445291, step = 69001 (0.123 sec)\n",
      "INFO:tensorflow:global_step/sec: 803.197\n",
      "INFO:tensorflow:loss = 0.0393759, step = 69101 (0.125 sec)\n",
      "INFO:tensorflow:global_step/sec: 946.725\n",
      "INFO:tensorflow:loss = 25.3373, step = 69201 (0.104 sec)\n",
      "INFO:tensorflow:global_step/sec: 860.78\n",
      "INFO:tensorflow:loss = 0.104062, step = 69301 (0.116 sec)\n",
      "INFO:tensorflow:global_step/sec: 853.955\n",
      "INFO:tensorflow:loss = 0.355456, step = 69401 (0.117 sec)\n",
      "INFO:tensorflow:global_step/sec: 866.3\n",
      "INFO:tensorflow:loss = 0.191328, step = 69501 (0.115 sec)\n",
      "INFO:tensorflow:global_step/sec: 903.931\n",
      "INFO:tensorflow:loss = 0.104444, step = 69601 (0.111 sec)\n",
      "INFO:tensorflow:global_step/sec: 887.941\n",
      "INFO:tensorflow:loss = 7.00969, step = 69701 (0.113 sec)\n",
      "INFO:tensorflow:global_step/sec: 1077.61\n",
      "INFO:tensorflow:loss = 0.00596082, step = 69801 (0.093 sec)\n",
      "INFO:tensorflow:global_step/sec: 909.324\n",
      "INFO:tensorflow:loss = 2.26072, step = 69901 (0.112 sec)\n",
      "INFO:tensorflow:global_step/sec: 611.616\n",
      "INFO:tensorflow:loss = 1.00397, step = 70001 (0.161 sec)\n",
      "INFO:tensorflow:global_step/sec: 900.197\n",
      "INFO:tensorflow:loss = 1.98201, step = 70101 (0.111 sec)\n",
      "INFO:tensorflow:global_step/sec: 926.584\n",
      "INFO:tensorflow:loss = 0.587368, step = 70201 (0.109 sec)\n",
      "INFO:tensorflow:global_step/sec: 944.789\n",
      "INFO:tensorflow:loss = 12.6059, step = 70301 (0.106 sec)\n",
      "INFO:tensorflow:global_step/sec: 844.946\n",
      "INFO:tensorflow:loss = 1.60016, step = 70401 (0.118 sec)\n",
      "INFO:tensorflow:global_step/sec: 939.555\n",
      "INFO:tensorflow:loss = 1.25831, step = 70501 (0.108 sec)\n",
      "INFO:tensorflow:global_step/sec: 973.208\n",
      "INFO:tensorflow:loss = 1.01988, step = 70601 (0.102 sec)\n",
      "INFO:tensorflow:global_step/sec: 866.227\n",
      "INFO:tensorflow:loss = 1.54736, step = 70701 (0.116 sec)\n",
      "INFO:tensorflow:global_step/sec: 982.724\n",
      "INFO:tensorflow:loss = 0.512908, step = 70801 (0.101 sec)\n",
      "INFO:tensorflow:global_step/sec: 861.646\n",
      "INFO:tensorflow:loss = 0.310208, step = 70901 (0.116 sec)\n",
      "INFO:tensorflow:global_step/sec: 913.788\n",
      "INFO:tensorflow:loss = 0.105568, step = 71001 (0.109 sec)\n",
      "INFO:tensorflow:global_step/sec: 859.797\n",
      "INFO:tensorflow:loss = 1.21487, step = 71101 (0.117 sec)\n",
      "INFO:tensorflow:global_step/sec: 818.38\n",
      "INFO:tensorflow:loss = 22.3264, step = 71201 (0.122 sec)\n",
      "INFO:tensorflow:global_step/sec: 827.772\n",
      "INFO:tensorflow:loss = 0.575798, step = 71301 (0.122 sec)\n",
      "INFO:tensorflow:global_step/sec: 956.028\n",
      "INFO:tensorflow:loss = 0.00587093, step = 71401 (0.103 sec)\n",
      "INFO:tensorflow:global_step/sec: 976.362\n",
      "INFO:tensorflow:loss = 9.22343, step = 71501 (0.102 sec)\n",
      "INFO:tensorflow:global_step/sec: 910.163\n",
      "INFO:tensorflow:loss = 8.71265, step = 71601 (0.111 sec)\n",
      "INFO:tensorflow:global_step/sec: 793.602\n",
      "INFO:tensorflow:loss = 0.0831629, step = 71701 (0.125 sec)\n",
      "INFO:tensorflow:global_step/sec: 797.886\n",
      "INFO:tensorflow:loss = 0.0963722, step = 71801 (0.126 sec)\n",
      "INFO:tensorflow:global_step/sec: 842.368\n",
      "INFO:tensorflow:loss = 0.889333, step = 71901 (0.117 sec)\n",
      "INFO:tensorflow:global_step/sec: 843.171\n",
      "INFO:tensorflow:loss = 1.66328, step = 72001 (0.119 sec)\n",
      "INFO:tensorflow:global_step/sec: 886.693\n",
      "INFO:tensorflow:loss = 0.0570621, step = 72101 (0.116 sec)\n",
      "INFO:tensorflow:global_step/sec: 831.73\n",
      "INFO:tensorflow:loss = 1.86416, step = 72201 (0.117 sec)\n"
     ]
    },
    {
     "name": "stdout",
     "output_type": "stream",
     "text": [
      "INFO:tensorflow:global_step/sec: 928.436\n",
      "INFO:tensorflow:loss = 2.43803, step = 72301 (0.108 sec)\n",
      "INFO:tensorflow:global_step/sec: 988.656\n",
      "INFO:tensorflow:loss = 0.441444, step = 72401 (0.101 sec)\n",
      "INFO:tensorflow:global_step/sec: 1002.78\n",
      "INFO:tensorflow:loss = 4.67226, step = 72501 (0.105 sec)\n",
      "INFO:tensorflow:global_step/sec: 866.832\n",
      "INFO:tensorflow:loss = 0.0854058, step = 72601 (0.112 sec)\n",
      "INFO:tensorflow:global_step/sec: 900.396\n",
      "INFO:tensorflow:loss = 0.00490636, step = 72701 (0.109 sec)\n",
      "INFO:tensorflow:global_step/sec: 955.662\n",
      "INFO:tensorflow:loss = 0.445738, step = 72801 (0.105 sec)\n",
      "INFO:tensorflow:global_step/sec: 884.971\n",
      "INFO:tensorflow:loss = 0.288682, step = 72901 (0.114 sec)\n",
      "INFO:tensorflow:global_step/sec: 828.105\n",
      "INFO:tensorflow:loss = 0.120724, step = 73001 (0.121 sec)\n",
      "INFO:tensorflow:global_step/sec: 935.832\n",
      "INFO:tensorflow:loss = 3.20987, step = 73101 (0.105 sec)\n",
      "INFO:tensorflow:global_step/sec: 964.252\n",
      "INFO:tensorflow:loss = 0.21081, step = 73201 (0.105 sec)\n",
      "INFO:tensorflow:global_step/sec: 843.637\n",
      "INFO:tensorflow:loss = 9.987, step = 73301 (0.117 sec)\n",
      "INFO:tensorflow:global_step/sec: 949.169\n",
      "INFO:tensorflow:loss = 20.102, step = 73401 (0.106 sec)\n",
      "INFO:tensorflow:global_step/sec: 743.732\n",
      "INFO:tensorflow:loss = 0.0137785, step = 73501 (0.134 sec)\n",
      "INFO:tensorflow:global_step/sec: 887.25\n",
      "INFO:tensorflow:loss = 9.00829, step = 73601 (0.113 sec)\n",
      "INFO:tensorflow:global_step/sec: 921.155\n",
      "INFO:tensorflow:loss = 1.43454, step = 73701 (0.108 sec)\n",
      "INFO:tensorflow:global_step/sec: 914.878\n",
      "INFO:tensorflow:loss = 22.4542, step = 73801 (0.108 sec)\n",
      "INFO:tensorflow:global_step/sec: 908.405\n",
      "INFO:tensorflow:loss = 0.00335355, step = 73901 (0.111 sec)\n",
      "INFO:tensorflow:global_step/sec: 967.488\n",
      "INFO:tensorflow:loss = 11.7736, step = 74001 (0.102 sec)\n",
      "INFO:tensorflow:global_step/sec: 1005.6\n",
      "INFO:tensorflow:loss = 0.409538, step = 74101 (0.100 sec)\n",
      "INFO:tensorflow:global_step/sec: 1014.59\n",
      "INFO:tensorflow:loss = 0.0276232, step = 74201 (0.098 sec)\n",
      "INFO:tensorflow:global_step/sec: 932.544\n",
      "INFO:tensorflow:loss = 1.38435, step = 74301 (0.108 sec)\n",
      "INFO:tensorflow:global_step/sec: 895.884\n",
      "INFO:tensorflow:loss = 0.0192936, step = 74401 (0.113 sec)\n",
      "INFO:tensorflow:global_step/sec: 898.815\n",
      "INFO:tensorflow:loss = 0.00196308, step = 74501 (0.109 sec)\n",
      "INFO:tensorflow:global_step/sec: 941.766\n",
      "INFO:tensorflow:loss = 0.0622758, step = 74601 (0.106 sec)\n",
      "INFO:tensorflow:global_step/sec: 967.192\n",
      "INFO:tensorflow:loss = 10.6974, step = 74701 (0.103 sec)\n",
      "INFO:tensorflow:global_step/sec: 853.721\n",
      "INFO:tensorflow:loss = 1.84719, step = 74801 (0.117 sec)\n",
      "INFO:tensorflow:global_step/sec: 948.309\n",
      "INFO:tensorflow:loss = 0.00512884, step = 74901 (0.107 sec)\n",
      "INFO:tensorflow:global_step/sec: 923.327\n",
      "INFO:tensorflow:loss = 2.51416, step = 75001 (0.107 sec)\n",
      "INFO:tensorflow:global_step/sec: 970.769\n",
      "INFO:tensorflow:loss = 0.519113, step = 75101 (0.103 sec)\n",
      "INFO:tensorflow:global_step/sec: 898.224\n",
      "INFO:tensorflow:loss = 0.0112264, step = 75201 (0.113 sec)\n",
      "INFO:tensorflow:global_step/sec: 798.822\n",
      "INFO:tensorflow:loss = 0.68189, step = 75301 (0.125 sec)\n",
      "INFO:tensorflow:global_step/sec: 883.454\n",
      "INFO:tensorflow:loss = 0.00948474, step = 75401 (0.113 sec)\n",
      "INFO:tensorflow:global_step/sec: 857.443\n",
      "INFO:tensorflow:loss = 3.5526, step = 75501 (0.115 sec)\n",
      "INFO:tensorflow:global_step/sec: 839.924\n",
      "INFO:tensorflow:loss = 0.106771, step = 75601 (0.119 sec)\n",
      "INFO:tensorflow:global_step/sec: 816.139\n",
      "INFO:tensorflow:loss = 1.8477, step = 75701 (0.123 sec)\n",
      "INFO:tensorflow:global_step/sec: 780.699\n",
      "INFO:tensorflow:loss = 0.816993, step = 75801 (0.128 sec)\n",
      "INFO:tensorflow:global_step/sec: 971.867\n",
      "INFO:tensorflow:loss = 0.454285, step = 75901 (0.103 sec)\n",
      "INFO:tensorflow:global_step/sec: 966.96\n",
      "INFO:tensorflow:loss = 0.591388, step = 76001 (0.103 sec)\n",
      "INFO:tensorflow:global_step/sec: 996.925\n",
      "INFO:tensorflow:loss = 0.310851, step = 76101 (0.100 sec)\n",
      "INFO:tensorflow:global_step/sec: 814.77\n",
      "INFO:tensorflow:loss = 0.165119, step = 76201 (0.124 sec)\n",
      "INFO:tensorflow:global_step/sec: 860.047\n",
      "INFO:tensorflow:loss = 0.00456627, step = 76301 (0.116 sec)\n",
      "INFO:tensorflow:global_step/sec: 859.529\n",
      "INFO:tensorflow:loss = 0.0335743, step = 76401 (0.117 sec)\n",
      "INFO:tensorflow:global_step/sec: 852.314\n",
      "INFO:tensorflow:loss = 0.914365, step = 76501 (0.117 sec)\n",
      "INFO:tensorflow:global_step/sec: 880.844\n",
      "INFO:tensorflow:loss = 0.629845, step = 76601 (0.113 sec)\n",
      "INFO:tensorflow:global_step/sec: 843.525\n",
      "INFO:tensorflow:loss = 0.109946, step = 76701 (0.118 sec)\n",
      "INFO:tensorflow:global_step/sec: 1004.75\n",
      "INFO:tensorflow:loss = 0.0535064, step = 76801 (0.100 sec)\n",
      "INFO:tensorflow:global_step/sec: 974.404\n",
      "INFO:tensorflow:loss = 0.0025462, step = 76901 (0.103 sec)\n",
      "INFO:tensorflow:global_step/sec: 888.396\n",
      "INFO:tensorflow:loss = 0.109053, step = 77001 (0.113 sec)\n",
      "INFO:tensorflow:global_step/sec: 812.115\n",
      "INFO:tensorflow:loss = 0.0503571, step = 77101 (0.125 sec)\n",
      "INFO:tensorflow:global_step/sec: 931.639\n",
      "INFO:tensorflow:loss = 0.0083089, step = 77201 (0.106 sec)\n",
      "INFO:tensorflow:global_step/sec: 861.533\n",
      "INFO:tensorflow:loss = 21.4396, step = 77301 (0.117 sec)\n",
      "INFO:tensorflow:global_step/sec: 899.824\n",
      "INFO:tensorflow:loss = 0.930846, step = 77401 (0.110 sec)\n",
      "INFO:tensorflow:global_step/sec: 887.558\n",
      "INFO:tensorflow:loss = 0.276632, step = 77501 (0.114 sec)\n",
      "INFO:tensorflow:global_step/sec: 973.687\n",
      "INFO:tensorflow:loss = 0.845923, step = 77601 (0.102 sec)\n",
      "INFO:tensorflow:global_step/sec: 921.141\n",
      "INFO:tensorflow:loss = 0.0028781, step = 77701 (0.110 sec)\n",
      "INFO:tensorflow:global_step/sec: 952.519\n",
      "INFO:tensorflow:loss = 16.834, step = 77801 (0.103 sec)\n",
      "INFO:tensorflow:global_step/sec: 865.408\n",
      "INFO:tensorflow:loss = 6.15734, step = 77901 (0.118 sec)\n",
      "INFO:tensorflow:global_step/sec: 904.861\n",
      "INFO:tensorflow:loss = 0.00344702, step = 78001 (0.107 sec)\n",
      "INFO:tensorflow:global_step/sec: 858.989\n",
      "INFO:tensorflow:loss = 0.00168686, step = 78101 (0.118 sec)\n",
      "INFO:tensorflow:global_step/sec: 927.217\n",
      "INFO:tensorflow:loss = 1.95506, step = 78201 (0.106 sec)\n",
      "INFO:tensorflow:global_step/sec: 832.286\n",
      "INFO:tensorflow:loss = 0.561312, step = 78301 (0.122 sec)\n",
      "INFO:tensorflow:global_step/sec: 825.025\n",
      "INFO:tensorflow:loss = 2.43616, step = 78401 (0.120 sec)\n",
      "INFO:tensorflow:global_step/sec: 947.456\n",
      "INFO:tensorflow:loss = 3.46249, step = 78501 (0.105 sec)\n",
      "INFO:tensorflow:global_step/sec: 968.424\n",
      "INFO:tensorflow:loss = 0.33744, step = 78601 (0.104 sec)\n",
      "INFO:tensorflow:global_step/sec: 1009.96\n",
      "INFO:tensorflow:loss = 0.00455615, step = 78701 (0.099 sec)\n",
      "INFO:tensorflow:global_step/sec: 889.364\n",
      "INFO:tensorflow:loss = 0.211665, step = 78801 (0.113 sec)\n",
      "INFO:tensorflow:global_step/sec: 786.894\n",
      "INFO:tensorflow:loss = 1.26676, step = 78901 (0.127 sec)\n",
      "INFO:tensorflow:global_step/sec: 826.648\n",
      "INFO:tensorflow:loss = 0.210601, step = 79001 (0.121 sec)\n",
      "INFO:tensorflow:global_step/sec: 862.282\n",
      "INFO:tensorflow:loss = 3.37802, step = 79101 (0.116 sec)\n",
      "INFO:tensorflow:global_step/sec: 815.284\n",
      "INFO:tensorflow:loss = 0.23336, step = 79201 (0.122 sec)\n",
      "INFO:tensorflow:global_step/sec: 899.859\n",
      "INFO:tensorflow:loss = 0.156125, step = 79301 (0.111 sec)\n",
      "INFO:tensorflow:global_step/sec: 957.02\n",
      "INFO:tensorflow:loss = 5.00181, step = 79401 (0.104 sec)\n",
      "INFO:tensorflow:global_step/sec: 977.349\n",
      "INFO:tensorflow:loss = 0.0225574, step = 79501 (0.102 sec)\n",
      "INFO:tensorflow:global_step/sec: 963.909\n",
      "INFO:tensorflow:loss = 1.43835, step = 79601 (0.107 sec)\n",
      "INFO:tensorflow:global_step/sec: 834.805\n",
      "INFO:tensorflow:loss = 0.117447, step = 79701 (0.117 sec)\n",
      "INFO:tensorflow:global_step/sec: 837.68\n",
      "INFO:tensorflow:loss = 0.0627648, step = 79801 (0.119 sec)\n",
      "INFO:tensorflow:global_step/sec: 819.857\n",
      "INFO:tensorflow:loss = 0.25146, step = 79901 (0.122 sec)\n",
      "INFO:tensorflow:Saving checkpoints for 80000 into /tmp/tmpwzbtpcwi/model.ckpt.\n",
      "INFO:tensorflow:Loss for final step: 9.34977.\n"
     ]
    },
    {
     "data": {
      "text/plain": [
       "DNNClassifier(params={'head': <tensorflow.contrib.learn.python.learn.estimators.head._MultiClassHead object at 0x7fb6fd204b00>, 'hidden_units': [10, 20, 10], 'feature_columns': (_RealValuedColumn(column_name='', dimension=8, default_value=None, dtype=tf.float32, normalizer=None),), 'optimizer': None, 'activation_fn': <function relu at 0x7fb719933598>, 'dropout': None, 'gradient_clip_norm': None, 'embedding_lr_multipliers': None, 'input_layer_min_slice_size': None})"
      ]
     },
     "execution_count": 59,
     "metadata": {},
     "output_type": "execute_result"
    }
   ],
   "source": [
    "classifier.fit(X_train, y_train, steps=80000, batch_size=128)"
   ]
  },
  {
   "cell_type": "code",
   "execution_count": 60,
   "metadata": {},
   "outputs": [
    {
     "name": "stdout",
     "output_type": "stream",
     "text": [
      "WARNING:tensorflow:From /home/jonj/anaconda3/lib/python3.6/site-packages/tensorflow/contrib/learn/python/learn/estimators/dnn.py:433: calling BaseEstimator.predict (from tensorflow.contrib.learn.python.learn.estimators.estimator) with x is deprecated and will be removed after 2016-12-01.\n",
      "Instructions for updating:\n",
      "Estimator is decoupled from Scikit Learn interface by moving into\n",
      "separate class SKCompat. Arguments x, y and batch_size are only\n",
      "available in the SKCompat class, Estimator will only accept input_fn.\n",
      "Example conversion:\n",
      "  est = Estimator(...) -> est = SKCompat(Estimator(...))\n",
      "WARNING:tensorflow:float64 is not supported by many models, consider casting to float32.\n",
      "INFO:tensorflow:Restoring parameters from /tmp/tmpwzbtpcwi/model.ckpt-80000\n"
     ]
    }
   ],
   "source": [
    "cancellation_preds = list(classifier.predict_classes(X_test))"
   ]
  },
  {
   "cell_type": "code",
   "execution_count": 61,
   "metadata": {},
   "outputs": [
    {
     "name": "stdout",
     "output_type": "stream",
     "text": [
      "             precision    recall  f1-score   support\n",
      "\n",
      "          0       0.88      1.00      0.93     25996\n",
      "          1       0.00      0.00      0.00       327\n",
      "          2       1.00      0.10      0.18      3676\n",
      "\n",
      "avg / total       0.88      0.88      0.83     29999\n",
      "\n"
     ]
    }
   ],
   "source": [
    "print(classification_report(y_test, cancellation_preds))"
   ]
  },
  {
   "cell_type": "code",
   "execution_count": 62,
   "metadata": {},
   "outputs": [
    {
     "data": {
      "text/plain": [
       "0    29630\n",
       "2      361\n",
       "1        8\n",
       "dtype: int64"
      ]
     },
     "execution_count": 62,
     "metadata": {},
     "output_type": "execute_result"
    }
   ],
   "source": [
    "pd.Series(cancellation_preds).value_counts()"
   ]
  },
  {
   "cell_type": "markdown",
   "metadata": {},
   "source": [
    "It appears that the predictions are not very good, even with many fewer or additional training steps (a number of different values in [200, 200000] were attempted) and different settings of hidden layer(s). The proportion of cancellations in January being predicted is far less than our naive assumption of around 1.05%. In itself, such should not be a problem - the predictions would merely be strongly optimistic - but it seems difficult to believe in these predictions. It makes little sense to continue by constructing a list of probabilities and write that to a file."
   ]
  },
  {
   "cell_type": "markdown",
   "metadata": {},
   "source": [
    "***\n",
    "\n",
    "## More of a Manual Prediction Method\n",
    "\n",
    "It seems the best possible course of action at this point is to predict cancellation thusly:\n",
    "* Policies that have already been cancelled have a 0% probability of being cancelled.\n",
    "Of the remaining policies:\n",
    "* There is to be a baseline probability, of being cancelled at all, equal to the corresponding ratio in monthRatiosDF. The ratios in monthRatiosDF are the percentage of people who enrolled in a given time frame and cancelled their policies in 2016. The exception, in accordance with the previous observations, would be the year 2016. These policyholders will be assigned a probability equivalent to that of policyholders that enrolled in 2015. This is based on the assumption, which may not be valid, that the 2015 percentages should be quite similar to the 2016 percentages.\n",
    "* The baseline probability of being cancelled in January is the product of the former baseline percentage and 8.07%. 0.0807 was found previously as the proportion of the number of policies cancelled in January 2016 to the number of policies cancelled in other months of 2016.\n",
    "* The probability of a policy being cancelled is further adjusted by its value of a feature such as MonthlyPremium, weighted by the Pearson correlation between that feature and cancellation.\n",
    "\n",
    "As a side note: based on the correlations in the given data, the higher a customer's monthly premium, the less likely the customer is to cancel his or her policy; similarly, the greater the age of the policy, the less likely cancellation is; the greater the number of claims, the less likely cancellation is; and the higher the percentage of the customer's claims having been paid, the less likely the customer is to cancel."
   ]
  },
  {
   "cell_type": "code",
   "execution_count": 63,
   "metadata": {
    "collapsed": true
   },
   "outputs": [],
   "source": [
    "predictionData = policyDF[['PolicyId', 'Cancelled', 'MonthlyPremium', 'Duration', 'NumberOfClaims']]"
   ]
  },
  {
   "cell_type": "code",
   "execution_count": 64,
   "metadata": {
    "collapsed": true
   },
   "outputs": [],
   "source": [
    "cancellationProbabilities = np.zeros(shape=(policyDF['PolicyId'].size, 5))"
   ]
  },
  {
   "cell_type": "code",
   "execution_count": 65,
   "metadata": {},
   "outputs": [],
   "source": [
    "corr_vals = predictionData.corr()['Cancelled']\n",
    "features = list(corr_vals.index)\n",
    "for i in range(policyDF['PolicyId'].size):\n",
    "    row = policyDF.iloc[i]\n",
    "    cancellationProbabilities[i][0] = row['PolicyId']\n",
    "    if not row['Cancelled']:\n",
    "        baseline_prob = monthRatiosDF[monthRatiosDF['EnrollDate'] == row['EnrollDate2']]['Ratio'].iloc[0] * 0.0807\n",
    "        for j in range(2, len(features)):\n",
    "            \"\"\"\n",
    "            These policies haven't been cancelled so their value in that column is 0. \n",
    "            If we include that correlation, we have the addition of (1 * 0 / 100 = 0).\n",
    "            \n",
    "            Correlation is related to how much an increase in the independent variable is associated\n",
    "            with an increase in the dependent variable. In this case, our dependent variable\n",
    "            is whether one will cancel or not and the range of values it can assume is [0, 1]. \n",
    "            A value of 1 represents that one has cancelled. Put another way, the square of the correlation value\n",
    "            defines that amount of increase in the dependent variable that results in a 100% increase\n",
    "            in the probability of cancellation. We wish to find the likelihood of each party cancelling.\n",
    "            One approach is to simply take the baseline probability and add the product of the value of \n",
    "            each feature and its correlation with cancellation, divided by 100 to account for the fact \n",
    "            that each increase of 1 in cancellation value represents a 100% increase in cancellation \n",
    "            likelihood, and all divided by 100 to account for the fact that 1 represents 100%.\n",
    "            However, this presumes that all of the features being considered in addition to \"Cancelled\" are\n",
    "            uncorrelated. This is clearly not true. Duration is too intricately correlated with the\n",
    "            other features, so we cannot consider it if we wish to use the other given features. The same\n",
    "            goes for many of our other features. It does not seem reasonable to assert that the feature\n",
    "            values are conditionally independent, either. Further, relationships do not seem likely to be linear.\n",
    "            In the absence of further information, though, we must assume that they are linear. The results of\n",
    "            calculations based on estimated nonlinear relationships would be questionable, seeing as how\n",
    "            the linear relationships found thus far, while weak, are at least relatively certain.\n",
    "            \n",
    "            Most of our information seems quite valuable \n",
    "            though, considering the number of features given. Perhaps the best course of action is to \n",
    "            compute probabilities modified by each of the given features, and then to take the arithmetic\n",
    "            mean of the results. To be fair, if conditional independence was a reasonable assumption\n",
    "            and/or more information was given, it seems likely that far superior predictions could have\n",
    "            been made, as the present are relatively simple.\n",
    "            Note that probabilities cannot be negative. In our case, they will not exceed 1, so we must\n",
    "            only account for negative calculations.\n",
    "            \"\"\"\n",
    "            proba = baseline_prob + (row[features[j]] * corr_vals.iloc[j]**2 / 10000)\n",
    "            cancellationProbabilities[i][j-1] = proba if proba >= 0 else 0"
   ]
  },
  {
   "cell_type": "markdown",
   "metadata": {},
   "source": [
    "Now we have a probability that the policyholder corresponding to each policy will cancel in January 2017. Of course, probabilities range from 0 to 1 and negative probabilities represent a likelihood of 0%. Thus, if we alter our results accordingly, we will have an acceptable set of probabilities from the given information"
   ]
  },
  {
   "cell_type": "code",
   "execution_count": 66,
   "metadata": {
    "collapsed": true
   },
   "outputs": [],
   "source": [
    "for i in range(cancellationProbabilities.shape[0]):\n",
    "    if cancellationProbabilities[i][1]:\n",
    "        amean = np.mean(cancellationProbabilities[i,1:])\n",
    "        cancellationProbabilities[i][1] = amean"
   ]
  },
  {
   "cell_type": "markdown",
   "metadata": {},
   "source": [
    "Now that we have a set of predictions, let us store the results in a dataframe and write them to disk. We can also take a look at our predicted probabilities."
   ]
  },
  {
   "cell_type": "code",
   "execution_count": 83,
   "metadata": {},
   "outputs": [
    {
     "data": {
      "text/plain": [
       "count    99995.000000\n",
       "mean         0.007232\n",
       "std          0.003697\n",
       "min          0.000000\n",
       "15%          0.002072\n",
       "16%          0.003281\n",
       "50%          0.007621\n",
       "88%          0.011544\n",
       "89%          0.011744\n",
       "max          0.022798\n",
       "Name: Probability, dtype: float64"
      ]
     },
     "execution_count": 83,
     "metadata": {},
     "output_type": "execute_result"
    }
   ],
   "source": [
    "preds = pd.DataFrame(cancellationProbabilities[:,:2], columns=[\"PolicyId\", \"Probability\"])\n",
    "preds['Probability'].describe(percentiles=[.15,.16,.88,.89])"
   ]
  },
  {
   "cell_type": "code",
   "execution_count": 68,
   "metadata": {},
   "outputs": [
    {
     "name": "stdout",
     "output_type": "stream",
     "text": [
      "68% of baseline ratios should be between: 0.0028797571603106573 and 0.011623316897245467\n",
      "  (This assumes monthly cancellation ratios are normally distributed)\n"
     ]
    }
   ],
   "source": [
    "vals = [monthRatiosDF['Ratio'].describe()['mean'] * 0.0807, monthRatiosDF['Ratio'].describe()['std'] * 0.0807]\n",
    "print('68% of baseline ratios should be between: {} and {}\\n  (This assumes monthly cancellation ratios are normally distributed)'.format((vals[0] - vals[1]), (vals[0] + vals[1])))"
   ]
  },
  {
   "cell_type": "code",
   "execution_count": 69,
   "metadata": {},
   "outputs": [
    {
     "data": {
      "text/plain": [
       "0.010592407619999999"
      ]
     },
     "execution_count": 69,
     "metadata": {},
     "output_type": "execute_result"
    }
   ],
   "source": [
    ".1312566*.0807"
   ]
  },
  {
   "cell_type": "markdown",
   "metadata": {},
   "source": [
    "The probability values look reasonable and we'll save them. The values do not drop below 0 and assuming cancellation probabilities are normally distributed, more than 73% (88% - 15%) are between 0.0028798 and 0.0116 (0.005339 - 0.003318 and 0.005339 + 0.003318, respectively - the baseline mean and standard deviation, respectively). The baseline values presumed uniformity of policyholders (i.e., without regard for the age of relevant policies, the size of monthly payments, etc.) and an extent of randomness, so these percentages, while rough, should be slightly better. However, no greater probabilities were calculated because a linear relationship between features and cancellation was assumed and correlations were negative. With more information and different assumptions, this may have been different. I believe linearity is a dubious assumption, especially after viewing the above visualizations but as stated previously, figures with respect to nonlinear relationships would be a result of guesswork and quite questionable. Outliers could pose a problem but based on the visualizations above, outliers do not pose a significant problem. A neural network is based on the principle of logistic regression so the above attempt at using a deep neural network to classify had a chance of capturing the probable nonlinearities, but the corresponding predictions seemed dubious. The recorded predictions, while admittedly rough, at least seem more credible.\n",
    "\n",
    "Obviously, the probability of cancelling at __any__ time in the future is significantly greater. As per the instructions, though, such probabilities (e.g., any cancellation whatsoever) were not output."
   ]
  },
  {
   "cell_type": "code",
   "execution_count": 84,
   "metadata": {
    "collapsed": true
   },
   "outputs": [],
   "source": [
    "preds.to_csv('cancellation_probabilities.csv', index=False)"
   ]
  }
 ],
 "metadata": {
  "kernelspec": {
   "display_name": "Python 3",
   "language": "python",
   "name": "python3"
  },
  "language_info": {
   "codemirror_mode": {
    "name": "ipython",
    "version": 3
   },
   "file_extension": ".py",
   "mimetype": "text/x-python",
   "name": "python",
   "nbconvert_exporter": "python",
   "pygments_lexer": "ipython3",
   "version": "3.6.1"
  }
 },
 "nbformat": 4,
 "nbformat_minor": 2
}
